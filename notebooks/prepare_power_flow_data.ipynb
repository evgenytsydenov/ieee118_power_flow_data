{
 "cells": [
  {
   "cell_type": "markdown",
   "source": [
    "# Prepare Power Flow Data"
   ],
   "metadata": {
    "collapsed": false,
    "pycharm": {
     "name": "#%% md\n"
    }
   }
  },
  {
   "cell_type": "markdown",
   "source": [
    "This notebook presents the process of data preparation for building power flow regimes. The process is separated into stages (see, [DVC config](../dvc.yaml)):\n",
    " - \"parse\" --- extract necessary parameters from the raw data\n",
    " - \"transform\" --- combine and convert data to use in further steps\n",
    " - \"prepare\" --- build final dataset\n",
    " - \"model\" --- build power flow cases\n",
    "\n",
    "The naming of variables in the final dataset corresponds to the [project convention](../convention.md).\n",
    "\n",
    "Since the NREL-118 dataset is mostly intended for OPF tasks, it skips a lot of information that is not necessary to solve these kind of tasks. Thus, to append the data with missing info, [JEAS-118 dataset](http://motor.ece.iit.edu/data/JEAS_IEEE118.doc) is used as the primary source of NREL-118. The following sections describe all the stages of data processing and all the decisions made when preparing the final dataset."
   ],
   "metadata": {
    "collapsed": false,
    "pycharm": {
     "name": "#%% md\n"
    }
   }
  },
  {
   "cell_type": "code",
   "execution_count": 1,
   "outputs": [],
   "source": [
    "import os\n",
    "\n",
    "from src.data import (\n",
    "    parse_nrel118_buses,\n",
    "    prepare_buses,\n",
    "    parse_nrel118_lines,\n",
    "    parse_jeas118_lines,\n",
    "    parse_jeas118_loads,\n",
    "    parse_jeas118_trafos,\n",
    "    parse_nrel118_load_ts,\n",
    "    prepare_branches,\n",
    "    prepare_loads,\n",
    "    transform_loads,\n",
    "    prepare_loads_ts,\n",
    ")"
   ],
   "metadata": {
    "collapsed": false,
    "pycharm": {
     "name": "#%%\n"
    }
   }
  },
  {
   "cell_type": "markdown",
   "source": [
    "## Buses"
   ],
   "metadata": {
    "collapsed": false,
    "pycharm": {
     "name": "#%% md\n"
    }
   }
  },
  {
   "cell_type": "markdown",
   "source": [
    "To build a power flow model, the following information about buses is necessary:\n",
    "- rated voltage level\n",
    "- if the bus is in service or out of service\n",
    "- name (optional)\n",
    "- region (optional)"
   ],
   "metadata": {
    "collapsed": false,
    "pycharm": {
     "name": "#%% md\n"
    }
   }
  },
  {
   "cell_type": "markdown",
   "source": [
    "Let's load and parse bus data of NREL-118 power system:"
   ],
   "metadata": {
    "collapsed": false,
    "pycharm": {
     "name": "#%% md\n"
    }
   }
  },
  {
   "cell_type": "code",
   "execution_count": 2,
   "outputs": [
    {
     "data": {
      "text/plain": "    name region  load_participation_factor\n0  bus_1     r1                   0.047169\n1  bus_2     r1                   0.018496",
      "text/html": "<div>\n<style scoped>\n    .dataframe tbody tr th:only-of-type {\n        vertical-align: middle;\n    }\n\n    .dataframe tbody tr th {\n        vertical-align: top;\n    }\n\n    .dataframe thead th {\n        text-align: right;\n    }\n</style>\n<table border=\"1\" class=\"dataframe\">\n  <thead>\n    <tr style=\"text-align: right;\">\n      <th></th>\n      <th>name</th>\n      <th>region</th>\n      <th>load_participation_factor</th>\n    </tr>\n  </thead>\n  <tbody>\n    <tr>\n      <th>0</th>\n      <td>bus_1</td>\n      <td>r1</td>\n      <td>0.047169</td>\n    </tr>\n    <tr>\n      <th>1</th>\n      <td>bus_2</td>\n      <td>r1</td>\n      <td>0.018496</td>\n    </tr>\n  </tbody>\n</table>\n</div>"
     },
     "execution_count": 2,
     "metadata": {},
     "output_type": "execute_result"
    }
   ],
   "source": [
    "path_nrel118_buses = os.path.join(\n",
    "    \"..\", \"data\", \"raw\", \"nrel118\", \"additional-files-mti-118\", \"Buses.csv\"\n",
    ")\n",
    "nrel118_buses = parse_nrel118_buses(raw_data=path_nrel118_buses)\n",
    "nrel118_buses.head(2)"
   ],
   "metadata": {
    "collapsed": false,
    "pycharm": {
     "name": "#%%\n"
    }
   }
  },
  {
   "cell_type": "markdown",
   "source": [
    "The NREL-118 dataset contains only names and regions of buses (\"load_participation_factor\" is for load modelling, see [Section \"Loads\"](#loads)). To add missing values, it is assumed the following:\n",
    "- all buses are in service\n",
    "- rated voltage level of buses 8, 9, 10, 26, 30, 38, 63, 64, 65, 68, 81, 116 equals to 345 kV, the rest of buses has the voltage level of 138 kV. This corresponds to transformers data from JEAS-118 dataset."
   ],
   "metadata": {
    "collapsed": false,
    "pycharm": {
     "name": "#%% md\n"
    }
   }
  },
  {
   "cell_type": "markdown",
   "source": [
    "Thus, the final bus data look as follows:"
   ],
   "metadata": {
    "collapsed": false,
    "pycharm": {
     "name": "#%% md\n"
    }
   }
  },
  {
   "cell_type": "code",
   "execution_count": 3,
   "outputs": [
    {
     "data": {
      "text/plain": "    name region  in_service  v_rated__kv\n0  bus_1     r1        True          138\n1  bus_2     r1        True          138",
      "text/html": "<div>\n<style scoped>\n    .dataframe tbody tr th:only-of-type {\n        vertical-align: middle;\n    }\n\n    .dataframe tbody tr th {\n        vertical-align: top;\n    }\n\n    .dataframe thead th {\n        text-align: right;\n    }\n</style>\n<table border=\"1\" class=\"dataframe\">\n  <thead>\n    <tr style=\"text-align: right;\">\n      <th></th>\n      <th>name</th>\n      <th>region</th>\n      <th>in_service</th>\n      <th>v_rated__kv</th>\n    </tr>\n  </thead>\n  <tbody>\n    <tr>\n      <th>0</th>\n      <td>bus_1</td>\n      <td>r1</td>\n      <td>True</td>\n      <td>138</td>\n    </tr>\n    <tr>\n      <th>1</th>\n      <td>bus_2</td>\n      <td>r1</td>\n      <td>True</td>\n      <td>138</td>\n    </tr>\n  </tbody>\n</table>\n</div>"
     },
     "execution_count": 3,
     "metadata": {},
     "output_type": "execute_result"
    }
   ],
   "source": [
    "buses = prepare_buses(parsed_data=nrel118_buses)\n",
    "buses.head(2)"
   ],
   "metadata": {
    "collapsed": false,
    "pycharm": {
     "name": "#%%\n"
    }
   }
  },
  {
   "cell_type": "markdown",
   "source": [
    "## Branches\n"
   ],
   "metadata": {
    "collapsed": false,
    "pycharm": {
     "name": "#%% md\n"
    }
   }
  },
  {
   "cell_type": "markdown",
   "source": [
    "\"Branches\" is a common term both for lines and transformers. The following parameters about branches are necessary to build models:\n",
    "- start / end buses of the branch\n",
    "- number of parallel branch systems\n",
    "- resistance\n",
    "- reactance\n",
    "- active conductance\n",
    "- in service or out of service\n",
    "- maximum power flow (optional)\n",
    "- transformation ratio if the branch is a transformer (optional)\n",
    "- name (optional)"
   ],
   "metadata": {
    "collapsed": false,
    "pycharm": {
     "name": "#%% md\n"
    }
   }
  },
  {
   "cell_type": "markdown",
   "source": [
    "Let's load and parse line data of NREL-118 power system:"
   ],
   "metadata": {
    "collapsed": false,
    "pycharm": {
     "name": "#%% md\n"
    }
   }
  },
  {
   "cell_type": "code",
   "execution_count": 4,
   "outputs": [
    {
     "data": {
      "text/plain": "       name from_bus to_bus  max_p__mw   x__pu   r__pu\n0  branch_1    bus_1  bus_2      600.0  0.0999  0.0303\n1  branch_2    bus_1  bus_3      600.0  0.0424  0.0129",
      "text/html": "<div>\n<style scoped>\n    .dataframe tbody tr th:only-of-type {\n        vertical-align: middle;\n    }\n\n    .dataframe tbody tr th {\n        vertical-align: top;\n    }\n\n    .dataframe thead th {\n        text-align: right;\n    }\n</style>\n<table border=\"1\" class=\"dataframe\">\n  <thead>\n    <tr style=\"text-align: right;\">\n      <th></th>\n      <th>name</th>\n      <th>from_bus</th>\n      <th>to_bus</th>\n      <th>max_p__mw</th>\n      <th>x__pu</th>\n      <th>r__pu</th>\n    </tr>\n  </thead>\n  <tbody>\n    <tr>\n      <th>0</th>\n      <td>branch_1</td>\n      <td>bus_1</td>\n      <td>bus_2</td>\n      <td>600.0</td>\n      <td>0.0999</td>\n      <td>0.0303</td>\n    </tr>\n    <tr>\n      <th>1</th>\n      <td>branch_2</td>\n      <td>bus_1</td>\n      <td>bus_3</td>\n      <td>600.0</td>\n      <td>0.0424</td>\n      <td>0.0129</td>\n    </tr>\n  </tbody>\n</table>\n</div>"
     },
     "execution_count": 4,
     "metadata": {},
     "output_type": "execute_result"
    }
   ],
   "source": [
    "path_nrel118_lines = os.path.join(\n",
    "    \"..\", \"data\", \"raw\", \"nrel118\", \"additional-files-mti-118\", \"Lines.csv\"\n",
    ")\n",
    "nrel118_lines = parse_nrel118_lines(raw_data=path_nrel118_lines)\n",
    "nrel118_lines.head(2)"
   ],
   "metadata": {
    "collapsed": false,
    "pycharm": {
     "name": "#%%\n"
    }
   }
  },
  {
   "cell_type": "markdown",
   "source": [
    "Since the information about active conductance and parallel number is skipped in the NREL-118 dataset, let's load it from the JEAS-118 dataset:"
   ],
   "metadata": {
    "collapsed": false,
    "pycharm": {
     "name": "#%% md\n"
    }
   }
  },
  {
   "cell_type": "code",
   "execution_count": 5,
   "outputs": [
    {
     "data": {
      "text/plain": "       name from_bus to_bus  parallel    b__pu\n0  branch_1    bus_1  bus_2         1  0.02540\n1  branch_2    bus_1  bus_3         1  0.01082",
      "text/html": "<div>\n<style scoped>\n    .dataframe tbody tr th:only-of-type {\n        vertical-align: middle;\n    }\n\n    .dataframe tbody tr th {\n        vertical-align: top;\n    }\n\n    .dataframe thead th {\n        text-align: right;\n    }\n</style>\n<table border=\"1\" class=\"dataframe\">\n  <thead>\n    <tr style=\"text-align: right;\">\n      <th></th>\n      <th>name</th>\n      <th>from_bus</th>\n      <th>to_bus</th>\n      <th>parallel</th>\n      <th>b__pu</th>\n    </tr>\n  </thead>\n  <tbody>\n    <tr>\n      <th>0</th>\n      <td>branch_1</td>\n      <td>bus_1</td>\n      <td>bus_2</td>\n      <td>1</td>\n      <td>0.02540</td>\n    </tr>\n    <tr>\n      <th>1</th>\n      <td>branch_2</td>\n      <td>bus_1</td>\n      <td>bus_3</td>\n      <td>1</td>\n      <td>0.01082</td>\n    </tr>\n  </tbody>\n</table>\n</div>"
     },
     "execution_count": 5,
     "metadata": {},
     "output_type": "execute_result"
    }
   ],
   "source": [
    "path_jeas118_lines = os.path.join(\"..\", \"data\", \"raw\", \"jeas118\", \"JEAS_IEEE118.doc\")\n",
    "jeas118_lines = parse_jeas118_lines(raw_data=path_jeas118_lines)\n",
    "jeas118_lines.head(2)"
   ],
   "metadata": {
    "collapsed": false,
    "pycharm": {
     "name": "#%%\n"
    }
   }
  },
  {
   "cell_type": "markdown",
   "source": [
    "In the NREL-118 dataset, transformers are presented as lines without values of transformation ratio. Therefore, these values will be loaded from JEAS-118 dataset:"
   ],
   "metadata": {
    "collapsed": false,
    "pycharm": {
     "name": "#%% md\n"
    }
   }
  },
  {
   "cell_type": "code",
   "execution_count": 6,
   "outputs": [
    {
     "data": {
      "text/plain": "      name from_bus  to_bus  parallel  trafo_ratio\n0  trafo_1    bus_8   bus_5         1        0.985\n1  trafo_2   bus_26  bus_25         1        0.960",
      "text/html": "<div>\n<style scoped>\n    .dataframe tbody tr th:only-of-type {\n        vertical-align: middle;\n    }\n\n    .dataframe tbody tr th {\n        vertical-align: top;\n    }\n\n    .dataframe thead th {\n        text-align: right;\n    }\n</style>\n<table border=\"1\" class=\"dataframe\">\n  <thead>\n    <tr style=\"text-align: right;\">\n      <th></th>\n      <th>name</th>\n      <th>from_bus</th>\n      <th>to_bus</th>\n      <th>parallel</th>\n      <th>trafo_ratio</th>\n    </tr>\n  </thead>\n  <tbody>\n    <tr>\n      <th>0</th>\n      <td>trafo_1</td>\n      <td>bus_8</td>\n      <td>bus_5</td>\n      <td>1</td>\n      <td>0.985</td>\n    </tr>\n    <tr>\n      <th>1</th>\n      <td>trafo_2</td>\n      <td>bus_26</td>\n      <td>bus_25</td>\n      <td>1</td>\n      <td>0.960</td>\n    </tr>\n  </tbody>\n</table>\n</div>"
     },
     "execution_count": 6,
     "metadata": {},
     "output_type": "execute_result"
    }
   ],
   "source": [
    "path_jeas118_trafos = os.path.join(\"..\", \"data\", \"raw\", \"jeas118\", \"JEAS_IEEE118.doc\")\n",
    "jeas118_trafos = parse_jeas118_trafos(raw_data=path_jeas118_trafos)\n",
    "jeas118_trafos.head(2)"
   ],
   "metadata": {
    "collapsed": false,
    "pycharm": {
     "name": "#%%\n"
    }
   }
  },
  {
   "cell_type": "markdown",
   "source": [
    "Thus, the final branch data look as follows:"
   ],
   "metadata": {
    "collapsed": false,
    "pycharm": {
     "name": "#%% md\n"
    }
   }
  },
  {
   "cell_type": "code",
   "execution_count": 7,
   "outputs": [
    {
     "data": {
      "text/plain": "       name from_bus to_bus parallel  in_service    r__ohm     x__ohm  \\\n0  branch_1    bus_1  bus_2        1        True  5.770332  19.024956   \n1  branch_2    bus_1  bus_3        1        True  2.456676   8.074656   \n\n        b__µs  trafo_ratio  max_i__ka  \n0  133.375341          NaN   2.510219  \n1   56.815795          NaN   2.510219  ",
      "text/html": "<div>\n<style scoped>\n    .dataframe tbody tr th:only-of-type {\n        vertical-align: middle;\n    }\n\n    .dataframe tbody tr th {\n        vertical-align: top;\n    }\n\n    .dataframe thead th {\n        text-align: right;\n    }\n</style>\n<table border=\"1\" class=\"dataframe\">\n  <thead>\n    <tr style=\"text-align: right;\">\n      <th></th>\n      <th>name</th>\n      <th>from_bus</th>\n      <th>to_bus</th>\n      <th>parallel</th>\n      <th>in_service</th>\n      <th>r__ohm</th>\n      <th>x__ohm</th>\n      <th>b__µs</th>\n      <th>trafo_ratio</th>\n      <th>max_i__ka</th>\n    </tr>\n  </thead>\n  <tbody>\n    <tr>\n      <th>0</th>\n      <td>branch_1</td>\n      <td>bus_1</td>\n      <td>bus_2</td>\n      <td>1</td>\n      <td>True</td>\n      <td>5.770332</td>\n      <td>19.024956</td>\n      <td>133.375341</td>\n      <td>NaN</td>\n      <td>2.510219</td>\n    </tr>\n    <tr>\n      <th>1</th>\n      <td>branch_2</td>\n      <td>bus_1</td>\n      <td>bus_3</td>\n      <td>1</td>\n      <td>True</td>\n      <td>2.456676</td>\n      <td>8.074656</td>\n      <td>56.815795</td>\n      <td>NaN</td>\n      <td>2.510219</td>\n    </tr>\n  </tbody>\n</table>\n</div>"
     },
     "execution_count": 7,
     "metadata": {},
     "output_type": "execute_result"
    }
   ],
   "source": [
    "branches = prepare_branches(\n",
    "    parsed_nrel118_lines=nrel118_lines,\n",
    "    parsed_jeas118_lines=jeas118_lines,\n",
    "    parsed_jeas118_trafos=jeas118_trafos,\n",
    "    prepared_buses=buses,\n",
    ")\n",
    "branches.head(2)"
   ],
   "metadata": {
    "collapsed": false,
    "pycharm": {
     "name": "#%%\n"
    }
   }
  },
  {
   "cell_type": "markdown",
   "source": [
    "## Loads"
   ],
   "metadata": {
    "collapsed": false,
    "pycharm": {
     "name": "#%% md\n"
    }
   }
  },
  {
   "cell_type": "markdown",
   "source": [
    "Here is the list of necessary load variables:\n",
    "\n",
    "- bus where the load is located\n",
    "- active and reactive power of the load\n",
    "- if the load is in service\n",
    "- name (optional)"
   ],
   "metadata": {
    "collapsed": false,
    "pycharm": {
     "name": "#%% md\n"
    }
   }
  },
  {
   "cell_type": "markdown",
   "source": [
    "The information about a part of the regional active load located in each bus is stored in variable \"load_participation_factor\" in the bus data of the NREL-118 dataset:"
   ],
   "metadata": {
    "collapsed": false,
    "pycharm": {
     "name": "#%% md\n"
    }
   }
  },
  {
   "cell_type": "code",
   "execution_count": 8,
   "outputs": [
    {
     "data": {
      "text/plain": "    name region  load_participation_factor\n0  bus_1     r1                   0.047169\n1  bus_2     r1                   0.018496",
      "text/html": "<div>\n<style scoped>\n    .dataframe tbody tr th:only-of-type {\n        vertical-align: middle;\n    }\n\n    .dataframe tbody tr th {\n        vertical-align: top;\n    }\n\n    .dataframe thead th {\n        text-align: right;\n    }\n</style>\n<table border=\"1\" class=\"dataframe\">\n  <thead>\n    <tr style=\"text-align: right;\">\n      <th></th>\n      <th>name</th>\n      <th>region</th>\n      <th>load_participation_factor</th>\n    </tr>\n  </thead>\n  <tbody>\n    <tr>\n      <th>0</th>\n      <td>bus_1</td>\n      <td>r1</td>\n      <td>0.047169</td>\n    </tr>\n    <tr>\n      <th>1</th>\n      <td>bus_2</td>\n      <td>r1</td>\n      <td>0.018496</td>\n    </tr>\n  </tbody>\n</table>\n</div>"
     },
     "execution_count": 8,
     "metadata": {},
     "output_type": "execute_result"
    }
   ],
   "source": [
    "nrel118_buses.head(2)"
   ],
   "metadata": {
    "collapsed": false,
    "pycharm": {
     "name": "#%%\n"
    }
   }
  },
  {
   "cell_type": "markdown",
   "source": [
    "Active load value of regions is stored in the time-series NREL-118 data:"
   ],
   "metadata": {
    "collapsed": false,
    "pycharm": {
     "name": "#%% md\n"
    }
   }
  },
  {
   "cell_type": "code",
   "execution_count": 9,
   "outputs": [
    {
     "data": {
      "text/plain": "             datetime           r1           r2           r3\n0 2024-01-01 00:00:00  5698.083154  1967.417090  2421.205928\n1 2024-01-01 01:00:00  5465.729600  1904.444801  2486.384086",
      "text/html": "<div>\n<style scoped>\n    .dataframe tbody tr th:only-of-type {\n        vertical-align: middle;\n    }\n\n    .dataframe tbody tr th {\n        vertical-align: top;\n    }\n\n    .dataframe thead th {\n        text-align: right;\n    }\n</style>\n<table border=\"1\" class=\"dataframe\">\n  <thead>\n    <tr style=\"text-align: right;\">\n      <th></th>\n      <th>datetime</th>\n      <th>r1</th>\n      <th>r2</th>\n      <th>r3</th>\n    </tr>\n  </thead>\n  <tbody>\n    <tr>\n      <th>0</th>\n      <td>2024-01-01 00:00:00</td>\n      <td>5698.083154</td>\n      <td>1967.417090</td>\n      <td>2421.205928</td>\n    </tr>\n    <tr>\n      <th>1</th>\n      <td>2024-01-01 01:00:00</td>\n      <td>5465.729600</td>\n      <td>1904.444801</td>\n      <td>2486.384086</td>\n    </tr>\n  </tbody>\n</table>\n</div>"
     },
     "execution_count": 9,
     "metadata": {},
     "output_type": "execute_result"
    }
   ],
   "source": [
    "path_nrel118_load_ts = os.path.join(\n",
    "    \"..\", \"data\", \"raw\", \"nrel118\", \"Input files\", \"RT\", \"Load\"\n",
    ")\n",
    "nrel118_loads_ts = parse_nrel118_load_ts(raw_data=path_nrel118_load_ts)\n",
    "nrel118_loads_ts.head(2)"
   ],
   "metadata": {
    "collapsed": false,
    "pycharm": {
     "name": "#%%\n"
    }
   }
  },
  {
   "cell_type": "markdown",
   "source": [
    "To calculate reactive power of loads, let's get the JEAS-118 data:"
   ],
   "metadata": {
    "collapsed": false,
    "pycharm": {
     "name": "#%% md\n"
    }
   }
  },
  {
   "cell_type": "code",
   "execution_count": 10,
   "outputs": [
    {
     "data": {
      "text/plain": "  bus_name  p__mw  q__mvar\n0    bus_1  54.14     8.66\n1    bus_2  21.23     9.55",
      "text/html": "<div>\n<style scoped>\n    .dataframe tbody tr th:only-of-type {\n        vertical-align: middle;\n    }\n\n    .dataframe tbody tr th {\n        vertical-align: top;\n    }\n\n    .dataframe thead th {\n        text-align: right;\n    }\n</style>\n<table border=\"1\" class=\"dataframe\">\n  <thead>\n    <tr style=\"text-align: right;\">\n      <th></th>\n      <th>bus_name</th>\n      <th>p__mw</th>\n      <th>q__mvar</th>\n    </tr>\n  </thead>\n  <tbody>\n    <tr>\n      <th>0</th>\n      <td>bus_1</td>\n      <td>54.14</td>\n      <td>8.66</td>\n    </tr>\n    <tr>\n      <th>1</th>\n      <td>bus_2</td>\n      <td>21.23</td>\n      <td>9.55</td>\n    </tr>\n  </tbody>\n</table>\n</div>"
     },
     "execution_count": 10,
     "metadata": {},
     "output_type": "execute_result"
    }
   ],
   "source": [
    "path_jeas118_load = os.path.join(\"..\", \"data\", \"raw\", \"jeas118\", \"JEAS_IEEE118.doc\")\n",
    "jeas118_loads = parse_jeas118_loads(raw_data=path_jeas118_load)\n",
    "jeas118_loads.head(2)"
   ],
   "metadata": {
    "collapsed": false,
    "pycharm": {
     "name": "#%%\n"
    }
   }
  },
  {
   "cell_type": "markdown",
   "source": [
    "The JEAS-118 load data will help to estimate the power factor of each load and define its reactive power at each moment of time using time-series data of active power of load:"
   ],
   "metadata": {
    "collapsed": false,
    "pycharm": {
     "name": "#%% md\n"
    }
   }
  },
  {
   "cell_type": "code",
   "execution_count": 11,
   "outputs": [
    {
     "data": {
      "text/plain": "     name bus_name region  load_participation_factor  load_power_factor\n0  load_1    bus_1     r1                   0.047169           0.987447\n1  load_2    bus_2     r1                   0.018496           0.911978",
      "text/html": "<div>\n<style scoped>\n    .dataframe tbody tr th:only-of-type {\n        vertical-align: middle;\n    }\n\n    .dataframe tbody tr th {\n        vertical-align: top;\n    }\n\n    .dataframe thead th {\n        text-align: right;\n    }\n</style>\n<table border=\"1\" class=\"dataframe\">\n  <thead>\n    <tr style=\"text-align: right;\">\n      <th></th>\n      <th>name</th>\n      <th>bus_name</th>\n      <th>region</th>\n      <th>load_participation_factor</th>\n      <th>load_power_factor</th>\n    </tr>\n  </thead>\n  <tbody>\n    <tr>\n      <th>0</th>\n      <td>load_1</td>\n      <td>bus_1</td>\n      <td>r1</td>\n      <td>0.047169</td>\n      <td>0.987447</td>\n    </tr>\n    <tr>\n      <th>1</th>\n      <td>load_2</td>\n      <td>bus_2</td>\n      <td>r1</td>\n      <td>0.018496</td>\n      <td>0.911978</td>\n    </tr>\n  </tbody>\n</table>\n</div>"
     },
     "execution_count": 11,
     "metadata": {},
     "output_type": "execute_result"
    }
   ],
   "source": [
    "transformed_loads = transform_loads(\n",
    "    parsed_nrel118_buses=nrel118_buses, parsed_jeas118_loads=jeas118_loads\n",
    ")\n",
    "transformed_loads.head(2)"
   ],
   "metadata": {
    "collapsed": false,
    "pycharm": {
     "name": "#%%\n"
    }
   }
  },
  {
   "cell_type": "markdown",
   "source": [
    "Thus, it is necessary to prepare two files with load data. The first will contain the load power variation over time, the other will contain basic load information (location, nominal power, etc.). As a nominal value of power, the load at the first moment of the time-series will be used."
   ],
   "metadata": {
    "collapsed": false,
    "pycharm": {
     "name": "#%% md\n"
    }
   }
  },
  {
   "cell_type": "code",
   "execution_count": 12,
   "outputs": [
    {
     "data": {
      "text/plain": "     name bus_name       p__mw    q__mvar\n0  load_1    bus_1  268.770998  42.991445\n1  load_2    bus_2  105.393569  47.409731",
      "text/html": "<div>\n<style scoped>\n    .dataframe tbody tr th:only-of-type {\n        vertical-align: middle;\n    }\n\n    .dataframe tbody tr th {\n        vertical-align: top;\n    }\n\n    .dataframe thead th {\n        text-align: right;\n    }\n</style>\n<table border=\"1\" class=\"dataframe\">\n  <thead>\n    <tr style=\"text-align: right;\">\n      <th></th>\n      <th>name</th>\n      <th>bus_name</th>\n      <th>p__mw</th>\n      <th>q__mvar</th>\n    </tr>\n  </thead>\n  <tbody>\n    <tr>\n      <th>0</th>\n      <td>load_1</td>\n      <td>bus_1</td>\n      <td>268.770998</td>\n      <td>42.991445</td>\n    </tr>\n    <tr>\n      <th>1</th>\n      <td>load_2</td>\n      <td>bus_2</td>\n      <td>105.393569</td>\n      <td>47.409731</td>\n    </tr>\n  </tbody>\n</table>\n</div>"
     },
     "execution_count": 12,
     "metadata": {},
     "output_type": "execute_result"
    }
   ],
   "source": [
    "loads = prepare_loads(\n",
    "    transformed_loads=transformed_loads, parsed_nrel118_loads_ts=nrel118_loads_ts\n",
    ")\n",
    "loads.head(2)"
   ],
   "metadata": {
    "collapsed": false,
    "pycharm": {
     "name": "#%%\n"
    }
   }
  },
  {
   "cell_type": "code",
   "execution_count": 13,
   "outputs": [
    {
     "data": {
      "text/plain": "              datetime    name  in_service       p__mw    q__mvar\n0  2024-01-01 00:00:00  load_1        True  268.770998  42.991445\n1  2024-01-01 01:00:00  load_1        True  257.811190  41.238362",
      "text/html": "<div>\n<style scoped>\n    .dataframe tbody tr th:only-of-type {\n        vertical-align: middle;\n    }\n\n    .dataframe tbody tr th {\n        vertical-align: top;\n    }\n\n    .dataframe thead th {\n        text-align: right;\n    }\n</style>\n<table border=\"1\" class=\"dataframe\">\n  <thead>\n    <tr style=\"text-align: right;\">\n      <th></th>\n      <th>datetime</th>\n      <th>name</th>\n      <th>in_service</th>\n      <th>p__mw</th>\n      <th>q__mvar</th>\n    </tr>\n  </thead>\n  <tbody>\n    <tr>\n      <th>0</th>\n      <td>2024-01-01 00:00:00</td>\n      <td>load_1</td>\n      <td>True</td>\n      <td>268.770998</td>\n      <td>42.991445</td>\n    </tr>\n    <tr>\n      <th>1</th>\n      <td>2024-01-01 01:00:00</td>\n      <td>load_1</td>\n      <td>True</td>\n      <td>257.811190</td>\n      <td>41.238362</td>\n    </tr>\n  </tbody>\n</table>\n</div>"
     },
     "execution_count": 13,
     "metadata": {},
     "output_type": "execute_result"
    }
   ],
   "source": [
    "loads_ts = prepare_loads_ts(\n",
    "    transformed_loads=transformed_loads, parsed_nrel118_loads_ts=nrel118_loads_ts\n",
    ")\n",
    "loads_ts.head(2)"
   ],
   "metadata": {
    "collapsed": false,
    "pycharm": {
     "name": "#%%\n"
    }
   }
  },
  {
   "cell_type": "code",
   "execution_count": 13,
   "outputs": [],
   "source": [],
   "metadata": {
    "collapsed": false,
    "pycharm": {
     "name": "#%%\n"
    }
   }
  }
 ],
 "metadata": {
  "kernelspec": {
   "display_name": "Python 3",
   "language": "python",
   "name": "python3"
  },
  "language_info": {
   "codemirror_mode": {
    "name": "ipython",
    "version": 2
   },
   "file_extension": ".py",
   "mimetype": "text/x-python",
   "name": "python",
   "nbconvert_exporter": "python",
   "pygments_lexer": "ipython2",
   "version": "2.7.6"
  }
 },
 "nbformat": 4,
 "nbformat_minor": 0
}