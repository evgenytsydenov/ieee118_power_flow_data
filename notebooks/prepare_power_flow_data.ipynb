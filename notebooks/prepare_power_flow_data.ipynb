{
 "cells": [
  {
   "cell_type": "markdown",
   "metadata": {},
   "source": [
    "# Prepare Power Flow Data"
   ]
  },
  {
   "cell_type": "markdown",
   "metadata": {},
   "source": [
    "This notebook presents the process of data preparation for building power flow regimes. The process is separated into stages (see, [DVC config](../dvc.yaml)):\n",
    " - \"parse\" --- extract necessary parameters from the raw data\n",
    " - \"transform\" --- combine and convert data to use in further steps\n",
    " - \"prepare\" --- build final dataset\n",
    " - \"model\" --- sampling of power flow cases.\n",
    "\n",
    "The naming of variables in the final dataset corresponds to the [project convention](../convention.md). Some parameters necessary for data preparation are listed in [definitions](../definitions.py).\n",
    "\n",
    "Since the NREL-118 dataset is mostly intended for OPF tasks, it skips a lot of information that is not necessary to solve these kind of tasks. Thus, to append the data with missing info, [JEAS-118 dataset](http://motor.ece.iit.edu/data/JEAS_IEEE118.doc) is used as the primary source of NREL-118. The following sections describe all the stages of data processing and all the decisions made when preparing the final dataset."
   ]
  },
  {
   "cell_type": "code",
   "execution_count": 1,
   "metadata": {},
   "outputs": [],
   "source": [
    "import os\n",
    "\n",
    "from src.data import parse_jeas118_lines\n",
    "from src.data import parse_jeas118_loads\n",
    "from src.data import parse_jeas118_trafos\n",
    "from src.data import parse_nrel118_buses\n",
    "from src.data import parse_nrel118_escalators_ts\n",
    "from src.data import parse_nrel118_gens\n",
    "from src.data import parse_nrel118_hydros_nondisp_ts\n",
    "from src.data import parse_nrel118_hydros_ts\n",
    "from src.data import parse_nrel118_lines\n",
    "from src.data import parse_nrel118_loads_ts\n",
    "from src.data import parse_nrel118_outages_ts\n",
    "from src.data import parse_nrel118_solars_ts\n",
    "from src.data import parse_nrel118_winds_ts\n",
    "from src.data import prepare_branches\n",
    "from src.data import prepare_buses\n",
    "from src.data import prepare_gens\n",
    "from src.data import prepare_gens_ts\n",
    "from src.data import prepare_loads\n",
    "from src.data import prepare_loads_ts\n",
    "from src.data import transform_gens_escalated_ts\n",
    "from src.data import transform_loads\n",
    "from src.data import transform_outages_ts\n",
    "from src.data import transform_gens\n",
    "from src.data import transform_gens_ts\n",
    "\n",
    "\n",
    "PATH_NREL118 = os.path.join(\"..\", \"data\", \"raw\", \"nrel118\")\n",
    "PATH_JEAS118 = os.path.join(\"..\", \"data\", \"raw\", \"jeas118\")\n",
    "PATH_MANUAL = os.path.join(\"..\", \"data\", \"raw\", \"manual\")"
   ]
  },
  {
   "cell_type": "markdown",
   "metadata": {},
   "source": [
    "## Buses"
   ]
  },
  {
   "cell_type": "markdown",
   "metadata": {},
   "source": [
    "To build a power flow model, the following information about buses is necessary:\n",
    "- rated voltage level\n",
    "- if the bus is in service or out of service\n",
    "- name (optional)\n",
    "- region (optional)\n",
    "- bus coordinates for plots (optional)"
   ]
  },
  {
   "cell_type": "markdown",
   "metadata": {},
   "source": [
    "Let's load and parse bus data of NREL-118 power system:"
   ]
  },
  {
   "cell_type": "code",
   "execution_count": 2,
   "metadata": {},
   "outputs": [
    {
     "data": {
      "text/plain": "  bus_name region  load_participation_factor\n0  bus_001     r1                   0.047169\n1  bus_002     r1                   0.018496",
      "text/html": "<div>\n<style scoped>\n    .dataframe tbody tr th:only-of-type {\n        vertical-align: middle;\n    }\n\n    .dataframe tbody tr th {\n        vertical-align: top;\n    }\n\n    .dataframe thead th {\n        text-align: right;\n    }\n</style>\n<table border=\"1\" class=\"dataframe\">\n  <thead>\n    <tr style=\"text-align: right;\">\n      <th></th>\n      <th>bus_name</th>\n      <th>region</th>\n      <th>load_participation_factor</th>\n    </tr>\n  </thead>\n  <tbody>\n    <tr>\n      <th>0</th>\n      <td>bus_001</td>\n      <td>r1</td>\n      <td>0.047169</td>\n    </tr>\n    <tr>\n      <th>1</th>\n      <td>bus_002</td>\n      <td>r1</td>\n      <td>0.018496</td>\n    </tr>\n  </tbody>\n</table>\n</div>"
     },
     "execution_count": 2,
     "metadata": {},
     "output_type": "execute_result"
    }
   ],
   "source": [
    "path_nrel118_buses = os.path.join(PATH_NREL118, \"additional-files-mti-118\", \"Buses.csv\")\n",
    "nrel118_buses = parse_nrel118_buses(raw_data=path_nrel118_buses)\n",
    "nrel118_buses.head(2)"
   ]
  },
  {
   "cell_type": "markdown",
   "metadata": {},
   "source": [
    "The NREL-118 dataset contains only names and regions of buses (`load_participation_factor` is for load modelling, see [Section \"Loads\"](#loads)). To add missing values, it is assumed the following:\n",
    "- all buses are in service\n",
    "- bus \"bus_069\" is considered to be a slack bus\n",
    "- rated voltage level of buses 8, 9, 10, 26, 30, 38, 63, 64, 65, 68, 81, 116 equals to 345 kV, the rest of buses has the voltage level of 138 kV. This corresponds to the transformer data from JEAS-118 dataset.\n",
    "\n",
    "Coordinates of buses were [added manually](../data/raw/manual/bus_coordinates.csv) after designing [the power system plot](../resources/plot/plot.jpg)."
   ]
  },
  {
   "cell_type": "markdown",
   "metadata": {},
   "source": [
    "Thus, the final bus data look as follows:"
   ]
  },
  {
   "cell_type": "code",
   "execution_count": 3,
   "metadata": {},
   "outputs": [
    {
     "data": {
      "text/plain": "  bus_name region  in_service  v_rated_kv  x_coordinate  y_coordinate\n0  bus_001     r1        True         138         626.0        -324.0\n1  bus_002     r1        True         138         678.0        -324.0",
      "text/html": "<div>\n<style scoped>\n    .dataframe tbody tr th:only-of-type {\n        vertical-align: middle;\n    }\n\n    .dataframe tbody tr th {\n        vertical-align: top;\n    }\n\n    .dataframe thead th {\n        text-align: right;\n    }\n</style>\n<table border=\"1\" class=\"dataframe\">\n  <thead>\n    <tr style=\"text-align: right;\">\n      <th></th>\n      <th>bus_name</th>\n      <th>region</th>\n      <th>in_service</th>\n      <th>v_rated_kv</th>\n      <th>x_coordinate</th>\n      <th>y_coordinate</th>\n    </tr>\n  </thead>\n  <tbody>\n    <tr>\n      <th>0</th>\n      <td>bus_001</td>\n      <td>r1</td>\n      <td>True</td>\n      <td>138</td>\n      <td>626.0</td>\n      <td>-324.0</td>\n    </tr>\n    <tr>\n      <th>1</th>\n      <td>bus_002</td>\n      <td>r1</td>\n      <td>True</td>\n      <td>138</td>\n      <td>678.0</td>\n      <td>-324.0</td>\n    </tr>\n  </tbody>\n</table>\n</div>"
     },
     "execution_count": 3,
     "metadata": {},
     "output_type": "execute_result"
    }
   ],
   "source": [
    "path_bus_coordinates = os.path.join(PATH_MANUAL, \"bus_coordinates.csv\")\n",
    "buses = prepare_buses(\n",
    "    parsed_nrel118_buses=nrel118_buses, bus_coordinates=path_bus_coordinates\n",
    ")\n",
    "buses.head(2)"
   ]
  },
  {
   "cell_type": "markdown",
   "metadata": {},
   "source": [
    "## Branches"
   ]
  },
  {
   "cell_type": "markdown",
   "metadata": {},
   "source": [
    "\"Branches\" is a common term both for lines and transformers. The following parameters about branches are necessary to build models:\n",
    "- start and end buses of the branch\n",
    "- number of parallel branch systems\n",
    "- resistance\n",
    "- reactance\n",
    "- active conductance\n",
    "- in service or out of service\n",
    "- maximum power flow (optional)\n",
    "- transformation ratio if the branch is a transformer (optional)\n",
    "- name (optional)"
   ]
  },
  {
   "cell_type": "markdown",
   "metadata": {},
   "source": [
    "Let's load and parse line data of NREL-118 power system:"
   ]
  },
  {
   "cell_type": "code",
   "execution_count": 4,
   "metadata": {},
   "outputs": [
    {
     "data": {
      "text/plain": "   branch_number from_bus   to_bus  max_p_mw    x_pu    r_pu\n0              1  bus_001  bus_002     600.0  0.0999  0.0303\n1              2  bus_001  bus_003     600.0  0.0424  0.0129",
      "text/html": "<div>\n<style scoped>\n    .dataframe tbody tr th:only-of-type {\n        vertical-align: middle;\n    }\n\n    .dataframe tbody tr th {\n        vertical-align: top;\n    }\n\n    .dataframe thead th {\n        text-align: right;\n    }\n</style>\n<table border=\"1\" class=\"dataframe\">\n  <thead>\n    <tr style=\"text-align: right;\">\n      <th></th>\n      <th>branch_number</th>\n      <th>from_bus</th>\n      <th>to_bus</th>\n      <th>max_p_mw</th>\n      <th>x_pu</th>\n      <th>r_pu</th>\n    </tr>\n  </thead>\n  <tbody>\n    <tr>\n      <th>0</th>\n      <td>1</td>\n      <td>bus_001</td>\n      <td>bus_002</td>\n      <td>600.0</td>\n      <td>0.0999</td>\n      <td>0.0303</td>\n    </tr>\n    <tr>\n      <th>1</th>\n      <td>2</td>\n      <td>bus_001</td>\n      <td>bus_003</td>\n      <td>600.0</td>\n      <td>0.0424</td>\n      <td>0.0129</td>\n    </tr>\n  </tbody>\n</table>\n</div>"
     },
     "execution_count": 4,
     "metadata": {},
     "output_type": "execute_result"
    }
   ],
   "source": [
    "path_nrel118_lines = os.path.join(PATH_NREL118, \"additional-files-mti-118\", \"Lines.csv\")\n",
    "nrel118_lines = parse_nrel118_lines(raw_data=path_nrel118_lines)\n",
    "nrel118_lines.head(2)"
   ]
  },
  {
   "cell_type": "markdown",
   "metadata": {},
   "source": [
    "Since the information about active conductance and parallel number is skipped in the NREL-118 dataset, let's load it from the JEAS-118 dataset:"
   ]
  },
  {
   "cell_type": "code",
   "execution_count": 5,
   "metadata": {},
   "outputs": [
    {
     "data": {
      "text/plain": "  from_bus   to_bus  parallel     b_pu\n0  bus_001  bus_002         1  0.02540\n1  bus_001  bus_003         1  0.01082",
      "text/html": "<div>\n<style scoped>\n    .dataframe tbody tr th:only-of-type {\n        vertical-align: middle;\n    }\n\n    .dataframe tbody tr th {\n        vertical-align: top;\n    }\n\n    .dataframe thead th {\n        text-align: right;\n    }\n</style>\n<table border=\"1\" class=\"dataframe\">\n  <thead>\n    <tr style=\"text-align: right;\">\n      <th></th>\n      <th>from_bus</th>\n      <th>to_bus</th>\n      <th>parallel</th>\n      <th>b_pu</th>\n    </tr>\n  </thead>\n  <tbody>\n    <tr>\n      <th>0</th>\n      <td>bus_001</td>\n      <td>bus_002</td>\n      <td>1</td>\n      <td>0.02540</td>\n    </tr>\n    <tr>\n      <th>1</th>\n      <td>bus_001</td>\n      <td>bus_003</td>\n      <td>1</td>\n      <td>0.01082</td>\n    </tr>\n  </tbody>\n</table>\n</div>"
     },
     "execution_count": 5,
     "metadata": {},
     "output_type": "execute_result"
    }
   ],
   "source": [
    "path_jeas118_lines = os.path.join(PATH_JEAS118, \"JEAS_IEEE118.doc\")\n",
    "jeas118_lines = parse_jeas118_lines(raw_data=path_jeas118_lines)\n",
    "jeas118_lines.head(2)"
   ]
  },
  {
   "cell_type": "markdown",
   "metadata": {},
   "source": [
    "In the NREL-118 dataset, transformers are presented as lines without values of transformation ratio. Therefore, these values will be loaded from JEAS-118 dataset:"
   ]
  },
  {
   "cell_type": "code",
   "execution_count": 6,
   "metadata": {},
   "outputs": [
    {
     "data": {
      "text/plain": "  from_bus   to_bus  parallel  trafo_ratio_rel\n0  bus_008  bus_005         1            0.985\n1  bus_026  bus_025         1            0.960",
      "text/html": "<div>\n<style scoped>\n    .dataframe tbody tr th:only-of-type {\n        vertical-align: middle;\n    }\n\n    .dataframe tbody tr th {\n        vertical-align: top;\n    }\n\n    .dataframe thead th {\n        text-align: right;\n    }\n</style>\n<table border=\"1\" class=\"dataframe\">\n  <thead>\n    <tr style=\"text-align: right;\">\n      <th></th>\n      <th>from_bus</th>\n      <th>to_bus</th>\n      <th>parallel</th>\n      <th>trafo_ratio_rel</th>\n    </tr>\n  </thead>\n  <tbody>\n    <tr>\n      <th>0</th>\n      <td>bus_008</td>\n      <td>bus_005</td>\n      <td>1</td>\n      <td>0.985</td>\n    </tr>\n    <tr>\n      <th>1</th>\n      <td>bus_026</td>\n      <td>bus_025</td>\n      <td>1</td>\n      <td>0.960</td>\n    </tr>\n  </tbody>\n</table>\n</div>"
     },
     "execution_count": 6,
     "metadata": {},
     "output_type": "execute_result"
    }
   ],
   "source": [
    "path_jeas118_trafos = os.path.join(PATH_JEAS118, \"JEAS_IEEE118.doc\")\n",
    "jeas118_trafos = parse_jeas118_trafos(raw_data=path_jeas118_trafos)\n",
    "jeas118_trafos.head(2)"
   ]
  },
  {
   "cell_type": "markdown",
   "metadata": {},
   "source": [
    "Thus, the final branch data look as follows:"
   ]
  },
  {
   "cell_type": "code",
   "execution_count": 7,
   "metadata": {},
   "outputs": [
    {
     "data": {
      "text/plain": "        branch_name from_bus   to_bus parallel  in_service     r_ohm  \\\n0  branch_001_002_1  bus_001  bus_002        1        True  5.770332   \n1  branch_001_003_1  bus_001  bus_003        1        True  2.456676   \n\n       x_ohm        b_µs  trafo_ratio_rel  max_i_ka  \n0  19.024956  133.375341              NaN  2.510219  \n1   8.074656   56.815795              NaN  2.510219  ",
      "text/html": "<div>\n<style scoped>\n    .dataframe tbody tr th:only-of-type {\n        vertical-align: middle;\n    }\n\n    .dataframe tbody tr th {\n        vertical-align: top;\n    }\n\n    .dataframe thead th {\n        text-align: right;\n    }\n</style>\n<table border=\"1\" class=\"dataframe\">\n  <thead>\n    <tr style=\"text-align: right;\">\n      <th></th>\n      <th>branch_name</th>\n      <th>from_bus</th>\n      <th>to_bus</th>\n      <th>parallel</th>\n      <th>in_service</th>\n      <th>r_ohm</th>\n      <th>x_ohm</th>\n      <th>b_µs</th>\n      <th>trafo_ratio_rel</th>\n      <th>max_i_ka</th>\n    </tr>\n  </thead>\n  <tbody>\n    <tr>\n      <th>0</th>\n      <td>branch_001_002_1</td>\n      <td>bus_001</td>\n      <td>bus_002</td>\n      <td>1</td>\n      <td>True</td>\n      <td>5.770332</td>\n      <td>19.024956</td>\n      <td>133.375341</td>\n      <td>NaN</td>\n      <td>2.510219</td>\n    </tr>\n    <tr>\n      <th>1</th>\n      <td>branch_001_003_1</td>\n      <td>bus_001</td>\n      <td>bus_003</td>\n      <td>1</td>\n      <td>True</td>\n      <td>2.456676</td>\n      <td>8.074656</td>\n      <td>56.815795</td>\n      <td>NaN</td>\n      <td>2.510219</td>\n    </tr>\n  </tbody>\n</table>\n</div>"
     },
     "execution_count": 7,
     "metadata": {},
     "output_type": "execute_result"
    }
   ],
   "source": [
    "branches = prepare_branches(\n",
    "    parsed_nrel118_lines=nrel118_lines,\n",
    "    parsed_jeas118_lines=jeas118_lines,\n",
    "    parsed_jeas118_trafos=jeas118_trafos,\n",
    "    prepared_buses=buses,\n",
    ")\n",
    "branches.head(2)"
   ]
  },
  {
   "cell_type": "markdown",
   "metadata": {},
   "source": [
    "It is assumed that branches are always in service."
   ]
  },
  {
   "cell_type": "markdown",
   "metadata": {},
   "source": [
    "## Loads"
   ]
  },
  {
   "cell_type": "markdown",
   "metadata": {},
   "source": [
    "Here is the list of necessary load variables:\n",
    "\n",
    "- bus where the load is located\n",
    "- active and reactive power of the load\n",
    "- if the load is in service\n",
    "- name (optional)"
   ]
  },
  {
   "cell_type": "markdown",
   "metadata": {},
   "source": [
    "The information about a part of the regional active load located in each bus is stored in variable `load_participation_factor` in the bus data of the NREL-118 dataset:"
   ]
  },
  {
   "cell_type": "code",
   "execution_count": 8,
   "metadata": {},
   "outputs": [
    {
     "data": {
      "text/plain": "  bus_name region  load_participation_factor\n0  bus_001     r1                   0.047169\n1  bus_002     r1                   0.018496",
      "text/html": "<div>\n<style scoped>\n    .dataframe tbody tr th:only-of-type {\n        vertical-align: middle;\n    }\n\n    .dataframe tbody tr th {\n        vertical-align: top;\n    }\n\n    .dataframe thead th {\n        text-align: right;\n    }\n</style>\n<table border=\"1\" class=\"dataframe\">\n  <thead>\n    <tr style=\"text-align: right;\">\n      <th></th>\n      <th>bus_name</th>\n      <th>region</th>\n      <th>load_participation_factor</th>\n    </tr>\n  </thead>\n  <tbody>\n    <tr>\n      <th>0</th>\n      <td>bus_001</td>\n      <td>r1</td>\n      <td>0.047169</td>\n    </tr>\n    <tr>\n      <th>1</th>\n      <td>bus_002</td>\n      <td>r1</td>\n      <td>0.018496</td>\n    </tr>\n  </tbody>\n</table>\n</div>"
     },
     "execution_count": 8,
     "metadata": {},
     "output_type": "execute_result"
    }
   ],
   "source": [
    "nrel118_buses.head(2)"
   ]
  },
  {
   "cell_type": "markdown",
   "metadata": {},
   "source": [
    "Active load value of regions is stored in the time-series NREL-118 data:"
   ]
  },
  {
   "cell_type": "code",
   "execution_count": 9,
   "metadata": {},
   "outputs": [
    {
     "data": {
      "text/plain": "              datetime region_name  region_load\n0  2024-01-01 00:00:00          r1  5698.083154\n1  2024-01-01 00:00:00          r2  1967.417090",
      "text/html": "<div>\n<style scoped>\n    .dataframe tbody tr th:only-of-type {\n        vertical-align: middle;\n    }\n\n    .dataframe tbody tr th {\n        vertical-align: top;\n    }\n\n    .dataframe thead th {\n        text-align: right;\n    }\n</style>\n<table border=\"1\" class=\"dataframe\">\n  <thead>\n    <tr style=\"text-align: right;\">\n      <th></th>\n      <th>datetime</th>\n      <th>region_name</th>\n      <th>region_load</th>\n    </tr>\n  </thead>\n  <tbody>\n    <tr>\n      <th>0</th>\n      <td>2024-01-01 00:00:00</td>\n      <td>r1</td>\n      <td>5698.083154</td>\n    </tr>\n    <tr>\n      <th>1</th>\n      <td>2024-01-01 00:00:00</td>\n      <td>r2</td>\n      <td>1967.417090</td>\n    </tr>\n  </tbody>\n</table>\n</div>"
     },
     "execution_count": 9,
     "metadata": {},
     "output_type": "execute_result"
    }
   ],
   "source": [
    "path_nrel118_loads_ts = os.path.join(PATH_NREL118, \"Input files\", \"RT\", \"Load\")\n",
    "nrel118_loads_ts = parse_nrel118_loads_ts(raw_data=path_nrel118_loads_ts)\n",
    "nrel118_loads_ts.head(2)"
   ]
  },
  {
   "cell_type": "markdown",
   "metadata": {},
   "source": [
    "To calculate reactive power of loads, let's get the JEAS-118 data:"
   ]
  },
  {
   "cell_type": "code",
   "execution_count": 10,
   "metadata": {},
   "outputs": [
    {
     "data": {
      "text/plain": "  bus_name   p_mw  q_mvar\n0  bus_001  54.14    8.66\n1  bus_002  21.23    9.55",
      "text/html": "<div>\n<style scoped>\n    .dataframe tbody tr th:only-of-type {\n        vertical-align: middle;\n    }\n\n    .dataframe tbody tr th {\n        vertical-align: top;\n    }\n\n    .dataframe thead th {\n        text-align: right;\n    }\n</style>\n<table border=\"1\" class=\"dataframe\">\n  <thead>\n    <tr style=\"text-align: right;\">\n      <th></th>\n      <th>bus_name</th>\n      <th>p_mw</th>\n      <th>q_mvar</th>\n    </tr>\n  </thead>\n  <tbody>\n    <tr>\n      <th>0</th>\n      <td>bus_001</td>\n      <td>54.14</td>\n      <td>8.66</td>\n    </tr>\n    <tr>\n      <th>1</th>\n      <td>bus_002</td>\n      <td>21.23</td>\n      <td>9.55</td>\n    </tr>\n  </tbody>\n</table>\n</div>"
     },
     "execution_count": 10,
     "metadata": {},
     "output_type": "execute_result"
    }
   ],
   "source": [
    "path_jeas118_loads = os.path.join(PATH_JEAS118, \"JEAS_IEEE118.doc\")\n",
    "jeas118_loads = parse_jeas118_loads(raw_data=path_jeas118_loads)\n",
    "jeas118_loads.head(2)"
   ]
  },
  {
   "cell_type": "markdown",
   "metadata": {},
   "source": [
    "The JEAS-118 load data will help to estimate the power factor of each load and define its reactive power at each moment of time using time-series data of active demand:"
   ]
  },
  {
   "cell_type": "code",
   "execution_count": 11,
   "metadata": {},
   "outputs": [
    {
     "data": {
      "text/plain": "  load_name bus_name region  load_participation_factor  load_power_factor\n0  load_001  bus_001     r1                   0.047169           0.987447\n1  load_002  bus_002     r1                   0.018496           0.911978",
      "text/html": "<div>\n<style scoped>\n    .dataframe tbody tr th:only-of-type {\n        vertical-align: middle;\n    }\n\n    .dataframe tbody tr th {\n        vertical-align: top;\n    }\n\n    .dataframe thead th {\n        text-align: right;\n    }\n</style>\n<table border=\"1\" class=\"dataframe\">\n  <thead>\n    <tr style=\"text-align: right;\">\n      <th></th>\n      <th>load_name</th>\n      <th>bus_name</th>\n      <th>region</th>\n      <th>load_participation_factor</th>\n      <th>load_power_factor</th>\n    </tr>\n  </thead>\n  <tbody>\n    <tr>\n      <th>0</th>\n      <td>load_001</td>\n      <td>bus_001</td>\n      <td>r1</td>\n      <td>0.047169</td>\n      <td>0.987447</td>\n    </tr>\n    <tr>\n      <th>1</th>\n      <td>load_002</td>\n      <td>bus_002</td>\n      <td>r1</td>\n      <td>0.018496</td>\n      <td>0.911978</td>\n    </tr>\n  </tbody>\n</table>\n</div>"
     },
     "execution_count": 11,
     "metadata": {},
     "output_type": "execute_result"
    }
   ],
   "source": [
    "transformed_loads = transform_loads(\n",
    "    parsed_nrel118_buses=nrel118_buses, parsed_jeas118_loads=jeas118_loads\n",
    ")\n",
    "transformed_loads.head(2)"
   ]
  },
  {
   "cell_type": "markdown",
   "metadata": {},
   "source": [
    "Thus, it is necessary to prepare two files with load data. The first file will contain the load power variation over time, the other will contain basic load information (location, etc.). It is assumed that loads are always in service."
   ]
  },
  {
   "cell_type": "code",
   "execution_count": 12,
   "metadata": {},
   "outputs": [
    {
     "data": {
      "text/plain": "  load_name bus_name\n0  load_001  bus_001\n1  load_002  bus_002",
      "text/html": "<div>\n<style scoped>\n    .dataframe tbody tr th:only-of-type {\n        vertical-align: middle;\n    }\n\n    .dataframe tbody tr th {\n        vertical-align: top;\n    }\n\n    .dataframe thead th {\n        text-align: right;\n    }\n</style>\n<table border=\"1\" class=\"dataframe\">\n  <thead>\n    <tr style=\"text-align: right;\">\n      <th></th>\n      <th>load_name</th>\n      <th>bus_name</th>\n    </tr>\n  </thead>\n  <tbody>\n    <tr>\n      <th>0</th>\n      <td>load_001</td>\n      <td>bus_001</td>\n    </tr>\n    <tr>\n      <th>1</th>\n      <td>load_002</td>\n      <td>bus_002</td>\n    </tr>\n  </tbody>\n</table>\n</div>"
     },
     "execution_count": 12,
     "metadata": {},
     "output_type": "execute_result"
    }
   ],
   "source": [
    "loads = prepare_loads(transformed_loads=transformed_loads)\n",
    "loads.head(2)"
   ]
  },
  {
   "cell_type": "code",
   "execution_count": 13,
   "metadata": {},
   "outputs": [
    {
     "data": {
      "text/plain": "    datetime load_name  in_service        p_mw     q_mvar\n0 2024-01-01  load_001        True  268.770998  42.991445\n1 2024-01-01  load_002        True  105.393569  47.409731",
      "text/html": "<div>\n<style scoped>\n    .dataframe tbody tr th:only-of-type {\n        vertical-align: middle;\n    }\n\n    .dataframe tbody tr th {\n        vertical-align: top;\n    }\n\n    .dataframe thead th {\n        text-align: right;\n    }\n</style>\n<table border=\"1\" class=\"dataframe\">\n  <thead>\n    <tr style=\"text-align: right;\">\n      <th></th>\n      <th>datetime</th>\n      <th>load_name</th>\n      <th>in_service</th>\n      <th>p_mw</th>\n      <th>q_mvar</th>\n    </tr>\n  </thead>\n  <tbody>\n    <tr>\n      <th>0</th>\n      <td>2024-01-01</td>\n      <td>load_001</td>\n      <td>True</td>\n      <td>268.770998</td>\n      <td>42.991445</td>\n    </tr>\n    <tr>\n      <th>1</th>\n      <td>2024-01-01</td>\n      <td>load_002</td>\n      <td>True</td>\n      <td>105.393569</td>\n      <td>47.409731</td>\n    </tr>\n  </tbody>\n</table>\n</div>"
     },
     "execution_count": 13,
     "metadata": {},
     "output_type": "execute_result"
    }
   ],
   "source": [
    "loads_ts = prepare_loads_ts(\n",
    "    transformed_loads=transformed_loads, parsed_nrel118_loads_ts=nrel118_loads_ts\n",
    ")\n",
    "loads_ts.head(2)"
   ]
  },
  {
   "cell_type": "markdown",
   "metadata": {},
   "source": [
    "## Generators\n"
   ]
  },
  {
   "cell_type": "markdown",
   "metadata": {},
   "source": [
    "To build a power flow model, the following information about generators is necessary:\n",
    "- bus where the generator is located\n",
    "- active power of the generator\n",
    "- if the generator is in service\n",
    "- voltage set point of the generator\n",
    "- max and min limits of reactive power output\n",
    "- name (optional)\n",
    "- max limit of active output (optional)"
   ]
  },
  {
   "cell_type": "markdown",
   "metadata": {},
   "source": [
    "Let's start from parsing generator data from the NREL-118 dataset:"
   ]
  },
  {
   "cell_type": "code",
   "execution_count": 14,
   "metadata": {},
   "outputs": [
    {
     "data": {
      "text/plain": "      gen_name bus_name  max_p_mw\n0  biomass_001  bus_012       3.0\n1  biomass_002  bus_012       3.0",
      "text/html": "<div>\n<style scoped>\n    .dataframe tbody tr th:only-of-type {\n        vertical-align: middle;\n    }\n\n    .dataframe tbody tr th {\n        vertical-align: top;\n    }\n\n    .dataframe thead th {\n        text-align: right;\n    }\n</style>\n<table border=\"1\" class=\"dataframe\">\n  <thead>\n    <tr style=\"text-align: right;\">\n      <th></th>\n      <th>gen_name</th>\n      <th>bus_name</th>\n      <th>max_p_mw</th>\n    </tr>\n  </thead>\n  <tbody>\n    <tr>\n      <th>0</th>\n      <td>biomass_001</td>\n      <td>bus_012</td>\n      <td>3.0</td>\n    </tr>\n    <tr>\n      <th>1</th>\n      <td>biomass_002</td>\n      <td>bus_012</td>\n      <td>3.0</td>\n    </tr>\n  </tbody>\n</table>\n</div>"
     },
     "execution_count": 14,
     "metadata": {},
     "output_type": "execute_result"
    }
   ],
   "source": [
    "path_nrel118_gens = os.path.join(\n",
    "    PATH_NREL118, \"additional-files-mti-118\", \"Generators.csv\"\n",
    ")\n",
    "nrel118_gens = parse_nrel118_gens(raw_data=path_nrel118_gens)\n",
    "nrel118_gens.head(2)"
   ]
  },
  {
   "cell_type": "markdown",
   "metadata": {},
   "source": [
    "Next, time-series data from the NREL-118 dataset are parsed:"
   ]
  },
  {
   "cell_type": "code",
   "execution_count": 15,
   "metadata": {},
   "outputs": [
    {
     "data": {
      "text/plain": "              datetime   gen_name     p_mw\n0  2024-01-01 00:00:00  hydro_016  0.17696\n1  2024-01-01 00:00:00  hydro_017  0.29862",
      "text/html": "<div>\n<style scoped>\n    .dataframe tbody tr th:only-of-type {\n        vertical-align: middle;\n    }\n\n    .dataframe tbody tr th {\n        vertical-align: top;\n    }\n\n    .dataframe thead th {\n        text-align: right;\n    }\n</style>\n<table border=\"1\" class=\"dataframe\">\n  <thead>\n    <tr style=\"text-align: right;\">\n      <th></th>\n      <th>datetime</th>\n      <th>gen_name</th>\n      <th>p_mw</th>\n    </tr>\n  </thead>\n  <tbody>\n    <tr>\n      <th>0</th>\n      <td>2024-01-01 00:00:00</td>\n      <td>hydro_016</td>\n      <td>0.17696</td>\n    </tr>\n    <tr>\n      <th>1</th>\n      <td>2024-01-01 00:00:00</td>\n      <td>hydro_017</td>\n      <td>0.29862</td>\n    </tr>\n  </tbody>\n</table>\n</div>"
     },
     "execution_count": 15,
     "metadata": {},
     "output_type": "execute_result"
    }
   ],
   "source": [
    "# Hydro plants\n",
    "path_nrel118_hydros_ts = os.path.join(PATH_NREL118, \"Input files\", \"Hydro\")\n",
    "nrel118_hydros_ts = parse_nrel118_hydros_ts(raw_data=path_nrel118_hydros_ts)\n",
    "nrel118_hydros_ts.head(2)"
   ]
  },
  {
   "cell_type": "code",
   "execution_count": 16,
   "metadata": {},
   "outputs": [
    {
     "data": {
      "text/plain": "              datetime   gen_name  p_mw\n0  2024-01-01 00:00:00  solar_001   0.0\n1  2024-01-01 00:00:00  solar_002   0.0",
      "text/html": "<div>\n<style scoped>\n    .dataframe tbody tr th:only-of-type {\n        vertical-align: middle;\n    }\n\n    .dataframe tbody tr th {\n        vertical-align: top;\n    }\n\n    .dataframe thead th {\n        text-align: right;\n    }\n</style>\n<table border=\"1\" class=\"dataframe\">\n  <thead>\n    <tr style=\"text-align: right;\">\n      <th></th>\n      <th>datetime</th>\n      <th>gen_name</th>\n      <th>p_mw</th>\n    </tr>\n  </thead>\n  <tbody>\n    <tr>\n      <th>0</th>\n      <td>2024-01-01 00:00:00</td>\n      <td>solar_001</td>\n      <td>0.0</td>\n    </tr>\n    <tr>\n      <th>1</th>\n      <td>2024-01-01 00:00:00</td>\n      <td>solar_002</td>\n      <td>0.0</td>\n    </tr>\n  </tbody>\n</table>\n</div>"
     },
     "execution_count": 16,
     "metadata": {},
     "output_type": "execute_result"
    }
   ],
   "source": [
    "# Solar plants\n",
    "path_nrel118_solars_ts = os.path.join(PATH_NREL118, \"Input files\", \"RT\", \"Solar\")\n",
    "nrel118_solars_ts = parse_nrel118_solars_ts(raw_data=path_nrel118_solars_ts)\n",
    "nrel118_solars_ts.head(2)"
   ]
  },
  {
   "cell_type": "code",
   "execution_count": 17,
   "metadata": {},
   "outputs": [
    {
     "data": {
      "text/plain": "              datetime  gen_name      p_mw\n0  2024-01-01 00:00:00  wind_001  0.458135\n1  2024-01-01 00:00:00  wind_002  3.724274",
      "text/html": "<div>\n<style scoped>\n    .dataframe tbody tr th:only-of-type {\n        vertical-align: middle;\n    }\n\n    .dataframe tbody tr th {\n        vertical-align: top;\n    }\n\n    .dataframe thead th {\n        text-align: right;\n    }\n</style>\n<table border=\"1\" class=\"dataframe\">\n  <thead>\n    <tr style=\"text-align: right;\">\n      <th></th>\n      <th>datetime</th>\n      <th>gen_name</th>\n      <th>p_mw</th>\n    </tr>\n  </thead>\n  <tbody>\n    <tr>\n      <th>0</th>\n      <td>2024-01-01 00:00:00</td>\n      <td>wind_001</td>\n      <td>0.458135</td>\n    </tr>\n    <tr>\n      <th>1</th>\n      <td>2024-01-01 00:00:00</td>\n      <td>wind_002</td>\n      <td>3.724274</td>\n    </tr>\n  </tbody>\n</table>\n</div>"
     },
     "execution_count": 17,
     "metadata": {},
     "output_type": "execute_result"
    }
   ],
   "source": [
    "# Wind plants\n",
    "path_nrel118_winds_ts = os.path.join(PATH_NREL118, \"Input files\", \"RT\", \"Wind\")\n",
    "nrel118_winds_ts = parse_nrel118_winds_ts(raw_data=path_nrel118_winds_ts)\n",
    "nrel118_winds_ts.head(2)"
   ]
  },
  {
   "cell_type": "code",
   "execution_count": 18,
   "metadata": {},
   "outputs": [
    {
     "data": {
      "text/plain": "              datetime   gen_name  p_mw\n0  2024-01-01 00:00:00  hydro_036  0.51\n1  2024-01-01 00:00:00  hydro_037  2.23",
      "text/html": "<div>\n<style scoped>\n    .dataframe tbody tr th:only-of-type {\n        vertical-align: middle;\n    }\n\n    .dataframe tbody tr th {\n        vertical-align: top;\n    }\n\n    .dataframe thead th {\n        text-align: right;\n    }\n</style>\n<table border=\"1\" class=\"dataframe\">\n  <thead>\n    <tr style=\"text-align: right;\">\n      <th></th>\n      <th>datetime</th>\n      <th>gen_name</th>\n      <th>p_mw</th>\n    </tr>\n  </thead>\n  <tbody>\n    <tr>\n      <th>0</th>\n      <td>2024-01-01 00:00:00</td>\n      <td>hydro_036</td>\n      <td>0.51</td>\n    </tr>\n    <tr>\n      <th>1</th>\n      <td>2024-01-01 00:00:00</td>\n      <td>hydro_037</td>\n      <td>2.23</td>\n    </tr>\n  </tbody>\n</table>\n</div>"
     },
     "execution_count": 18,
     "metadata": {},
     "output_type": "execute_result"
    }
   ],
   "source": [
    "# Non-dispatchable hydro plants\n",
    "path_nrel118_hydros_nondisp_ts = os.path.join(\n",
    "    PATH_NREL118,\n",
    "    \"additional-files-mti-118\",\n",
    "    \"Hydro_nondipatchable.csv\",\n",
    ")\n",
    "nrel118_hydros_nondisp_ts = parse_nrel118_hydros_nondisp_ts(\n",
    "    raw_data=path_nrel118_hydros_nondisp_ts\n",
    ")\n",
    "nrel118_hydros_nondisp_ts.head(2)"
   ]
  },
  {
   "cell_type": "markdown",
   "metadata": {},
   "source": [
    "Escalators used to adjust generation profile to seasons or other time for all the generators, except wind, solar, and hydro:"
   ]
  },
  {
   "cell_type": "code",
   "execution_count": 19,
   "metadata": {},
   "outputs": [
    {
     "data": {
      "text/plain": "              datetime     gen_name  escalator_ratio\n0  2024-01-01 00:00:00  biomass_001             0.35\n1  2024-01-01 00:00:00  biomass_002             0.35",
      "text/html": "<div>\n<style scoped>\n    .dataframe tbody tr th:only-of-type {\n        vertical-align: middle;\n    }\n\n    .dataframe tbody tr th {\n        vertical-align: top;\n    }\n\n    .dataframe thead th {\n        text-align: right;\n    }\n</style>\n<table border=\"1\" class=\"dataframe\">\n  <thead>\n    <tr style=\"text-align: right;\">\n      <th></th>\n      <th>datetime</th>\n      <th>gen_name</th>\n      <th>escalator_ratio</th>\n    </tr>\n  </thead>\n  <tbody>\n    <tr>\n      <th>0</th>\n      <td>2024-01-01 00:00:00</td>\n      <td>biomass_001</td>\n      <td>0.35</td>\n    </tr>\n    <tr>\n      <th>1</th>\n      <td>2024-01-01 00:00:00</td>\n      <td>biomass_002</td>\n      <td>0.35</td>\n    </tr>\n  </tbody>\n</table>\n</div>"
     },
     "execution_count": 19,
     "metadata": {},
     "output_type": "execute_result"
    }
   ],
   "source": [
    "# Escalators data\n",
    "path_nrel118_escalators_ts = os.path.join(\n",
    "    PATH_NREL118, \"additional-files-mti-118\", \"Escalators.csv\"\n",
    ")\n",
    "nrel118_escalators_ts = parse_nrel118_escalators_ts(raw_data=path_nrel118_escalators_ts)\n",
    "nrel118_escalators_ts.head(2)"
   ]
  },
  {
   "cell_type": "markdown",
   "metadata": {},
   "source": [
    "Thus, it is possible to multiply max output of generation by escalators to estimate the power output over time of all generators, except wind, solar and hydro:"
   ]
  },
  {
   "cell_type": "code",
   "execution_count": 20,
   "metadata": {},
   "outputs": [
    {
     "data": {
      "text/plain": "              datetime     gen_name  p_mw\n0  2024-01-01 00:00:00  biomass_001  1.05\n1  2024-01-01 00:00:00  biomass_002  1.05",
      "text/html": "<div>\n<style scoped>\n    .dataframe tbody tr th:only-of-type {\n        vertical-align: middle;\n    }\n\n    .dataframe tbody tr th {\n        vertical-align: top;\n    }\n\n    .dataframe thead th {\n        text-align: right;\n    }\n</style>\n<table border=\"1\" class=\"dataframe\">\n  <thead>\n    <tr style=\"text-align: right;\">\n      <th></th>\n      <th>datetime</th>\n      <th>gen_name</th>\n      <th>p_mw</th>\n    </tr>\n  </thead>\n  <tbody>\n    <tr>\n      <th>0</th>\n      <td>2024-01-01 00:00:00</td>\n      <td>biomass_001</td>\n      <td>1.05</td>\n    </tr>\n    <tr>\n      <th>1</th>\n      <td>2024-01-01 00:00:00</td>\n      <td>biomass_002</td>\n      <td>1.05</td>\n    </tr>\n  </tbody>\n</table>\n</div>"
     },
     "execution_count": 20,
     "metadata": {},
     "output_type": "execute_result"
    }
   ],
   "source": [
    "gens_escalated_ts = transform_gens_escalated_ts(\n",
    "    parsed_nrel118_gens=nrel118_gens, parsed_nrel118_escalators_ts=nrel118_escalators_ts\n",
    ")\n",
    "gens_escalated_ts.head(2)"
   ]
  },
  {
   "cell_type": "code",
   "execution_count": 21,
   "metadata": {},
   "outputs": [
    {
     "data": {
      "text/plain": "              datetime gen_name  in_outage\n0  2024-01-01 00:00:00  PSH_001      False\n1  2024-01-01 00:00:00  PSH_002      False",
      "text/html": "<div>\n<style scoped>\n    .dataframe tbody tr th:only-of-type {\n        vertical-align: middle;\n    }\n\n    .dataframe tbody tr th {\n        vertical-align: top;\n    }\n\n    .dataframe thead th {\n        text-align: right;\n    }\n</style>\n<table border=\"1\" class=\"dataframe\">\n  <thead>\n    <tr style=\"text-align: right;\">\n      <th></th>\n      <th>datetime</th>\n      <th>gen_name</th>\n      <th>in_outage</th>\n    </tr>\n  </thead>\n  <tbody>\n    <tr>\n      <th>0</th>\n      <td>2024-01-01 00:00:00</td>\n      <td>PSH_001</td>\n      <td>False</td>\n    </tr>\n    <tr>\n      <th>1</th>\n      <td>2024-01-01 00:00:00</td>\n      <td>PSH_002</td>\n      <td>False</td>\n    </tr>\n  </tbody>\n</table>\n</div>"
     },
     "execution_count": 21,
     "metadata": {},
     "output_type": "execute_result"
    }
   ],
   "source": [
    "# Outages\n",
    "path_nrel118_outages_ts = os.path.join(\n",
    "    PATH_NREL118, \"Input files\", \"Others\", \"GenOut.csv\"\n",
    ")\n",
    "nrel118_outages_ts = parse_nrel118_outages_ts(raw_data=path_nrel118_outages_ts)\n",
    "nrel118_outages_ts.head(2)"
   ]
  },
  {
   "cell_type": "markdown",
   "metadata": {},
   "source": [
    "Next, some intermediate calculations are performed with the following assumptions:\n",
    "1. Missing outputs of power plants are set to zero (see [this script](../src/data/transform/gens_ts.py) for details).\n",
    "2. Range of reactive generator output set from -0.35 to 0.75 of the actual active output (see [this script](../src/data/transform/gens_ts.py) for details).\n",
    "3. Rated voltage of generators are equal to bus voltages (see [this script](../src/data/transform/gens_ts.py) for details).\n",
    "4. Missing power plants in the outage data are always in service (see [this script](../src/data/transform/outages_ts.py) for details).\n",
    "5. Unknown power plants in the outage data are dropped (see [this script](../src/data/transform/outages_ts.py) for details).\n",
    "6. Duplicated generator outages are considered to be typos, as a result of which the state of generator \"internal_combustion_gas_001\" was attributed to other generators (see [this script](../src/data/transform/outages_ts.py) for details)."
   ]
  },
  {
   "cell_type": "code",
   "execution_count": 22,
   "metadata": {},
   "outputs": [],
   "source": [
    "transformed_gens = transform_gens(parsed_nrel118_gens=nrel118_gens)\n",
    "transformed_outages_ts = transform_outages_ts(\n",
    "    parsed_nrel118_outages_ts=nrel118_outages_ts\n",
    ")\n",
    "transformed_gens_escalated_ts = transform_gens_escalated_ts(\n",
    "    parsed_nrel118_gens=nrel118_gens,\n",
    "    parsed_nrel118_escalators_ts=nrel118_escalators_ts,\n",
    ")\n",
    "transformed_gens_ts = transform_gens_ts(\n",
    "    parsed_nrel118_winds_ts=nrel118_winds_ts,\n",
    "    parsed_nrel118_solars_ts=nrel118_solars_ts,\n",
    "    parsed_nrel118_hydros_ts=nrel118_hydros_ts,\n",
    "    parsed_nrel118_hydros_nondisp_ts=nrel118_hydros_nondisp_ts,\n",
    "    transformed_gens_escalated_ts=transformed_gens_escalated_ts,\n",
    "    prepared_buses=buses,\n",
    "    transformed_gens=transformed_gens,\n",
    ")"
   ]
  },
  {
   "cell_type": "markdown",
   "metadata": {},
   "source": [
    "Finally, let's concat all datasets to build two files with generation data --- general generation info (location, etc.), time-series data (p_mw, in_service, etc.):"
   ]
  },
  {
   "cell_type": "code",
   "execution_count": 23,
   "metadata": {},
   "outputs": [
    {
     "data": {
      "text/plain": "    gen_name bus_name  max_p_mw\n0  plant_004  bus_004     144.7\n1  plant_006  bus_006     168.4",
      "text/html": "<div>\n<style scoped>\n    .dataframe tbody tr th:only-of-type {\n        vertical-align: middle;\n    }\n\n    .dataframe tbody tr th {\n        vertical-align: top;\n    }\n\n    .dataframe thead th {\n        text-align: right;\n    }\n</style>\n<table border=\"1\" class=\"dataframe\">\n  <thead>\n    <tr style=\"text-align: right;\">\n      <th></th>\n      <th>gen_name</th>\n      <th>bus_name</th>\n      <th>max_p_mw</th>\n    </tr>\n  </thead>\n  <tbody>\n    <tr>\n      <th>0</th>\n      <td>plant_004</td>\n      <td>bus_004</td>\n      <td>144.7</td>\n    </tr>\n    <tr>\n      <th>1</th>\n      <td>plant_006</td>\n      <td>bus_006</td>\n      <td>168.4</td>\n    </tr>\n  </tbody>\n</table>\n</div>"
     },
     "execution_count": 23,
     "metadata": {},
     "output_type": "execute_result"
    }
   ],
   "source": [
    "prepared_gens = prepare_gens(transformed_gens=transformed_gens)\n",
    "prepared_gens.head(2)"
   ]
  },
  {
   "cell_type": "code",
   "execution_count": 24,
   "metadata": {},
   "outputs": [
    {
     "data": {
      "text/plain": "    datetime   gen_name  in_service       p_mw  v_set_kv  q_max_mvar  \\\n0 2024-01-01  plant_004        True  126.21025     138.0   94.657687   \n1 2024-01-01  plant_006        True  148.89524     138.0  111.671430   \n\n   q_min_mvar  \n0  -37.863074  \n1  -44.668572  ",
      "text/html": "<div>\n<style scoped>\n    .dataframe tbody tr th:only-of-type {\n        vertical-align: middle;\n    }\n\n    .dataframe tbody tr th {\n        vertical-align: top;\n    }\n\n    .dataframe thead th {\n        text-align: right;\n    }\n</style>\n<table border=\"1\" class=\"dataframe\">\n  <thead>\n    <tr style=\"text-align: right;\">\n      <th></th>\n      <th>datetime</th>\n      <th>gen_name</th>\n      <th>in_service</th>\n      <th>p_mw</th>\n      <th>v_set_kv</th>\n      <th>q_max_mvar</th>\n      <th>q_min_mvar</th>\n    </tr>\n  </thead>\n  <tbody>\n    <tr>\n      <th>0</th>\n      <td>2024-01-01</td>\n      <td>plant_004</td>\n      <td>True</td>\n      <td>126.21025</td>\n      <td>138.0</td>\n      <td>94.657687</td>\n      <td>-37.863074</td>\n    </tr>\n    <tr>\n      <th>1</th>\n      <td>2024-01-01</td>\n      <td>plant_006</td>\n      <td>True</td>\n      <td>148.89524</td>\n      <td>138.0</td>\n      <td>111.671430</td>\n      <td>-44.668572</td>\n    </tr>\n  </tbody>\n</table>\n</div>"
     },
     "execution_count": 24,
     "metadata": {},
     "output_type": "execute_result"
    }
   ],
   "source": [
    "prepared_gens_ts = prepare_gens_ts(\n",
    "    transformed_gens=transformed_gens,\n",
    "    transformed_gens_ts=transformed_gens_ts,\n",
    "    transformed_outages_ts=transformed_outages_ts,\n",
    ")\n",
    "prepared_gens_ts.head(2)"
   ]
  },
  {
   "cell_type": "markdown",
   "metadata": {},
   "source": [
    "If the `PLANT_MODE` from [the configuration file](../definitions.py) is `True`, then generators are grouped per buses into power plants. In this case, the rated voltage of each power plant is calculated as an average of its generator voltages, and the output is calculated as a sum of outputs of each generator.\n"
   ]
  },
  {
   "cell_type": "code",
   "execution_count": 24,
   "outputs": [],
   "source": [],
   "metadata": {
    "collapsed": false
   }
  }
 ],
 "metadata": {
  "kernelspec": {
   "display_name": "Python 3 (ipykernel)",
   "language": "python",
   "name": "python3"
  },
  "language_info": {
   "codemirror_mode": {
    "name": "ipython",
    "version": 3
   },
   "file_extension": ".py",
   "mimetype": "text/x-python",
   "name": "python",
   "nbconvert_exporter": "python",
   "pygments_lexer": "ipython3",
   "version": "3.10.4"
  }
 },
 "nbformat": 4,
 "nbformat_minor": 1
}
