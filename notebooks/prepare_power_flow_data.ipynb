{
 "cells": [
  {
   "cell_type": "markdown",
   "source": [
    "# Prepare Power Flow Data"
   ],
   "metadata": {
    "collapsed": false,
    "pycharm": {
     "name": "#%% md\n"
    }
   }
  },
  {
   "cell_type": "markdown",
   "source": [
    "This notebook presents the process of data preparation for building power flow regimes. The process is separated into stages (see, [DVC config](../dvc.yaml)):\n",
    " - \"parse\" --- extract necessary parameters from the raw data\n",
    " - \"transform\" --- combine and convert data to use in further steps\n",
    " - \"prepare\" --- build final dataset\n",
    "\n",
    "The naming of variables in the final dataset corresponds to the [project convention](../convention.md).\n",
    "\n",
    "Since the NREL-118 dataset is mostly intended for OPF tasks, it skips a lot of information that is not necessary to solve these kind of tasks. Thus, to append the data with missing info, [JEAS-118 dataset](http://motor.ece.iit.edu/data/JEAS_IEEE118.doc) is used as the primary source of NREL-118. The following sections describe all the stages of data processing and all the decisions made when preparing the final dataset."
   ],
   "metadata": {
    "collapsed": false,
    "pycharm": {
     "name": "#%% md\n"
    }
   }
  },
  {
   "cell_type": "code",
   "execution_count": 1,
   "outputs": [],
   "source": [
    "import os\n",
    "\n",
    "from src.data import parse_jeas118_lines\n",
    "from src.data import parse_jeas118_loads\n",
    "from src.data import parse_jeas118_trafos\n",
    "from src.data import parse_nrel118_buses\n",
    "from src.data import parse_nrel118_escalators_ts\n",
    "from src.data import parse_nrel118_gens\n",
    "from src.data import parse_nrel118_hydros_nondisp_ts\n",
    "from src.data import parse_nrel118_hydros_ts\n",
    "from src.data import parse_nrel118_lines\n",
    "from src.data import parse_nrel118_loads_ts\n",
    "from src.data import parse_nrel118_outages_ts\n",
    "from src.data import parse_nrel118_solars_ts\n",
    "from src.data import parse_nrel118_winds_ts\n",
    "from src.data import prepare_branches\n",
    "from src.data import prepare_buses\n",
    "from src.data import prepare_gens\n",
    "from src.data import prepare_gens_ts\n",
    "from src.data import prepare_loads\n",
    "from src.data import prepare_loads_ts\n",
    "from src.data import transform_gens_escalated_ts\n",
    "from src.data import transform_loads\n",
    "\n",
    "\n",
    "PATH_NREL118 = os.path.join(\"..\", \"data\", \"raw\", \"nrel118\")\n",
    "PATH_JEAS118 = os.path.join(\"..\", \"data\", \"raw\", \"jeas118\")"
   ],
   "metadata": {
    "collapsed": false,
    "pycharm": {
     "name": "#%%\n"
    }
   }
  },
  {
   "cell_type": "markdown",
   "source": [
    "## Buses"
   ],
   "metadata": {
    "collapsed": false,
    "pycharm": {
     "name": "#%% md\n"
    }
   }
  },
  {
   "cell_type": "markdown",
   "source": [
    "To build a power flow model, the following information about buses is necessary:\n",
    "- rated voltage level\n",
    "- if the bus is in service or out of service\n",
    "- name (optional)\n",
    "- region (optional)"
   ],
   "metadata": {
    "collapsed": false,
    "pycharm": {
     "name": "#%% md\n"
    }
   }
  },
  {
   "cell_type": "markdown",
   "source": [
    "Let's load and parse bus data of NREL-118 power system:"
   ],
   "metadata": {
    "collapsed": false,
    "pycharm": {
     "name": "#%% md\n"
    }
   }
  },
  {
   "cell_type": "code",
   "execution_count": 2,
   "outputs": [
    {
     "data": {
      "text/plain": "  bus_name region  load_participation_factor\n0   bus__1     r1                   0.047169\n1   bus__2     r1                   0.018496",
      "text/html": "<div>\n<style scoped>\n    .dataframe tbody tr th:only-of-type {\n        vertical-align: middle;\n    }\n\n    .dataframe tbody tr th {\n        vertical-align: top;\n    }\n\n    .dataframe thead th {\n        text-align: right;\n    }\n</style>\n<table border=\"1\" class=\"dataframe\">\n  <thead>\n    <tr style=\"text-align: right;\">\n      <th></th>\n      <th>bus_name</th>\n      <th>region</th>\n      <th>load_participation_factor</th>\n    </tr>\n  </thead>\n  <tbody>\n    <tr>\n      <th>0</th>\n      <td>bus__1</td>\n      <td>r1</td>\n      <td>0.047169</td>\n    </tr>\n    <tr>\n      <th>1</th>\n      <td>bus__2</td>\n      <td>r1</td>\n      <td>0.018496</td>\n    </tr>\n  </tbody>\n</table>\n</div>"
     },
     "execution_count": 2,
     "metadata": {},
     "output_type": "execute_result"
    }
   ],
   "source": [
    "path_nrel118_buses = os.path.join(PATH_NREL118, \"additional-files-mti-118\", \"Buses.csv\")\n",
    "nrel118_buses = parse_nrel118_buses(raw_data=path_nrel118_buses)\n",
    "nrel118_buses.head(2)"
   ],
   "metadata": {
    "collapsed": false,
    "pycharm": {
     "name": "#%%\n"
    }
   }
  },
  {
   "cell_type": "markdown",
   "source": [
    "The NREL-118 dataset contains only names and regions of buses (\"load_participation_factor\" is for load modelling, see [Section \"Loads\"](#loads)). To add missing values, it is assumed the following:\n",
    "- all buses are in service\n",
    "- rated voltage level of buses 8, 9, 10, 26, 30, 38, 63, 64, 65, 68, 81, 116 equals to 345 kV, the rest of buses has the voltage level of 138 kV. This corresponds to transformers data from JEAS-118 dataset."
   ],
   "metadata": {
    "collapsed": false,
    "pycharm": {
     "name": "#%% md\n"
    }
   }
  },
  {
   "cell_type": "markdown",
   "source": [
    "Thus, the final bus data look as follows:"
   ],
   "metadata": {
    "collapsed": false,
    "pycharm": {
     "name": "#%% md\n"
    }
   }
  },
  {
   "cell_type": "code",
   "execution_count": 3,
   "outputs": [
    {
     "data": {
      "text/plain": "  bus_name region  in_service  v_rated__kv\n0   bus__1     r1        True          138\n1   bus__2     r1        True          138",
      "text/html": "<div>\n<style scoped>\n    .dataframe tbody tr th:only-of-type {\n        vertical-align: middle;\n    }\n\n    .dataframe tbody tr th {\n        vertical-align: top;\n    }\n\n    .dataframe thead th {\n        text-align: right;\n    }\n</style>\n<table border=\"1\" class=\"dataframe\">\n  <thead>\n    <tr style=\"text-align: right;\">\n      <th></th>\n      <th>bus_name</th>\n      <th>region</th>\n      <th>in_service</th>\n      <th>v_rated__kv</th>\n    </tr>\n  </thead>\n  <tbody>\n    <tr>\n      <th>0</th>\n      <td>bus__1</td>\n      <td>r1</td>\n      <td>True</td>\n      <td>138</td>\n    </tr>\n    <tr>\n      <th>1</th>\n      <td>bus__2</td>\n      <td>r1</td>\n      <td>True</td>\n      <td>138</td>\n    </tr>\n  </tbody>\n</table>\n</div>"
     },
     "execution_count": 3,
     "metadata": {},
     "output_type": "execute_result"
    }
   ],
   "source": [
    "buses = prepare_buses(parsed_nrel118_buses=nrel118_buses)\n",
    "buses.head(2)"
   ],
   "metadata": {
    "collapsed": false,
    "pycharm": {
     "name": "#%%\n"
    }
   }
  },
  {
   "cell_type": "markdown",
   "source": [
    "## Branches"
   ],
   "metadata": {
    "collapsed": false,
    "pycharm": {
     "name": "#%% md\n"
    }
   }
  },
  {
   "cell_type": "markdown",
   "source": [
    "\"Branches\" is a common term both for lines and transformers. The following parameters about branches are necessary to build models:\n",
    "- start and end buses of the branch\n",
    "- number of parallel branch systems\n",
    "- resistance\n",
    "- reactance\n",
    "- active conductance\n",
    "- in service or out of service\n",
    "- maximum power flow (optional)\n",
    "- transformation ratio if the branch is a transformer (optional)\n",
    "- name (optional)"
   ],
   "metadata": {
    "collapsed": false,
    "pycharm": {
     "name": "#%% md\n"
    }
   }
  },
  {
   "cell_type": "markdown",
   "source": [
    "Let's load and parse line data of NREL-118 power system:"
   ],
   "metadata": {
    "collapsed": false,
    "pycharm": {
     "name": "#%% md\n"
    }
   }
  },
  {
   "cell_type": "code",
   "execution_count": 4,
   "outputs": [
    {
     "data": {
      "text/plain": "  branch_name from_bus  to_bus  max_p__mw   x__pu   r__pu\n0   branch__1   bus__1  bus__2      600.0  0.0999  0.0303\n1   branch__2   bus__1  bus__3      600.0  0.0424  0.0129",
      "text/html": "<div>\n<style scoped>\n    .dataframe tbody tr th:only-of-type {\n        vertical-align: middle;\n    }\n\n    .dataframe tbody tr th {\n        vertical-align: top;\n    }\n\n    .dataframe thead th {\n        text-align: right;\n    }\n</style>\n<table border=\"1\" class=\"dataframe\">\n  <thead>\n    <tr style=\"text-align: right;\">\n      <th></th>\n      <th>branch_name</th>\n      <th>from_bus</th>\n      <th>to_bus</th>\n      <th>max_p__mw</th>\n      <th>x__pu</th>\n      <th>r__pu</th>\n    </tr>\n  </thead>\n  <tbody>\n    <tr>\n      <th>0</th>\n      <td>branch__1</td>\n      <td>bus__1</td>\n      <td>bus__2</td>\n      <td>600.0</td>\n      <td>0.0999</td>\n      <td>0.0303</td>\n    </tr>\n    <tr>\n      <th>1</th>\n      <td>branch__2</td>\n      <td>bus__1</td>\n      <td>bus__3</td>\n      <td>600.0</td>\n      <td>0.0424</td>\n      <td>0.0129</td>\n    </tr>\n  </tbody>\n</table>\n</div>"
     },
     "execution_count": 4,
     "metadata": {},
     "output_type": "execute_result"
    }
   ],
   "source": [
    "path_nrel118_lines = os.path.join(PATH_NREL118, \"additional-files-mti-118\", \"Lines.csv\")\n",
    "nrel118_lines = parse_nrel118_lines(raw_data=path_nrel118_lines)\n",
    "nrel118_lines.head(2)"
   ],
   "metadata": {
    "collapsed": false,
    "pycharm": {
     "name": "#%%\n"
    }
   }
  },
  {
   "cell_type": "markdown",
   "source": [
    "Since the information about active conductance and parallel number is skipped in the NREL-118 dataset, let's load it from the JEAS-118 dataset:"
   ],
   "metadata": {
    "collapsed": false,
    "pycharm": {
     "name": "#%% md\n"
    }
   }
  },
  {
   "cell_type": "code",
   "execution_count": 5,
   "outputs": [
    {
     "data": {
      "text/plain": "  branch_name from_bus  to_bus  parallel    b__pu\n0   branch__1   bus__1  bus__2         1  0.02540\n1   branch__2   bus__1  bus__3         1  0.01082",
      "text/html": "<div>\n<style scoped>\n    .dataframe tbody tr th:only-of-type {\n        vertical-align: middle;\n    }\n\n    .dataframe tbody tr th {\n        vertical-align: top;\n    }\n\n    .dataframe thead th {\n        text-align: right;\n    }\n</style>\n<table border=\"1\" class=\"dataframe\">\n  <thead>\n    <tr style=\"text-align: right;\">\n      <th></th>\n      <th>branch_name</th>\n      <th>from_bus</th>\n      <th>to_bus</th>\n      <th>parallel</th>\n      <th>b__pu</th>\n    </tr>\n  </thead>\n  <tbody>\n    <tr>\n      <th>0</th>\n      <td>branch__1</td>\n      <td>bus__1</td>\n      <td>bus__2</td>\n      <td>1</td>\n      <td>0.02540</td>\n    </tr>\n    <tr>\n      <th>1</th>\n      <td>branch__2</td>\n      <td>bus__1</td>\n      <td>bus__3</td>\n      <td>1</td>\n      <td>0.01082</td>\n    </tr>\n  </tbody>\n</table>\n</div>"
     },
     "execution_count": 5,
     "metadata": {},
     "output_type": "execute_result"
    }
   ],
   "source": [
    "path_jeas118_lines = os.path.join(PATH_JEAS118, \"JEAS_IEEE118.doc\")\n",
    "jeas118_lines = parse_jeas118_lines(raw_data=path_jeas118_lines)\n",
    "jeas118_lines.head(2)"
   ],
   "metadata": {
    "collapsed": false,
    "pycharm": {
     "name": "#%%\n"
    }
   }
  },
  {
   "cell_type": "markdown",
   "source": [
    "In the NREL-118 dataset, transformers are presented as lines without values of transformation ratio. Therefore, these values will be loaded from JEAS-118 dataset:"
   ],
   "metadata": {
    "collapsed": false,
    "pycharm": {
     "name": "#%% md\n"
    }
   }
  },
  {
   "cell_type": "code",
   "execution_count": 6,
   "outputs": [
    {
     "data": {
      "text/plain": "  branch_name from_bus   to_bus  parallel  trafo_ratio\n0    trafo__1   bus__8   bus__5         1        0.985\n1    trafo__2  bus__26  bus__25         1        0.960",
      "text/html": "<div>\n<style scoped>\n    .dataframe tbody tr th:only-of-type {\n        vertical-align: middle;\n    }\n\n    .dataframe tbody tr th {\n        vertical-align: top;\n    }\n\n    .dataframe thead th {\n        text-align: right;\n    }\n</style>\n<table border=\"1\" class=\"dataframe\">\n  <thead>\n    <tr style=\"text-align: right;\">\n      <th></th>\n      <th>branch_name</th>\n      <th>from_bus</th>\n      <th>to_bus</th>\n      <th>parallel</th>\n      <th>trafo_ratio</th>\n    </tr>\n  </thead>\n  <tbody>\n    <tr>\n      <th>0</th>\n      <td>trafo__1</td>\n      <td>bus__8</td>\n      <td>bus__5</td>\n      <td>1</td>\n      <td>0.985</td>\n    </tr>\n    <tr>\n      <th>1</th>\n      <td>trafo__2</td>\n      <td>bus__26</td>\n      <td>bus__25</td>\n      <td>1</td>\n      <td>0.960</td>\n    </tr>\n  </tbody>\n</table>\n</div>"
     },
     "execution_count": 6,
     "metadata": {},
     "output_type": "execute_result"
    }
   ],
   "source": [
    "path_jeas118_trafos = os.path.join(PATH_JEAS118, \"JEAS_IEEE118.doc\")\n",
    "jeas118_trafos = parse_jeas118_trafos(raw_data=path_jeas118_trafos)\n",
    "jeas118_trafos.head(2)"
   ],
   "metadata": {
    "collapsed": false,
    "pycharm": {
     "name": "#%%\n"
    }
   }
  },
  {
   "cell_type": "markdown",
   "source": [
    "Thus, the final branch data look as follows:"
   ],
   "metadata": {
    "collapsed": false,
    "pycharm": {
     "name": "#%% md\n"
    }
   }
  },
  {
   "cell_type": "code",
   "execution_count": 7,
   "outputs": [
    {
     "data": {
      "text/plain": "  branch_name from_bus  to_bus parallel  in_service    r__ohm     x__ohm  \\\n0   branch__1   bus__1  bus__2        1        True  5.770332  19.024956   \n1   branch__2   bus__1  bus__3        1        True  2.456676   8.074656   \n\n        b__µs  trafo_ratio  max_i__ka  \n0  133.375341          NaN   2.510219  \n1   56.815795          NaN   2.510219  ",
      "text/html": "<div>\n<style scoped>\n    .dataframe tbody tr th:only-of-type {\n        vertical-align: middle;\n    }\n\n    .dataframe tbody tr th {\n        vertical-align: top;\n    }\n\n    .dataframe thead th {\n        text-align: right;\n    }\n</style>\n<table border=\"1\" class=\"dataframe\">\n  <thead>\n    <tr style=\"text-align: right;\">\n      <th></th>\n      <th>branch_name</th>\n      <th>from_bus</th>\n      <th>to_bus</th>\n      <th>parallel</th>\n      <th>in_service</th>\n      <th>r__ohm</th>\n      <th>x__ohm</th>\n      <th>b__µs</th>\n      <th>trafo_ratio</th>\n      <th>max_i__ka</th>\n    </tr>\n  </thead>\n  <tbody>\n    <tr>\n      <th>0</th>\n      <td>branch__1</td>\n      <td>bus__1</td>\n      <td>bus__2</td>\n      <td>1</td>\n      <td>True</td>\n      <td>5.770332</td>\n      <td>19.024956</td>\n      <td>133.375341</td>\n      <td>NaN</td>\n      <td>2.510219</td>\n    </tr>\n    <tr>\n      <th>1</th>\n      <td>branch__2</td>\n      <td>bus__1</td>\n      <td>bus__3</td>\n      <td>1</td>\n      <td>True</td>\n      <td>2.456676</td>\n      <td>8.074656</td>\n      <td>56.815795</td>\n      <td>NaN</td>\n      <td>2.510219</td>\n    </tr>\n  </tbody>\n</table>\n</div>"
     },
     "execution_count": 7,
     "metadata": {},
     "output_type": "execute_result"
    }
   ],
   "source": [
    "branches = prepare_branches(\n",
    "    parsed_nrel118_lines=nrel118_lines,\n",
    "    parsed_jeas118_lines=jeas118_lines,\n",
    "    parsed_jeas118_trafos=jeas118_trafos,\n",
    "    prepared_buses=buses,\n",
    ")\n",
    "branches.head(2)"
   ],
   "metadata": {
    "collapsed": false,
    "pycharm": {
     "name": "#%%\n"
    }
   }
  },
  {
   "cell_type": "markdown",
   "source": [
    "## Loads"
   ],
   "metadata": {
    "collapsed": false,
    "pycharm": {
     "name": "#%% md\n"
    }
   }
  },
  {
   "cell_type": "markdown",
   "source": [
    "Here is the list of necessary load variables:\n",
    "\n",
    "- bus where the load is located\n",
    "- active and reactive power of the load\n",
    "- if the load is in service\n",
    "- name (optional)"
   ],
   "metadata": {
    "collapsed": false,
    "pycharm": {
     "name": "#%% md\n"
    }
   }
  },
  {
   "cell_type": "markdown",
   "source": [
    "The information about a part of the regional active load located in each bus is stored in variable \"load_participation_factor\" in the bus data of the NREL-118 dataset:"
   ],
   "metadata": {
    "collapsed": false,
    "pycharm": {
     "name": "#%% md\n"
    }
   }
  },
  {
   "cell_type": "code",
   "execution_count": 8,
   "outputs": [
    {
     "data": {
      "text/plain": "  bus_name region  load_participation_factor\n0   bus__1     r1                   0.047169\n1   bus__2     r1                   0.018496",
      "text/html": "<div>\n<style scoped>\n    .dataframe tbody tr th:only-of-type {\n        vertical-align: middle;\n    }\n\n    .dataframe tbody tr th {\n        vertical-align: top;\n    }\n\n    .dataframe thead th {\n        text-align: right;\n    }\n</style>\n<table border=\"1\" class=\"dataframe\">\n  <thead>\n    <tr style=\"text-align: right;\">\n      <th></th>\n      <th>bus_name</th>\n      <th>region</th>\n      <th>load_participation_factor</th>\n    </tr>\n  </thead>\n  <tbody>\n    <tr>\n      <th>0</th>\n      <td>bus__1</td>\n      <td>r1</td>\n      <td>0.047169</td>\n    </tr>\n    <tr>\n      <th>1</th>\n      <td>bus__2</td>\n      <td>r1</td>\n      <td>0.018496</td>\n    </tr>\n  </tbody>\n</table>\n</div>"
     },
     "execution_count": 8,
     "metadata": {},
     "output_type": "execute_result"
    }
   ],
   "source": [
    "nrel118_buses.head(2)"
   ],
   "metadata": {
    "collapsed": false,
    "pycharm": {
     "name": "#%%\n"
    }
   }
  },
  {
   "cell_type": "markdown",
   "source": [
    "Active load value of regions is stored in the time-series NREL-118 data:"
   ],
   "metadata": {
    "collapsed": false,
    "pycharm": {
     "name": "#%% md\n"
    }
   }
  },
  {
   "cell_type": "code",
   "execution_count": 9,
   "outputs": [
    {
     "data": {
      "text/plain": "              datetime region_name  region_load\n0  2024-01-01 00:00:00          r3  2421.205928\n1  2024-01-01 00:00:00          r1  5698.083154",
      "text/html": "<div>\n<style scoped>\n    .dataframe tbody tr th:only-of-type {\n        vertical-align: middle;\n    }\n\n    .dataframe tbody tr th {\n        vertical-align: top;\n    }\n\n    .dataframe thead th {\n        text-align: right;\n    }\n</style>\n<table border=\"1\" class=\"dataframe\">\n  <thead>\n    <tr style=\"text-align: right;\">\n      <th></th>\n      <th>datetime</th>\n      <th>region_name</th>\n      <th>region_load</th>\n    </tr>\n  </thead>\n  <tbody>\n    <tr>\n      <th>0</th>\n      <td>2024-01-01 00:00:00</td>\n      <td>r3</td>\n      <td>2421.205928</td>\n    </tr>\n    <tr>\n      <th>1</th>\n      <td>2024-01-01 00:00:00</td>\n      <td>r1</td>\n      <td>5698.083154</td>\n    </tr>\n  </tbody>\n</table>\n</div>"
     },
     "execution_count": 9,
     "metadata": {},
     "output_type": "execute_result"
    }
   ],
   "source": [
    "path_nrel118_loads_ts = os.path.join(PATH_NREL118, \"Input files\", \"RT\", \"Load\")\n",
    "nrel118_loads_ts = parse_nrel118_loads_ts(raw_data=path_nrel118_loads_ts)\n",
    "nrel118_loads_ts.head(2)"
   ],
   "metadata": {
    "collapsed": false,
    "pycharm": {
     "name": "#%%\n"
    }
   }
  },
  {
   "cell_type": "markdown",
   "source": [
    "To calculate reactive power of loads, let's get the JEAS-118 data:"
   ],
   "metadata": {
    "collapsed": false,
    "pycharm": {
     "name": "#%% md\n"
    }
   }
  },
  {
   "cell_type": "code",
   "execution_count": 10,
   "outputs": [
    {
     "data": {
      "text/plain": "  bus_name  p__mw  q__mvar\n0   bus__1  54.14     8.66\n1   bus__2  21.23     9.55",
      "text/html": "<div>\n<style scoped>\n    .dataframe tbody tr th:only-of-type {\n        vertical-align: middle;\n    }\n\n    .dataframe tbody tr th {\n        vertical-align: top;\n    }\n\n    .dataframe thead th {\n        text-align: right;\n    }\n</style>\n<table border=\"1\" class=\"dataframe\">\n  <thead>\n    <tr style=\"text-align: right;\">\n      <th></th>\n      <th>bus_name</th>\n      <th>p__mw</th>\n      <th>q__mvar</th>\n    </tr>\n  </thead>\n  <tbody>\n    <tr>\n      <th>0</th>\n      <td>bus__1</td>\n      <td>54.14</td>\n      <td>8.66</td>\n    </tr>\n    <tr>\n      <th>1</th>\n      <td>bus__2</td>\n      <td>21.23</td>\n      <td>9.55</td>\n    </tr>\n  </tbody>\n</table>\n</div>"
     },
     "execution_count": 10,
     "metadata": {},
     "output_type": "execute_result"
    }
   ],
   "source": [
    "path_jeas118_loads = os.path.join(PATH_JEAS118, \"JEAS_IEEE118.doc\")\n",
    "jeas118_loads = parse_jeas118_loads(raw_data=path_jeas118_loads)\n",
    "jeas118_loads.head(2)"
   ],
   "metadata": {
    "collapsed": false,
    "pycharm": {
     "name": "#%%\n"
    }
   }
  },
  {
   "cell_type": "markdown",
   "source": [
    "The JEAS-118 load data will help to estimate the power factor of each load and define its reactive power at each moment of time using time-series data of active demand:"
   ],
   "metadata": {
    "collapsed": false,
    "pycharm": {
     "name": "#%% md\n"
    }
   }
  },
  {
   "cell_type": "code",
   "execution_count": 11,
   "outputs": [
    {
     "data": {
      "text/plain": "  load_name bus_name region  load_participation_factor  load_power_factor\n0   load__1   bus__1     r1                   0.047169           0.987447\n1   load__2   bus__2     r1                   0.018496           0.911978",
      "text/html": "<div>\n<style scoped>\n    .dataframe tbody tr th:only-of-type {\n        vertical-align: middle;\n    }\n\n    .dataframe tbody tr th {\n        vertical-align: top;\n    }\n\n    .dataframe thead th {\n        text-align: right;\n    }\n</style>\n<table border=\"1\" class=\"dataframe\">\n  <thead>\n    <tr style=\"text-align: right;\">\n      <th></th>\n      <th>load_name</th>\n      <th>bus_name</th>\n      <th>region</th>\n      <th>load_participation_factor</th>\n      <th>load_power_factor</th>\n    </tr>\n  </thead>\n  <tbody>\n    <tr>\n      <th>0</th>\n      <td>load__1</td>\n      <td>bus__1</td>\n      <td>r1</td>\n      <td>0.047169</td>\n      <td>0.987447</td>\n    </tr>\n    <tr>\n      <th>1</th>\n      <td>load__2</td>\n      <td>bus__2</td>\n      <td>r1</td>\n      <td>0.018496</td>\n      <td>0.911978</td>\n    </tr>\n  </tbody>\n</table>\n</div>"
     },
     "execution_count": 11,
     "metadata": {},
     "output_type": "execute_result"
    }
   ],
   "source": [
    "transformed_loads = transform_loads(\n",
    "    parsed_nrel118_buses=nrel118_buses, parsed_jeas118_loads=jeas118_loads\n",
    ")\n",
    "transformed_loads.head(2)"
   ],
   "metadata": {
    "collapsed": false,
    "pycharm": {
     "name": "#%%\n"
    }
   }
  },
  {
   "cell_type": "markdown",
   "source": [
    "Thus, it is necessary to prepare two files with load data. The first will contain the load power variation over time, the other will contain basic load information (location, etc.)."
   ],
   "metadata": {
    "collapsed": false,
    "pycharm": {
     "name": "#%% md\n"
    }
   }
  },
  {
   "cell_type": "code",
   "execution_count": 12,
   "outputs": [
    {
     "data": {
      "text/plain": "  load_name bus_name\n0   load__1   bus__1\n1   load__2   bus__2",
      "text/html": "<div>\n<style scoped>\n    .dataframe tbody tr th:only-of-type {\n        vertical-align: middle;\n    }\n\n    .dataframe tbody tr th {\n        vertical-align: top;\n    }\n\n    .dataframe thead th {\n        text-align: right;\n    }\n</style>\n<table border=\"1\" class=\"dataframe\">\n  <thead>\n    <tr style=\"text-align: right;\">\n      <th></th>\n      <th>load_name</th>\n      <th>bus_name</th>\n    </tr>\n  </thead>\n  <tbody>\n    <tr>\n      <th>0</th>\n      <td>load__1</td>\n      <td>bus__1</td>\n    </tr>\n    <tr>\n      <th>1</th>\n      <td>load__2</td>\n      <td>bus__2</td>\n    </tr>\n  </tbody>\n</table>\n</div>"
     },
     "execution_count": 12,
     "metadata": {},
     "output_type": "execute_result"
    }
   ],
   "source": [
    "loads = prepare_loads(transformed_loads=transformed_loads)\n",
    "loads.head(2)"
   ],
   "metadata": {
    "collapsed": false,
    "pycharm": {
     "name": "#%%\n"
    }
   }
  },
  {
   "cell_type": "code",
   "execution_count": 13,
   "outputs": [
    {
     "data": {
      "text/plain": "                    load__1__in_service load__10__in_service  \\\ndatetime                                                       \n2024-01-01 00:00:00                True                 True   \n2024-01-01 01:00:00                True                 True   \n\n                    load__11__in_service load__12__in_service  \\\ndatetime                                                        \n2024-01-01 00:00:00                 True                 True   \n2024-01-01 01:00:00                 True                 True   \n\n                    load__13__in_service load__14__in_service  \\\ndatetime                                                        \n2024-01-01 00:00:00                 True                 True   \n2024-01-01 01:00:00                 True                 True   \n\n                    load__15__in_service load__16__in_service  \\\ndatetime                                                        \n2024-01-01 00:00:00                 True                 True   \n2024-01-01 01:00:00                 True                 True   \n\n                    load__17__in_service load__18__in_service  ...  \\\ndatetime                                                       ...   \n2024-01-01 00:00:00                 True                 True  ...   \n2024-01-01 01:00:00                 True                 True  ...   \n\n                    load__83__q__mvar load__84__q__mvar load__85__q__mvar  \\\ndatetime                                                                    \n2024-01-01 00:00:00         38.551556          3.255938          9.767815   \n2024-01-01 01:00:00         39.589353          3.343587         10.030762   \n\n                    load__86__q__mvar load__87__q__mvar load__88__q__mvar  \\\ndatetime                                                                    \n2024-01-01 00:00:00         97.678165         42.327208         15.786699   \n2024-01-01 01:00:00        100.307633         43.466644         15.142957   \n\n                    load__89__q__mvar load__9__q__mvar load__90__q__mvar  \\\ndatetime                                                                   \n2024-01-01 00:00:00         36.885267        84.344645         42.147499   \n2024-01-01 01:00:00         35.381178        80.905282          40.42883   \n\n                    load__91__q__mvar  \ndatetime                               \n2024-01-01 00:00:00         16.031958  \n2024-01-01 01:00:00         15.518813  \n\n[2 rows x 273 columns]",
      "text/html": "<div>\n<style scoped>\n    .dataframe tbody tr th:only-of-type {\n        vertical-align: middle;\n    }\n\n    .dataframe tbody tr th {\n        vertical-align: top;\n    }\n\n    .dataframe thead th {\n        text-align: right;\n    }\n</style>\n<table border=\"1\" class=\"dataframe\">\n  <thead>\n    <tr style=\"text-align: right;\">\n      <th></th>\n      <th>load__1__in_service</th>\n      <th>load__10__in_service</th>\n      <th>load__11__in_service</th>\n      <th>load__12__in_service</th>\n      <th>load__13__in_service</th>\n      <th>load__14__in_service</th>\n      <th>load__15__in_service</th>\n      <th>load__16__in_service</th>\n      <th>load__17__in_service</th>\n      <th>load__18__in_service</th>\n      <th>...</th>\n      <th>load__83__q__mvar</th>\n      <th>load__84__q__mvar</th>\n      <th>load__85__q__mvar</th>\n      <th>load__86__q__mvar</th>\n      <th>load__87__q__mvar</th>\n      <th>load__88__q__mvar</th>\n      <th>load__89__q__mvar</th>\n      <th>load__9__q__mvar</th>\n      <th>load__90__q__mvar</th>\n      <th>load__91__q__mvar</th>\n    </tr>\n    <tr>\n      <th>datetime</th>\n      <th></th>\n      <th></th>\n      <th></th>\n      <th></th>\n      <th></th>\n      <th></th>\n      <th></th>\n      <th></th>\n      <th></th>\n      <th></th>\n      <th></th>\n      <th></th>\n      <th></th>\n      <th></th>\n      <th></th>\n      <th></th>\n      <th></th>\n      <th></th>\n      <th></th>\n      <th></th>\n      <th></th>\n    </tr>\n  </thead>\n  <tbody>\n    <tr>\n      <th>2024-01-01 00:00:00</th>\n      <td>True</td>\n      <td>True</td>\n      <td>True</td>\n      <td>True</td>\n      <td>True</td>\n      <td>True</td>\n      <td>True</td>\n      <td>True</td>\n      <td>True</td>\n      <td>True</td>\n      <td>...</td>\n      <td>38.551556</td>\n      <td>3.255938</td>\n      <td>9.767815</td>\n      <td>97.678165</td>\n      <td>42.327208</td>\n      <td>15.786699</td>\n      <td>36.885267</td>\n      <td>84.344645</td>\n      <td>42.147499</td>\n      <td>16.031958</td>\n    </tr>\n    <tr>\n      <th>2024-01-01 01:00:00</th>\n      <td>True</td>\n      <td>True</td>\n      <td>True</td>\n      <td>True</td>\n      <td>True</td>\n      <td>True</td>\n      <td>True</td>\n      <td>True</td>\n      <td>True</td>\n      <td>True</td>\n      <td>...</td>\n      <td>39.589353</td>\n      <td>3.343587</td>\n      <td>10.030762</td>\n      <td>100.307633</td>\n      <td>43.466644</td>\n      <td>15.142957</td>\n      <td>35.381178</td>\n      <td>80.905282</td>\n      <td>40.42883</td>\n      <td>15.518813</td>\n    </tr>\n  </tbody>\n</table>\n<p>2 rows × 273 columns</p>\n</div>"
     },
     "execution_count": 13,
     "metadata": {},
     "output_type": "execute_result"
    }
   ],
   "source": [
    "loads_ts = prepare_loads_ts(\n",
    "    transformed_loads=transformed_loads, parsed_nrel118_loads_ts=nrel118_loads_ts\n",
    ")\n",
    "loads_ts.head(2)"
   ],
   "metadata": {
    "collapsed": false,
    "pycharm": {
     "name": "#%%\n"
    }
   }
  },
  {
   "cell_type": "markdown",
   "source": [
    "## Generators\n"
   ],
   "metadata": {
    "collapsed": false,
    "pycharm": {
     "name": "#%% md\n"
    }
   }
  },
  {
   "cell_type": "markdown",
   "source": [
    "To build a power flow model, the following information about generators is necessary:\n",
    "- bus where the generator is located\n",
    "- active power of the generator\n",
    "- if the generator is in service\n",
    "- voltage set point of the generator\n",
    "- max and min limits of reactive power output\n",
    "- name (optional)"
   ],
   "metadata": {
    "collapsed": false,
    "pycharm": {
     "name": "#%% md\n"
    }
   }
  },
  {
   "cell_type": "markdown",
   "source": [
    "Let's start from parsing generator data from the NREL-118 dataset:"
   ],
   "metadata": {
    "collapsed": false,
    "pycharm": {
     "name": "#%% md\n"
    }
   }
  },
  {
   "cell_type": "code",
   "execution_count": 14,
   "outputs": [
    {
     "data": {
      "text/plain": "     gen_name bus_name  max_p__mw\n0  biomass__1  bus__12        3.0\n1  biomass__2  bus__12        3.0",
      "text/html": "<div>\n<style scoped>\n    .dataframe tbody tr th:only-of-type {\n        vertical-align: middle;\n    }\n\n    .dataframe tbody tr th {\n        vertical-align: top;\n    }\n\n    .dataframe thead th {\n        text-align: right;\n    }\n</style>\n<table border=\"1\" class=\"dataframe\">\n  <thead>\n    <tr style=\"text-align: right;\">\n      <th></th>\n      <th>gen_name</th>\n      <th>bus_name</th>\n      <th>max_p__mw</th>\n    </tr>\n  </thead>\n  <tbody>\n    <tr>\n      <th>0</th>\n      <td>biomass__1</td>\n      <td>bus__12</td>\n      <td>3.0</td>\n    </tr>\n    <tr>\n      <th>1</th>\n      <td>biomass__2</td>\n      <td>bus__12</td>\n      <td>3.0</td>\n    </tr>\n  </tbody>\n</table>\n</div>"
     },
     "execution_count": 14,
     "metadata": {},
     "output_type": "execute_result"
    }
   ],
   "source": [
    "path_nrel118_gens = os.path.join(\n",
    "    PATH_NREL118, \"additional-files-mti-118\", \"Generators.csv\"\n",
    ")\n",
    "nrel118_gens = parse_nrel118_gens(raw_data=path_nrel118_gens)\n",
    "nrel118_gens.head(2)"
   ],
   "metadata": {
    "collapsed": false,
    "pycharm": {
     "name": "#%%\n"
    }
   }
  },
  {
   "cell_type": "markdown",
   "source": [
    "Next, time-series data from the NREL-118 dataset are parsed:"
   ],
   "metadata": {
    "collapsed": false,
    "pycharm": {
     "name": "#%% md\n"
    }
   }
  },
  {
   "cell_type": "code",
   "execution_count": 15,
   "outputs": [
    {
     "data": {
      "text/plain": "              datetime   gen_name     p__mw\n0  2024-01-01 00:00:00  hydro__43  4.106700\n1  2024-01-01 00:00:00  hydro__41  2.425893",
      "text/html": "<div>\n<style scoped>\n    .dataframe tbody tr th:only-of-type {\n        vertical-align: middle;\n    }\n\n    .dataframe tbody tr th {\n        vertical-align: top;\n    }\n\n    .dataframe thead th {\n        text-align: right;\n    }\n</style>\n<table border=\"1\" class=\"dataframe\">\n  <thead>\n    <tr style=\"text-align: right;\">\n      <th></th>\n      <th>datetime</th>\n      <th>gen_name</th>\n      <th>p__mw</th>\n    </tr>\n  </thead>\n  <tbody>\n    <tr>\n      <th>0</th>\n      <td>2024-01-01 00:00:00</td>\n      <td>hydro__43</td>\n      <td>4.106700</td>\n    </tr>\n    <tr>\n      <th>1</th>\n      <td>2024-01-01 00:00:00</td>\n      <td>hydro__41</td>\n      <td>2.425893</td>\n    </tr>\n  </tbody>\n</table>\n</div>"
     },
     "execution_count": 15,
     "metadata": {},
     "output_type": "execute_result"
    }
   ],
   "source": [
    "# Hydro plants\n",
    "path_nrel118_hydros_ts = os.path.join(PATH_NREL118, \"Input files\", \"Hydro\")\n",
    "nrel118_hydros_ts = parse_nrel118_hydros_ts(raw_data=path_nrel118_hydros_ts)\n",
    "nrel118_hydros_ts.head(2)"
   ],
   "metadata": {
    "collapsed": false,
    "pycharm": {
     "name": "#%%\n"
    }
   }
  },
  {
   "cell_type": "code",
   "execution_count": 16,
   "outputs": [
    {
     "data": {
      "text/plain": "              datetime   gen_name  p__mw\n0  2024-01-01 00:00:00   solar__2    0.0\n1  2024-01-01 00:00:00  solar__67    0.0",
      "text/html": "<div>\n<style scoped>\n    .dataframe tbody tr th:only-of-type {\n        vertical-align: middle;\n    }\n\n    .dataframe tbody tr th {\n        vertical-align: top;\n    }\n\n    .dataframe thead th {\n        text-align: right;\n    }\n</style>\n<table border=\"1\" class=\"dataframe\">\n  <thead>\n    <tr style=\"text-align: right;\">\n      <th></th>\n      <th>datetime</th>\n      <th>gen_name</th>\n      <th>p__mw</th>\n    </tr>\n  </thead>\n  <tbody>\n    <tr>\n      <th>0</th>\n      <td>2024-01-01 00:00:00</td>\n      <td>solar__2</td>\n      <td>0.0</td>\n    </tr>\n    <tr>\n      <th>1</th>\n      <td>2024-01-01 00:00:00</td>\n      <td>solar__67</td>\n      <td>0.0</td>\n    </tr>\n  </tbody>\n</table>\n</div>"
     },
     "execution_count": 16,
     "metadata": {},
     "output_type": "execute_result"
    }
   ],
   "source": [
    "# Solar plants\n",
    "path_nrel118_solars_ts = os.path.join(PATH_NREL118, \"Input files\", \"RT\", \"Solar\")\n",
    "nrel118_solars_ts = parse_nrel118_solars_ts(raw_data=path_nrel118_solars_ts)\n",
    "nrel118_solars_ts.head(2)"
   ],
   "metadata": {
    "collapsed": false,
    "pycharm": {
     "name": "#%%\n"
    }
   }
  },
  {
   "cell_type": "code",
   "execution_count": 17,
   "outputs": [
    {
     "data": {
      "text/plain": "              datetime  gen_name      p__mw\n0  2024-01-01 00:00:00  wind__10  12.765404\n1  2024-01-01 00:00:00   wind__5   0.902116",
      "text/html": "<div>\n<style scoped>\n    .dataframe tbody tr th:only-of-type {\n        vertical-align: middle;\n    }\n\n    .dataframe tbody tr th {\n        vertical-align: top;\n    }\n\n    .dataframe thead th {\n        text-align: right;\n    }\n</style>\n<table border=\"1\" class=\"dataframe\">\n  <thead>\n    <tr style=\"text-align: right;\">\n      <th></th>\n      <th>datetime</th>\n      <th>gen_name</th>\n      <th>p__mw</th>\n    </tr>\n  </thead>\n  <tbody>\n    <tr>\n      <th>0</th>\n      <td>2024-01-01 00:00:00</td>\n      <td>wind__10</td>\n      <td>12.765404</td>\n    </tr>\n    <tr>\n      <th>1</th>\n      <td>2024-01-01 00:00:00</td>\n      <td>wind__5</td>\n      <td>0.902116</td>\n    </tr>\n  </tbody>\n</table>\n</div>"
     },
     "execution_count": 17,
     "metadata": {},
     "output_type": "execute_result"
    }
   ],
   "source": [
    "# Wind plants\n",
    "path_nrel118_winds_ts = os.path.join(PATH_NREL118, \"Input files\", \"RT\", \"Wind\")\n",
    "nrel118_winds_ts = parse_nrel118_winds_ts(raw_data=path_nrel118_winds_ts)\n",
    "nrel118_winds_ts.head(2)"
   ],
   "metadata": {
    "collapsed": false,
    "pycharm": {
     "name": "#%%\n"
    }
   }
  },
  {
   "cell_type": "code",
   "execution_count": 18,
   "outputs": [
    {
     "data": {
      "text/plain": "              datetime   gen_name  p__mw\n0  2024-01-01 00:00:00  hydro__36   0.51\n1  2024-10-01 00:00:00  hydro__36   0.43",
      "text/html": "<div>\n<style scoped>\n    .dataframe tbody tr th:only-of-type {\n        vertical-align: middle;\n    }\n\n    .dataframe tbody tr th {\n        vertical-align: top;\n    }\n\n    .dataframe thead th {\n        text-align: right;\n    }\n</style>\n<table border=\"1\" class=\"dataframe\">\n  <thead>\n    <tr style=\"text-align: right;\">\n      <th></th>\n      <th>datetime</th>\n      <th>gen_name</th>\n      <th>p__mw</th>\n    </tr>\n  </thead>\n  <tbody>\n    <tr>\n      <th>0</th>\n      <td>2024-01-01 00:00:00</td>\n      <td>hydro__36</td>\n      <td>0.51</td>\n    </tr>\n    <tr>\n      <th>1</th>\n      <td>2024-10-01 00:00:00</td>\n      <td>hydro__36</td>\n      <td>0.43</td>\n    </tr>\n  </tbody>\n</table>\n</div>"
     },
     "execution_count": 18,
     "metadata": {},
     "output_type": "execute_result"
    }
   ],
   "source": [
    "# Non-dispatchable hydro plants\n",
    "path_nrel118_hydros_nondisp_ts = os.path.join(\n",
    "    PATH_NREL118,\n",
    "    \"additional-files-mti-118\",\n",
    "    \"Hydro_nondipatchable.csv\",\n",
    ")\n",
    "nrel118_hydros_nondisp_ts = parse_nrel118_hydros_nondisp_ts(\n",
    "    raw_data=path_nrel118_hydros_nondisp_ts\n",
    ")\n",
    "nrel118_hydros_nondisp_ts.head(2)"
   ],
   "metadata": {
    "collapsed": false,
    "pycharm": {
     "name": "#%%\n"
    }
   }
  },
  {
   "cell_type": "markdown",
   "source": [
    "Escalators used to adjust generation profile to seasons or other time for all the generators, except wind, solar and hydro:"
   ],
   "metadata": {
    "collapsed": false,
    "pycharm": {
     "name": "#%% md\n"
    }
   }
  },
  {
   "cell_type": "code",
   "execution_count": 19,
   "outputs": [
    {
     "data": {
      "text/plain": "              datetime    gen_name  escalator_ratio\n0  2024-01-01 00:00:00  biomass__1           0.3500\n1  2024-10-01 00:00:00  biomass__1           0.3433",
      "text/html": "<div>\n<style scoped>\n    .dataframe tbody tr th:only-of-type {\n        vertical-align: middle;\n    }\n\n    .dataframe tbody tr th {\n        vertical-align: top;\n    }\n\n    .dataframe thead th {\n        text-align: right;\n    }\n</style>\n<table border=\"1\" class=\"dataframe\">\n  <thead>\n    <tr style=\"text-align: right;\">\n      <th></th>\n      <th>datetime</th>\n      <th>gen_name</th>\n      <th>escalator_ratio</th>\n    </tr>\n  </thead>\n  <tbody>\n    <tr>\n      <th>0</th>\n      <td>2024-01-01 00:00:00</td>\n      <td>biomass__1</td>\n      <td>0.3500</td>\n    </tr>\n    <tr>\n      <th>1</th>\n      <td>2024-10-01 00:00:00</td>\n      <td>biomass__1</td>\n      <td>0.3433</td>\n    </tr>\n  </tbody>\n</table>\n</div>"
     },
     "execution_count": 19,
     "metadata": {},
     "output_type": "execute_result"
    }
   ],
   "source": [
    "# Escalators data\n",
    "path_nrel118_escalators_ts = os.path.join(\n",
    "    PATH_NREL118, \"additional-files-mti-118\", \"Escalators.csv\"\n",
    ")\n",
    "nrel118_escalators_ts = parse_nrel118_escalators_ts(raw_data=path_nrel118_escalators_ts)\n",
    "nrel118_escalators_ts.head(2)"
   ],
   "metadata": {
    "collapsed": false,
    "pycharm": {
     "name": "#%%\n"
    }
   }
  },
  {
   "cell_type": "markdown",
   "source": [
    "Thus, it is possible to multiply max output of generation by escalators to estimate the power output over time of all generators, except wind, solar and hydro:"
   ],
   "metadata": {
    "collapsed": false,
    "pycharm": {
     "name": "#%% md\n"
    }
   }
  },
  {
   "cell_type": "code",
   "execution_count": 20,
   "outputs": [
    {
     "data": {
      "text/plain": "              datetime    gen_name   p__mw\n0  2024-01-01 00:00:00  biomass__1  1.0500\n1  2024-10-01 00:00:00  biomass__1  1.0299",
      "text/html": "<div>\n<style scoped>\n    .dataframe tbody tr th:only-of-type {\n        vertical-align: middle;\n    }\n\n    .dataframe tbody tr th {\n        vertical-align: top;\n    }\n\n    .dataframe thead th {\n        text-align: right;\n    }\n</style>\n<table border=\"1\" class=\"dataframe\">\n  <thead>\n    <tr style=\"text-align: right;\">\n      <th></th>\n      <th>datetime</th>\n      <th>gen_name</th>\n      <th>p__mw</th>\n    </tr>\n  </thead>\n  <tbody>\n    <tr>\n      <th>0</th>\n      <td>2024-01-01 00:00:00</td>\n      <td>biomass__1</td>\n      <td>1.0500</td>\n    </tr>\n    <tr>\n      <th>1</th>\n      <td>2024-10-01 00:00:00</td>\n      <td>biomass__1</td>\n      <td>1.0299</td>\n    </tr>\n  </tbody>\n</table>\n</div>"
     },
     "execution_count": 20,
     "metadata": {},
     "output_type": "execute_result"
    }
   ],
   "source": [
    "gens_escalated_ts = transform_gens_escalated_ts(\n",
    "    parsed_nrel118_gens=nrel118_gens, parsed_nrel118_escalators_ts=nrel118_escalators_ts\n",
    ")\n",
    "gens_escalated_ts.head(2)"
   ],
   "metadata": {
    "collapsed": false,
    "pycharm": {
     "name": "#%%\n"
    }
   }
  },
  {
   "cell_type": "code",
   "execution_count": 21,
   "outputs": [
    {
     "data": {
      "text/plain": "              datetime    gen_name  in_outage\n0  2024-01-01 00:00:00  biomass__1      False\n1  2024-01-14 15:00:00  biomass__1       True",
      "text/html": "<div>\n<style scoped>\n    .dataframe tbody tr th:only-of-type {\n        vertical-align: middle;\n    }\n\n    .dataframe tbody tr th {\n        vertical-align: top;\n    }\n\n    .dataframe thead th {\n        text-align: right;\n    }\n</style>\n<table border=\"1\" class=\"dataframe\">\n  <thead>\n    <tr style=\"text-align: right;\">\n      <th></th>\n      <th>datetime</th>\n      <th>gen_name</th>\n      <th>in_outage</th>\n    </tr>\n  </thead>\n  <tbody>\n    <tr>\n      <th>0</th>\n      <td>2024-01-01 00:00:00</td>\n      <td>biomass__1</td>\n      <td>False</td>\n    </tr>\n    <tr>\n      <th>1</th>\n      <td>2024-01-14 15:00:00</td>\n      <td>biomass__1</td>\n      <td>True</td>\n    </tr>\n  </tbody>\n</table>\n</div>"
     },
     "execution_count": 21,
     "metadata": {},
     "output_type": "execute_result"
    }
   ],
   "source": [
    "# Outages\n",
    "path_nrel118_outages_ts = os.path.join(\n",
    "    PATH_NREL118, \"Input files\", \"Others\", \"GenOut.csv\"\n",
    ")\n",
    "nrel118_outages_ts = parse_nrel118_outages_ts(raw_data=path_nrel118_outages_ts)\n",
    "nrel118_outages_ts.head(2)"
   ],
   "metadata": {
    "collapsed": false,
    "pycharm": {
     "name": "#%%\n"
    }
   }
  },
  {
   "cell_type": "markdown",
   "source": [
    "Concat all datasets to build two files with generation data --- general generation info (location, etc.), time-series data (p__mw, in_service, etc.)."
   ],
   "metadata": {
    "collapsed": false,
    "pycharm": {
     "name": "#%% md\n"
    }
   }
  },
  {
   "cell_type": "code",
   "execution_count": 22,
   "outputs": [
    {
     "data": {
      "text/plain": "     gen_name bus_name\n0  biomass__1  bus__12\n1  biomass__2  bus__12",
      "text/html": "<div>\n<style scoped>\n    .dataframe tbody tr th:only-of-type {\n        vertical-align: middle;\n    }\n\n    .dataframe tbody tr th {\n        vertical-align: top;\n    }\n\n    .dataframe thead th {\n        text-align: right;\n    }\n</style>\n<table border=\"1\" class=\"dataframe\">\n  <thead>\n    <tr style=\"text-align: right;\">\n      <th></th>\n      <th>gen_name</th>\n      <th>bus_name</th>\n    </tr>\n  </thead>\n  <tbody>\n    <tr>\n      <th>0</th>\n      <td>biomass__1</td>\n      <td>bus__12</td>\n    </tr>\n    <tr>\n      <th>1</th>\n      <td>biomass__2</td>\n      <td>bus__12</td>\n    </tr>\n  </tbody>\n</table>\n</div>"
     },
     "execution_count": 22,
     "metadata": {},
     "output_type": "execute_result"
    }
   ],
   "source": [
    "prepared_gens = prepare_gens(parsed_nrel118_gens=nrel118_gens)\n",
    "prepared_gens.head(2)"
   ],
   "metadata": {
    "collapsed": false,
    "pycharm": {
     "name": "#%%\n"
    }
   }
  },
  {
   "cell_type": "code",
   "execution_count": 23,
   "outputs": [
    {
     "data": {
      "text/plain": "                     biomass__1__p__mw  biomass__10__p__mw  \\\ndatetime                                                     \n2024-01-01 00:00:00               1.05             0.78003   \n2024-01-01 01:00:00               1.05             0.78003   \n\n                     biomass__11__p__mw  biomass__12__p__mw  \\\ndatetime                                                      \n2024-01-01 00:00:00            0.379992            0.379992   \n2024-01-01 01:00:00            0.379992            0.379992   \n\n                     biomass__13__p__mw  biomass__14__p__mw  \\\ndatetime                                                      \n2024-01-01 00:00:00            0.379992             0.83995   \n2024-01-01 01:00:00            0.379992             0.83995   \n\n                     biomass__15__p__mw  biomass__16__p__mw  \\\ndatetime                                                      \n2024-01-01 00:00:00            0.200005            0.200005   \n2024-01-01 01:00:00            0.200005            0.200005   \n\n                     biomass__17__p__mw  biomass__18__p__mw  ...  \\\ndatetime                                                     ...   \n2024-01-01 00:00:00            0.200005            0.200005  ...   \n2024-01-01 01:00:00            0.200005            0.200005  ...   \n\n                     in_service__in_service  in_service__in_service  \\\ndatetime                                                              \n2024-01-01 00:00:00                    True                    True   \n2024-01-01 01:00:00                    True                    True   \n\n                     in_service__in_service  in_service__in_service  \\\ndatetime                                                              \n2024-01-01 00:00:00                    True                    True   \n2024-01-01 01:00:00                    True                    True   \n\n                     in_service__in_service  in_service__in_service  \\\ndatetime                                                              \n2024-01-01 00:00:00                    True                    True   \n2024-01-01 01:00:00                    True                    True   \n\n                     in_service__in_service  in_service__in_service  \\\ndatetime                                                              \n2024-01-01 00:00:00                    True                    True   \n2024-01-01 01:00:00                    True                    True   \n\n                     in_service__in_service  in_service__in_service  \ndatetime                                                             \n2024-01-01 00:00:00                    True                    True  \n2024-01-01 01:00:00                    True                    True  \n\n[2 rows x 1511 columns]",
      "text/html": "<div>\n<style scoped>\n    .dataframe tbody tr th:only-of-type {\n        vertical-align: middle;\n    }\n\n    .dataframe tbody tr th {\n        vertical-align: top;\n    }\n\n    .dataframe thead th {\n        text-align: right;\n    }\n</style>\n<table border=\"1\" class=\"dataframe\">\n  <thead>\n    <tr style=\"text-align: right;\">\n      <th></th>\n      <th>biomass__1__p__mw</th>\n      <th>biomass__10__p__mw</th>\n      <th>biomass__11__p__mw</th>\n      <th>biomass__12__p__mw</th>\n      <th>biomass__13__p__mw</th>\n      <th>biomass__14__p__mw</th>\n      <th>biomass__15__p__mw</th>\n      <th>biomass__16__p__mw</th>\n      <th>biomass__17__p__mw</th>\n      <th>biomass__18__p__mw</th>\n      <th>...</th>\n      <th>in_service__in_service</th>\n      <th>in_service__in_service</th>\n      <th>in_service__in_service</th>\n      <th>in_service__in_service</th>\n      <th>in_service__in_service</th>\n      <th>in_service__in_service</th>\n      <th>in_service__in_service</th>\n      <th>in_service__in_service</th>\n      <th>in_service__in_service</th>\n      <th>in_service__in_service</th>\n    </tr>\n    <tr>\n      <th>datetime</th>\n      <th></th>\n      <th></th>\n      <th></th>\n      <th></th>\n      <th></th>\n      <th></th>\n      <th></th>\n      <th></th>\n      <th></th>\n      <th></th>\n      <th></th>\n      <th></th>\n      <th></th>\n      <th></th>\n      <th></th>\n      <th></th>\n      <th></th>\n      <th></th>\n      <th></th>\n      <th></th>\n      <th></th>\n    </tr>\n  </thead>\n  <tbody>\n    <tr>\n      <th>2024-01-01 00:00:00</th>\n      <td>1.05</td>\n      <td>0.78003</td>\n      <td>0.379992</td>\n      <td>0.379992</td>\n      <td>0.379992</td>\n      <td>0.83995</td>\n      <td>0.200005</td>\n      <td>0.200005</td>\n      <td>0.200005</td>\n      <td>0.200005</td>\n      <td>...</td>\n      <td>True</td>\n      <td>True</td>\n      <td>True</td>\n      <td>True</td>\n      <td>True</td>\n      <td>True</td>\n      <td>True</td>\n      <td>True</td>\n      <td>True</td>\n      <td>True</td>\n    </tr>\n    <tr>\n      <th>2024-01-01 01:00:00</th>\n      <td>1.05</td>\n      <td>0.78003</td>\n      <td>0.379992</td>\n      <td>0.379992</td>\n      <td>0.379992</td>\n      <td>0.83995</td>\n      <td>0.200005</td>\n      <td>0.200005</td>\n      <td>0.200005</td>\n      <td>0.200005</td>\n      <td>...</td>\n      <td>True</td>\n      <td>True</td>\n      <td>True</td>\n      <td>True</td>\n      <td>True</td>\n      <td>True</td>\n      <td>True</td>\n      <td>True</td>\n      <td>True</td>\n      <td>True</td>\n    </tr>\n  </tbody>\n</table>\n<p>2 rows × 1511 columns</p>\n</div>"
     },
     "execution_count": 23,
     "metadata": {},
     "output_type": "execute_result"
    }
   ],
   "source": [
    "prepared_gens_ts = prepare_gens_ts(\n",
    "    parsed_nrel118_winds_ts=nrel118_winds_ts,\n",
    "    parsed_nrel118_solars_ts=nrel118_solars_ts,\n",
    "    parsed_nrel118_hydros_ts=nrel118_hydros_ts,\n",
    "    parsed_nrel118_hydros_nondisp_ts=nrel118_hydros_nondisp_ts,\n",
    "    transformed_gens_escalated_ts=gens_escalated_ts,\n",
    "    parsed_nrel118_outages_ts=nrel118_outages_ts,\n",
    ")\n",
    "prepared_gens_ts.head(2)"
   ],
   "metadata": {
    "collapsed": false,
    "pycharm": {
     "name": "#%%\n"
    }
   }
  },
  {
   "cell_type": "code",
   "execution_count": 23,
   "outputs": [],
   "source": [],
   "metadata": {
    "collapsed": false,
    "pycharm": {
     "name": "#%%\n"
    }
   }
  }
 ],
 "metadata": {
  "kernelspec": {
   "display_name": "Python 3",
   "language": "python",
   "name": "python3"
  },
  "language_info": {
   "codemirror_mode": {
    "name": "ipython",
    "version": 2
   },
   "file_extension": ".py",
   "mimetype": "text/x-python",
   "name": "python",
   "nbconvert_exporter": "python",
   "pygments_lexer": "ipython2",
   "version": "2.7.6"
  }
 },
 "nbformat": 4,
 "nbformat_minor": 0
}