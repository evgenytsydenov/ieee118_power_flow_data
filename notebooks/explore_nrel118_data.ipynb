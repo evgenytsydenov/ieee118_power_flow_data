{
 "cells": [
  {
   "cell_type": "markdown",
   "source": [
    "# Explore NREL-118 Data\n"
   ],
   "metadata": {
    "collapsed": false,
    "pycharm": {
     "name": "#%% md\n"
    }
   }
  },
  {
   "cell_type": "markdown",
   "source": [
    "The dataset contains information about the IEEE-118 power system with several modifications, which are presented and described in the paper [\"An Extended IEEE 118-Bus Test System With High Renewable Penetration\"](https://ieeexplore.ieee.org/document/7904729).\n",
    "\n",
    "The dataset description given in this notebook is mostly from the paper and from the [FAQ file](../data/raw/nrel118/additional-files-mti-118/FAQ-on-NREL-118.docx).\n",
    "\n",
    "The data were downloaded using [this script](../utils/download_nrel118.py) and stored in several files, which will be explained below."
   ],
   "metadata": {
    "collapsed": false,
    "pycharm": {
     "name": "#%% md\n"
    }
   }
  },
  {
   "cell_type": "code",
   "execution_count": 1,
   "outputs": [],
   "source": [
    "import os\n",
    "\n",
    "import matplotlib.pyplot as plt\n",
    "import numpy as np\n",
    "import pandas as pd\n",
    "import seaborn as sns\n",
    "\n",
    "# To use seaborn style for plots\n",
    "sns.set_style(\"darkgrid\", {\"axes.facecolor\": \".9\"})\n",
    "sns.set_context(\"talk\")\n",
    "sns_palette = sns.color_palette(plt.cm.get_cmap(\"tab20c\").colors)"
   ],
   "metadata": {
    "collapsed": false,
    "pycharm": {
     "name": "#%%\n"
    }
   }
  },
  {
   "cell_type": "code",
   "execution_count": 2,
   "outputs": [
    {
     "name": "stdout",
     "output_type": "stream",
     "text": [
      "Data were downloaded on 07/22/2022 02:27:42 UTC.\n"
     ]
    }
   ],
   "source": [
    "# Read timestamp\n",
    "path_data = os.path.join(\"..\", \"data\", \"raw\", \"nrel118\")\n",
    "with open(os.path.join(path_data, \"timestamp.txt\"), \"r\") as file:\n",
    "    print(f\"Data were downloaded on {file.readline()}.\")"
   ],
   "metadata": {
    "collapsed": false,
    "pycharm": {
     "name": "#%%\n"
    }
   }
  },
  {
   "cell_type": "markdown",
   "source": [
    "## Power System Data"
   ],
   "metadata": {
    "collapsed": false,
    "pycharm": {
     "name": "#%% md\n"
    }
   }
  },
  {
   "cell_type": "code",
   "execution_count": 3,
   "outputs": [],
   "source": [
    "# Path to the folder with power system data\n",
    "power_system_files = os.path.join(path_data, \"additional-files-mti-118\")"
   ],
   "metadata": {
    "collapsed": false,
    "pycharm": {
     "name": "#%%\n"
    }
   }
  },
  {
   "cell_type": "markdown",
   "source": [
    "### Buses"
   ],
   "metadata": {
    "collapsed": false,
    "pycharm": {
     "name": "#%% md\n"
    }
   }
  },
  {
   "cell_type": "markdown",
   "source": [
    "Tha model is based on [IIT 2004 transmission representation](http://motor.ece.iit.edu/data/). However, the NREL-118 system consists of three regions, each of which has a different load profile."
   ],
   "metadata": {
    "collapsed": false,
    "pycharm": {
     "name": "#%% md\n"
    }
   }
  },
  {
   "cell_type": "code",
   "execution_count": 4,
   "outputs": [
    {
     "data": {
      "text/plain": "  Bus Name Region  Load Participation Factor\n0   bus026     R1                   0.000000\n1   bus010     R1                   0.000000\n2   bus025     R1                   0.000000\n3   bus012     R1                   0.043466\n4   bus015     R1                   0.083238",
      "text/html": "<div>\n<style scoped>\n    .dataframe tbody tr th:only-of-type {\n        vertical-align: middle;\n    }\n\n    .dataframe tbody tr th {\n        vertical-align: top;\n    }\n\n    .dataframe thead th {\n        text-align: right;\n    }\n</style>\n<table border=\"1\" class=\"dataframe\">\n  <thead>\n    <tr style=\"text-align: right;\">\n      <th></th>\n      <th>Bus Name</th>\n      <th>Region</th>\n      <th>Load Participation Factor</th>\n    </tr>\n  </thead>\n  <tbody>\n    <tr>\n      <th>0</th>\n      <td>bus026</td>\n      <td>R1</td>\n      <td>0.000000</td>\n    </tr>\n    <tr>\n      <th>1</th>\n      <td>bus010</td>\n      <td>R1</td>\n      <td>0.000000</td>\n    </tr>\n    <tr>\n      <th>2</th>\n      <td>bus025</td>\n      <td>R1</td>\n      <td>0.000000</td>\n    </tr>\n    <tr>\n      <th>3</th>\n      <td>bus012</td>\n      <td>R1</td>\n      <td>0.043466</td>\n    </tr>\n    <tr>\n      <th>4</th>\n      <td>bus015</td>\n      <td>R1</td>\n      <td>0.083238</td>\n    </tr>\n  </tbody>\n</table>\n</div>"
     },
     "execution_count": 4,
     "metadata": {},
     "output_type": "execute_result"
    }
   ],
   "source": [
    "# Load data\n",
    "buses = pd.read_csv(\n",
    "    filepath_or_buffer=os.path.join(power_system_files, \"Buses.csv\"), header=0\n",
    ")\n",
    "buses.head(5)"
   ],
   "metadata": {
    "collapsed": false,
    "pycharm": {
     "name": "#%%\n"
    }
   }
  },
  {
   "cell_type": "code",
   "execution_count": 5,
   "outputs": [
    {
     "name": "stdout",
     "output_type": "stream",
     "text": [
      "The system has 118 buses.\n"
     ]
    }
   ],
   "source": [
    "# Ensure bus names are unique\n",
    "assert buses[\"Bus Name\"].is_unique, \"Bus names are not unique.\"\n",
    "\n",
    "# Get the number of buses\n",
    "print(f\"The system has {len(buses)} buses.\")"
   ],
   "metadata": {
    "collapsed": false,
    "pycharm": {
     "name": "#%%\n"
    }
   }
  },
  {
   "cell_type": "code",
   "execution_count": 6,
   "outputs": [
    {
     "data": {
      "text/plain": "R2    48\nR1    42\nR3    28\nName: Region, dtype: int64"
     },
     "execution_count": 6,
     "metadata": {},
     "output_type": "execute_result"
    }
   ],
   "source": [
    "# Each bus belongs to one of three regions\n",
    "buses[\"Region\"].value_counts()"
   ],
   "metadata": {
    "collapsed": false,
    "pycharm": {
     "name": "#%%\n"
    }
   }
  },
  {
   "cell_type": "markdown",
   "source": [
    "The column \"Load Participation Factor\" means the portion of region load that is placed in the current bus. The factors were also taken from the IIT 2004 system and normalized by region."
   ],
   "metadata": {
    "collapsed": false,
    "pycharm": {
     "name": "#%% md\n"
    }
   }
  },
  {
   "cell_type": "markdown",
   "source": [
    "### Lines"
   ],
   "metadata": {
    "collapsed": false,
    "pycharm": {
     "name": "#%% md\n"
    }
   }
  },
  {
   "cell_type": "markdown",
   "source": [
    "The line characteristics taken from the [IIT 2004 version](http://motor.ece.iit.edu/data/) are the reactance and resistance (p.u.). IIT lines’ maximum flow levels were multiplied by the factor by which total system’s installed capacity increased (x 3.5) and rounded for convenience."
   ],
   "metadata": {
    "collapsed": false,
    "pycharm": {
     "name": "#%% md\n"
    }
   }
  },
  {
   "cell_type": "code",
   "execution_count": 7,
   "outputs": [
    {
     "data": {
      "text/plain": "  Line Name Bus from   Bus to  Max Flow (MW)  Min Flow (MW)  Reactance (p.u.)  \\\n0   line001    bus001  bus002            600           -600           0.09990   \n1   line002    bus001  bus003            600           -600           0.04240   \n2   line003    bus004  bus005           1700          -1700           0.00798   \n3   line004    bus003  bus005            600           -600           0.10800   \n4   line005    bus005  bus006            600           -600           0.05400   \n\n   Resistance (p.u.)  \n0            0.03030  \n1            0.01290  \n2            0.00176  \n3            0.02410  \n4            0.01190  ",
      "text/html": "<div>\n<style scoped>\n    .dataframe tbody tr th:only-of-type {\n        vertical-align: middle;\n    }\n\n    .dataframe tbody tr th {\n        vertical-align: top;\n    }\n\n    .dataframe thead th {\n        text-align: right;\n    }\n</style>\n<table border=\"1\" class=\"dataframe\">\n  <thead>\n    <tr style=\"text-align: right;\">\n      <th></th>\n      <th>Line Name</th>\n      <th>Bus from</th>\n      <th>Bus to</th>\n      <th>Max Flow (MW)</th>\n      <th>Min Flow (MW)</th>\n      <th>Reactance (p.u.)</th>\n      <th>Resistance (p.u.)</th>\n    </tr>\n  </thead>\n  <tbody>\n    <tr>\n      <th>0</th>\n      <td>line001</td>\n      <td>bus001</td>\n      <td>bus002</td>\n      <td>600</td>\n      <td>-600</td>\n      <td>0.09990</td>\n      <td>0.03030</td>\n    </tr>\n    <tr>\n      <th>1</th>\n      <td>line002</td>\n      <td>bus001</td>\n      <td>bus003</td>\n      <td>600</td>\n      <td>-600</td>\n      <td>0.04240</td>\n      <td>0.01290</td>\n    </tr>\n    <tr>\n      <th>2</th>\n      <td>line003</td>\n      <td>bus004</td>\n      <td>bus005</td>\n      <td>1700</td>\n      <td>-1700</td>\n      <td>0.00798</td>\n      <td>0.00176</td>\n    </tr>\n    <tr>\n      <th>3</th>\n      <td>line004</td>\n      <td>bus003</td>\n      <td>bus005</td>\n      <td>600</td>\n      <td>-600</td>\n      <td>0.10800</td>\n      <td>0.02410</td>\n    </tr>\n    <tr>\n      <th>4</th>\n      <td>line005</td>\n      <td>bus005</td>\n      <td>bus006</td>\n      <td>600</td>\n      <td>-600</td>\n      <td>0.05400</td>\n      <td>0.01190</td>\n    </tr>\n  </tbody>\n</table>\n</div>"
     },
     "execution_count": 7,
     "metadata": {},
     "output_type": "execute_result"
    }
   ],
   "source": [
    "# Load data\n",
    "lines = pd.read_csv(\n",
    "    filepath_or_buffer=os.path.join(power_system_files, \"Lines.csv\"), header=0\n",
    ")\n",
    "inter_lines = pd.read_csv(\n",
    "    filepath_or_buffer=os.path.join(power_system_files, \"Interregional lines.csv\"),\n",
    "    header=0,\n",
    ")\n",
    "\n",
    "# The meaning of the columns can be easily obtained from their names\n",
    "lines.head(5)"
   ],
   "metadata": {
    "collapsed": false,
    "pycharm": {
     "name": "#%%\n"
    }
   }
  },
  {
   "cell_type": "code",
   "execution_count": 8,
   "outputs": [
    {
     "name": "stdout",
     "output_type": "stream",
     "text": [
      "The system has 186 lines.\n"
     ]
    }
   ],
   "source": [
    "# Ensure line names are unique\n",
    "assert lines[\"Line Name\"].is_unique, \"Line names are not unique.\"\n",
    "\n",
    "# Get the number of lines\n",
    "print(f\"The system has {len(lines)} lines.\")"
   ],
   "metadata": {
    "collapsed": false,
    "pycharm": {
     "name": "#%%\n"
    }
   }
  },
  {
   "cell_type": "code",
   "execution_count": 9,
   "outputs": [
    {
     "data": {
      "text/plain": "      Line Node From  Node To Region node from Region node to  \\\n0  line001   node001  node002               R1             R1   \n1  line002   node001  node003               R1             R1   \n2  line003   node004  node005               R1             R1   \n3  line004   node003  node005               R1             R1   \n4  line005   node005  node006               R1             R1   \n\n   Is line crossing regions? (1=yes)  Line capacity of inter-regional lines  \n0                                  0                                    NaN  \n1                                  0                                    NaN  \n2                                  0                                    NaN  \n3                                  0                                    NaN  \n4                                  0                                    NaN  ",
      "text/html": "<div>\n<style scoped>\n    .dataframe tbody tr th:only-of-type {\n        vertical-align: middle;\n    }\n\n    .dataframe tbody tr th {\n        vertical-align: top;\n    }\n\n    .dataframe thead th {\n        text-align: right;\n    }\n</style>\n<table border=\"1\" class=\"dataframe\">\n  <thead>\n    <tr style=\"text-align: right;\">\n      <th></th>\n      <th>Line</th>\n      <th>Node From</th>\n      <th>Node To</th>\n      <th>Region node from</th>\n      <th>Region node to</th>\n      <th>Is line crossing regions? (1=yes)</th>\n      <th>Line capacity of inter-regional lines</th>\n    </tr>\n  </thead>\n  <tbody>\n    <tr>\n      <th>0</th>\n      <td>line001</td>\n      <td>node001</td>\n      <td>node002</td>\n      <td>R1</td>\n      <td>R1</td>\n      <td>0</td>\n      <td>NaN</td>\n    </tr>\n    <tr>\n      <th>1</th>\n      <td>line002</td>\n      <td>node001</td>\n      <td>node003</td>\n      <td>R1</td>\n      <td>R1</td>\n      <td>0</td>\n      <td>NaN</td>\n    </tr>\n    <tr>\n      <th>2</th>\n      <td>line003</td>\n      <td>node004</td>\n      <td>node005</td>\n      <td>R1</td>\n      <td>R1</td>\n      <td>0</td>\n      <td>NaN</td>\n    </tr>\n    <tr>\n      <th>3</th>\n      <td>line004</td>\n      <td>node003</td>\n      <td>node005</td>\n      <td>R1</td>\n      <td>R1</td>\n      <td>0</td>\n      <td>NaN</td>\n    </tr>\n    <tr>\n      <th>4</th>\n      <td>line005</td>\n      <td>node005</td>\n      <td>node006</td>\n      <td>R1</td>\n      <td>R1</td>\n      <td>0</td>\n      <td>NaN</td>\n    </tr>\n  </tbody>\n</table>\n</div>"
     },
     "execution_count": 9,
     "metadata": {},
     "output_type": "execute_result"
    }
   ],
   "source": [
    "# This shows which lines are between regions\n",
    "# The meaning of the columns can be easily obtained from their names\n",
    "inter_lines.head(5)"
   ],
   "metadata": {
    "collapsed": false,
    "pycharm": {
     "name": "#%%\n"
    }
   }
  },
  {
   "cell_type": "code",
   "execution_count": 10,
   "outputs": [
    {
     "data": {
      "text/plain": "        Line Node From  Node To Region node from Region node to  \\\n174  line044   node015  node033               R1             R2   \n175  line045   node019  node034               R1             R2   \n176  line054   node030  node038               R1             R2   \n177  line108   node069  node070               R2             R1   \n178  line116   node069  node075               R2             R1   \n179  line120   node075  node077               R1             R2   \n180  line128   node077  node082               R2             R3   \n181  line148   node080  node096               R2             R3   \n182  line157   node096  node097               R3             R2   \n183  line158   node098  node100               R2             R3   \n184  line159   node099  node100               R2             R3   \n185  line185   node075  node118               R1             R2   \n\n     Is line crossing regions? (1=yes)  Line capacity of inter-regional lines  \n174                                  1                                  600.0  \n175                                  1                                  600.0  \n176                                  1                                  600.0  \n177                                  1                                 1700.0  \n178                                  1                                 1700.0  \n179                                  1                                  600.0  \n180                                  1                                  700.0  \n181                                  1                                  600.0  \n182                                  1                                  600.0  \n183                                  1                                  600.0  \n184                                  1                                  600.0  \n185                                  1                                  600.0  ",
      "text/html": "<div>\n<style scoped>\n    .dataframe tbody tr th:only-of-type {\n        vertical-align: middle;\n    }\n\n    .dataframe tbody tr th {\n        vertical-align: top;\n    }\n\n    .dataframe thead th {\n        text-align: right;\n    }\n</style>\n<table border=\"1\" class=\"dataframe\">\n  <thead>\n    <tr style=\"text-align: right;\">\n      <th></th>\n      <th>Line</th>\n      <th>Node From</th>\n      <th>Node To</th>\n      <th>Region node from</th>\n      <th>Region node to</th>\n      <th>Is line crossing regions? (1=yes)</th>\n      <th>Line capacity of inter-regional lines</th>\n    </tr>\n  </thead>\n  <tbody>\n    <tr>\n      <th>174</th>\n      <td>line044</td>\n      <td>node015</td>\n      <td>node033</td>\n      <td>R1</td>\n      <td>R2</td>\n      <td>1</td>\n      <td>600.0</td>\n    </tr>\n    <tr>\n      <th>175</th>\n      <td>line045</td>\n      <td>node019</td>\n      <td>node034</td>\n      <td>R1</td>\n      <td>R2</td>\n      <td>1</td>\n      <td>600.0</td>\n    </tr>\n    <tr>\n      <th>176</th>\n      <td>line054</td>\n      <td>node030</td>\n      <td>node038</td>\n      <td>R1</td>\n      <td>R2</td>\n      <td>1</td>\n      <td>600.0</td>\n    </tr>\n    <tr>\n      <th>177</th>\n      <td>line108</td>\n      <td>node069</td>\n      <td>node070</td>\n      <td>R2</td>\n      <td>R1</td>\n      <td>1</td>\n      <td>1700.0</td>\n    </tr>\n    <tr>\n      <th>178</th>\n      <td>line116</td>\n      <td>node069</td>\n      <td>node075</td>\n      <td>R2</td>\n      <td>R1</td>\n      <td>1</td>\n      <td>1700.0</td>\n    </tr>\n    <tr>\n      <th>179</th>\n      <td>line120</td>\n      <td>node075</td>\n      <td>node077</td>\n      <td>R1</td>\n      <td>R2</td>\n      <td>1</td>\n      <td>600.0</td>\n    </tr>\n    <tr>\n      <th>180</th>\n      <td>line128</td>\n      <td>node077</td>\n      <td>node082</td>\n      <td>R2</td>\n      <td>R3</td>\n      <td>1</td>\n      <td>700.0</td>\n    </tr>\n    <tr>\n      <th>181</th>\n      <td>line148</td>\n      <td>node080</td>\n      <td>node096</td>\n      <td>R2</td>\n      <td>R3</td>\n      <td>1</td>\n      <td>600.0</td>\n    </tr>\n    <tr>\n      <th>182</th>\n      <td>line157</td>\n      <td>node096</td>\n      <td>node097</td>\n      <td>R3</td>\n      <td>R2</td>\n      <td>1</td>\n      <td>600.0</td>\n    </tr>\n    <tr>\n      <th>183</th>\n      <td>line158</td>\n      <td>node098</td>\n      <td>node100</td>\n      <td>R2</td>\n      <td>R3</td>\n      <td>1</td>\n      <td>600.0</td>\n    </tr>\n    <tr>\n      <th>184</th>\n      <td>line159</td>\n      <td>node099</td>\n      <td>node100</td>\n      <td>R2</td>\n      <td>R3</td>\n      <td>1</td>\n      <td>600.0</td>\n    </tr>\n    <tr>\n      <th>185</th>\n      <td>line185</td>\n      <td>node075</td>\n      <td>node118</td>\n      <td>R1</td>\n      <td>R2</td>\n      <td>1</td>\n      <td>600.0</td>\n    </tr>\n  </tbody>\n</table>\n</div>"
     },
     "execution_count": 10,
     "metadata": {},
     "output_type": "execute_result"
    }
   ],
   "source": [
    "# Show only interregional lines\n",
    "inter_lines[inter_lines[\"Is line crossing regions? (1=yes)\"] == 1]"
   ],
   "metadata": {
    "collapsed": false,
    "pycharm": {
     "name": "#%%\n"
    }
   }
  },
  {
   "cell_type": "markdown",
   "source": [
    "### Generators\n"
   ],
   "metadata": {
    "collapsed": false,
    "pycharm": {
     "name": "#%% md\n"
    }
   }
  },
  {
   "cell_type": "markdown",
   "source": [
    "The total electricity generation capacity installed was increased 3.5 times compared to the original IEEE 118 system, but the generation distribution throughout the buses was maintained, after normalizing the participation factors by region.\n",
    "\n",
    "The dataset contains 10 types of generators: steam turbines (ST) powered by coal, gas and other fuels, internal combustion engines (ICE) powered by gas, combustion turbines (CT) powered by gas and oil, gas combined-cycle turbines (CC), photovoltaics (referred simply as solar), hydro and biomass generators, and wind turbines.\n",
    "\n",
    "All the generators have the following parameters: maximum capacity (MW), minimum stable level (MW), heat rate base (MMBTU/h), heat rate increment (BTU/kWh), load point (MW), start cost (\\$), VO&M charge (\\$/MWh), minimum up time (h), minimum down time (h), maximum ramp up (MW/min), maximum ramp down (MW/min)."
   ],
   "metadata": {
    "collapsed": false,
    "pycharm": {
     "name": "#%% md\n"
    }
   }
  },
  {
   "cell_type": "code",
   "execution_count": 11,
   "outputs": [
    {
     "data": {
      "text/plain": "  Generator Name Node of connection         Category  Units  \\\n0     Biomass 01            node012  1. Committed DA    1.0   \n1     Biomass 02            node012  1. Committed DA    1.0   \n2     Biomass 03            node103  1. Committed DA    1.0   \n3     Biomass 04            node103  1. Committed DA    1.0   \n4     Biomass 05            node012  1. Committed DA    1.0   \n\n   Max Capacity (MW)  Commit Data File of Commit Scenario of Commit  \\\n0                3.0     0.0               DA UC                 RT   \n1                3.0     0.0               DA UC                 RT   \n2                1.2     0.0               DA UC                 RT   \n3                1.2     0.0               DA UC                 RT   \n4                1.3     0.0               DA UC                 RT   \n\n   Heat Rate Base (MMBTU/hr)  Heat Rate Inc Band 1 (BTU/kWh)  ...  \\\n0                      10.91                         12120.0  ...   \n1                      10.91                         12120.0  ...   \n2                       4.36                         12120.0  ...   \n3                       4.36                         12120.0  ...   \n4                       4.73                         12120.0  ...   \n\n   Max Ramp Up (MW/min)  Max Ramp Up Penalty ($/MW)  Min Down Time (h)  \\\n0                  0.42                       450.0                1.0   \n1                  0.42                       450.0                1.0   \n2                  0.42                       450.0                1.0   \n3                  0.42                       450.0                1.0   \n4                  0.42                       450.0                6.0   \n\n   Min Up Time (h)  Min Stable Level (MW)  % of min stable level  \\\n0              1.0                   0.90                    30%   \n1              1.0                   0.90                    30%   \n2              1.0                   0.36                    30%   \n3              1.0                   0.36                    30%   \n4              6.0                   0.26                    20%   \n\n   New stable level (MW)  Escalator of Min Stable Level  Start Cost ($)  \\\n0                   0.90                     Biomass 01           15.90   \n1                   0.90                     Biomass 02           15.90   \n2                   0.36                     Biomass 03            6.36   \n3                   0.36                     Biomass 04            6.36   \n4                   0.26                     Biomass 05            6.89   \n\n  VO&M Charge ($/MWh)  \n0                1.91  \n1                1.91  \n2                1.91  \n3                1.91  \n4                1.91  \n\n[5 rows x 32 columns]",
      "text/html": "<div>\n<style scoped>\n    .dataframe tbody tr th:only-of-type {\n        vertical-align: middle;\n    }\n\n    .dataframe tbody tr th {\n        vertical-align: top;\n    }\n\n    .dataframe thead th {\n        text-align: right;\n    }\n</style>\n<table border=\"1\" class=\"dataframe\">\n  <thead>\n    <tr style=\"text-align: right;\">\n      <th></th>\n      <th>Generator Name</th>\n      <th>Node of connection</th>\n      <th>Category</th>\n      <th>Units</th>\n      <th>Max Capacity (MW)</th>\n      <th>Commit</th>\n      <th>Data File of Commit</th>\n      <th>Scenario of Commit</th>\n      <th>Heat Rate Base (MMBTU/hr)</th>\n      <th>Heat Rate Inc Band 1 (BTU/kWh)</th>\n      <th>...</th>\n      <th>Max Ramp Up (MW/min)</th>\n      <th>Max Ramp Up Penalty ($/MW)</th>\n      <th>Min Down Time (h)</th>\n      <th>Min Up Time (h)</th>\n      <th>Min Stable Level (MW)</th>\n      <th>% of min stable level</th>\n      <th>New stable level (MW)</th>\n      <th>Escalator of Min Stable Level</th>\n      <th>Start Cost ($)</th>\n      <th>VO&amp;M Charge ($/MWh)</th>\n    </tr>\n  </thead>\n  <tbody>\n    <tr>\n      <th>0</th>\n      <td>Biomass 01</td>\n      <td>node012</td>\n      <td>1. Committed DA</td>\n      <td>1.0</td>\n      <td>3.0</td>\n      <td>0.0</td>\n      <td>DA UC</td>\n      <td>RT</td>\n      <td>10.91</td>\n      <td>12120.0</td>\n      <td>...</td>\n      <td>0.42</td>\n      <td>450.0</td>\n      <td>1.0</td>\n      <td>1.0</td>\n      <td>0.90</td>\n      <td>30%</td>\n      <td>0.90</td>\n      <td>Biomass 01</td>\n      <td>15.90</td>\n      <td>1.91</td>\n    </tr>\n    <tr>\n      <th>1</th>\n      <td>Biomass 02</td>\n      <td>node012</td>\n      <td>1. Committed DA</td>\n      <td>1.0</td>\n      <td>3.0</td>\n      <td>0.0</td>\n      <td>DA UC</td>\n      <td>RT</td>\n      <td>10.91</td>\n      <td>12120.0</td>\n      <td>...</td>\n      <td>0.42</td>\n      <td>450.0</td>\n      <td>1.0</td>\n      <td>1.0</td>\n      <td>0.90</td>\n      <td>30%</td>\n      <td>0.90</td>\n      <td>Biomass 02</td>\n      <td>15.90</td>\n      <td>1.91</td>\n    </tr>\n    <tr>\n      <th>2</th>\n      <td>Biomass 03</td>\n      <td>node103</td>\n      <td>1. Committed DA</td>\n      <td>1.0</td>\n      <td>1.2</td>\n      <td>0.0</td>\n      <td>DA UC</td>\n      <td>RT</td>\n      <td>4.36</td>\n      <td>12120.0</td>\n      <td>...</td>\n      <td>0.42</td>\n      <td>450.0</td>\n      <td>1.0</td>\n      <td>1.0</td>\n      <td>0.36</td>\n      <td>30%</td>\n      <td>0.36</td>\n      <td>Biomass 03</td>\n      <td>6.36</td>\n      <td>1.91</td>\n    </tr>\n    <tr>\n      <th>3</th>\n      <td>Biomass 04</td>\n      <td>node103</td>\n      <td>1. Committed DA</td>\n      <td>1.0</td>\n      <td>1.2</td>\n      <td>0.0</td>\n      <td>DA UC</td>\n      <td>RT</td>\n      <td>4.36</td>\n      <td>12120.0</td>\n      <td>...</td>\n      <td>0.42</td>\n      <td>450.0</td>\n      <td>1.0</td>\n      <td>1.0</td>\n      <td>0.36</td>\n      <td>30%</td>\n      <td>0.36</td>\n      <td>Biomass 04</td>\n      <td>6.36</td>\n      <td>1.91</td>\n    </tr>\n    <tr>\n      <th>4</th>\n      <td>Biomass 05</td>\n      <td>node012</td>\n      <td>1. Committed DA</td>\n      <td>1.0</td>\n      <td>1.3</td>\n      <td>0.0</td>\n      <td>DA UC</td>\n      <td>RT</td>\n      <td>4.73</td>\n      <td>12120.0</td>\n      <td>...</td>\n      <td>0.42</td>\n      <td>450.0</td>\n      <td>6.0</td>\n      <td>6.0</td>\n      <td>0.26</td>\n      <td>20%</td>\n      <td>0.26</td>\n      <td>Biomass 05</td>\n      <td>6.89</td>\n      <td>1.91</td>\n    </tr>\n  </tbody>\n</table>\n<p>5 rows × 32 columns</p>\n</div>"
     },
     "execution_count": 11,
     "metadata": {},
     "output_type": "execute_result"
    }
   ],
   "source": [
    "# Load data\n",
    "gens = pd.read_csv(\n",
    "    filepath_or_buffer=os.path.join(power_system_files, \"Generators.csv\"),\n",
    "    header=0,\n",
    "    sep=\";\",\n",
    "    decimal=\",\",\n",
    ").dropna(how=\"all\")\n",
    "gens.head(5)"
   ],
   "metadata": {
    "collapsed": false,
    "pycharm": {
     "name": "#%%\n"
    }
   }
  },
  {
   "cell_type": "code",
   "execution_count": 12,
   "outputs": [
    {
     "name": "stdout",
     "output_type": "stream",
     "text": [
      "['Generator Name' 'Node of connection' 'Category' 'Units'\n",
      " 'Max Capacity (MW)' 'Commit' 'Data File of Commit' 'Scenario of Commit'\n",
      " 'Heat Rate Base (MMBTU/hr)' 'Heat Rate Inc Band 1 (BTU/kWh)'\n",
      " 'Heat Rate Inc Band 2 (BTU/kWh)' 'Heat Rate Inc Band 3 (BTU/kWh)'\n",
      " 'Heat Rate Inc Band 4 (BTU/kWh)' 'Heat Rate Inc Band 5 (BTU/kWh)'\n",
      " 'Load Point Band 1 (MW)' 'Load Point Band 2 (MW)'\n",
      " 'Load Point Band 3 (MW)' 'Load Point Band 4 (MW)'\n",
      " 'Load Point Band 5 (MW)' 'Escalator of Load Point (all bands)'\n",
      " 'Max Ramp Down (MW/min)' 'Max Ramp Down Penalty ($/MW)'\n",
      " 'Max Ramp Up (MW/min)' 'Max Ramp Up Penalty ($/MW)' 'Min Down Time (h)'\n",
      " 'Min Up Time (h)' 'Min Stable Level (MW)' '% of min stable level'\n",
      " 'New stable level (MW)' 'Escalator of Min Stable Level' 'Start Cost ($)'\n",
      " 'VO&M Charge ($/MWh)']\n"
     ]
    }
   ],
   "source": [
    "# All generator parameters\n",
    "print(gens.columns.values)"
   ],
   "metadata": {
    "collapsed": false,
    "pycharm": {
     "name": "#%%\n"
    }
   }
  },
  {
   "cell_type": "markdown",
   "source": [
    "Some parameters require explanation:\n",
    "- \"Category\" --- there are five categories here (Committed DA, Committed RT, Solar, Wind, Hydro). Slow generators have to commit in DA, and very fast generators do not need to commit one day ahead of schedule.\n",
    "- \"Units\" --- here each generator corresponds to one unit.\n",
    "- \"Commit\", \"Data File of Commit\", and \"Scenario of Commit\" --- \"Commit\" variable used by [Plexos](https://www.energyexemplar.com/plexos) to understand which generators can commit in which model/market. Commit >= 0 means a hard constraint, commit = 0 (do no commit). Commit =- 1 is the default value, i.e. that unit is left without a hard constraint and can commit freely based on the optimization. See more information about \"Commit\", \"Data File of Commit\", and \"Scenario of Commit\" in the [FAQ](../data/raw/nrel118/additional-files-mti-118/FAQ%20on%20NREL%20118.docx).\n",
    "- \"Escalator of Min Stable Level\" and \"Escalator of Load Point (all bands)\" --- escalators are used to adjust generation profile to seasons, see [Section \"Escalators\"](#escalators)"
   ],
   "metadata": {
    "collapsed": false,
    "pycharm": {
     "name": "#%% md\n"
    }
   }
  },
  {
   "cell_type": "code",
   "execution_count": 13,
   "outputs": [
    {
     "name": "stdout",
     "output_type": "stream",
     "text": [
      "The system has 327 generators.\n"
     ]
    }
   ],
   "source": [
    "# Ensure generator names are unique\n",
    "assert gens[\"Generator Name\"].is_unique, \"Generator names are not unique.\"\n",
    "\n",
    "# Get the number of generators\n",
    "print(f\"The system has {len(gens)} generators.\")"
   ],
   "metadata": {
    "collapsed": false,
    "pycharm": {
     "name": "#%%\n"
    }
   }
  },
  {
   "cell_type": "code",
   "execution_count": 14,
   "outputs": [
    {
     "data": {
      "text/plain": "                 Capacity, MW  Count\nRegion Gen Type                     \nR1     Biomass          58.25     35\n       CC             5812.07     19\n       CT             1579.80     27\n       Hydro             0.80      1\n       ST             1537.20      8\n       Solar          1205.97     33\n       Wind            328.90     13\nR2     Biomass          16.50      4\n       CC             1743.86      7\n       CT              516.90      9\n       Geo              22.00      1\n       Hydro         18643.47     40\n       ICE              50.40      6\n       Solar           444.37      5\nR3     Biomass          40.17     23\n       CC             3436.13     12\n       CT             1549.30     35\n       Hydro             6.00      2\n       ICE               3.25      1\n       ST              978.35      5\n       Solar          1795.43     37\n       Wind            749.00      4",
      "text/html": "<div>\n<style scoped>\n    .dataframe tbody tr th:only-of-type {\n        vertical-align: middle;\n    }\n\n    .dataframe tbody tr th {\n        vertical-align: top;\n    }\n\n    .dataframe thead th {\n        text-align: right;\n    }\n</style>\n<table border=\"1\" class=\"dataframe\">\n  <thead>\n    <tr style=\"text-align: right;\">\n      <th></th>\n      <th></th>\n      <th>Capacity, MW</th>\n      <th>Count</th>\n    </tr>\n    <tr>\n      <th>Region</th>\n      <th>Gen Type</th>\n      <th></th>\n      <th></th>\n    </tr>\n  </thead>\n  <tbody>\n    <tr>\n      <th rowspan=\"7\" valign=\"top\">R1</th>\n      <th>Biomass</th>\n      <td>58.25</td>\n      <td>35</td>\n    </tr>\n    <tr>\n      <th>CC</th>\n      <td>5812.07</td>\n      <td>19</td>\n    </tr>\n    <tr>\n      <th>CT</th>\n      <td>1579.80</td>\n      <td>27</td>\n    </tr>\n    <tr>\n      <th>Hydro</th>\n      <td>0.80</td>\n      <td>1</td>\n    </tr>\n    <tr>\n      <th>ST</th>\n      <td>1537.20</td>\n      <td>8</td>\n    </tr>\n    <tr>\n      <th>Solar</th>\n      <td>1205.97</td>\n      <td>33</td>\n    </tr>\n    <tr>\n      <th>Wind</th>\n      <td>328.90</td>\n      <td>13</td>\n    </tr>\n    <tr>\n      <th rowspan=\"7\" valign=\"top\">R2</th>\n      <th>Biomass</th>\n      <td>16.50</td>\n      <td>4</td>\n    </tr>\n    <tr>\n      <th>CC</th>\n      <td>1743.86</td>\n      <td>7</td>\n    </tr>\n    <tr>\n      <th>CT</th>\n      <td>516.90</td>\n      <td>9</td>\n    </tr>\n    <tr>\n      <th>Geo</th>\n      <td>22.00</td>\n      <td>1</td>\n    </tr>\n    <tr>\n      <th>Hydro</th>\n      <td>18643.47</td>\n      <td>40</td>\n    </tr>\n    <tr>\n      <th>ICE</th>\n      <td>50.40</td>\n      <td>6</td>\n    </tr>\n    <tr>\n      <th>Solar</th>\n      <td>444.37</td>\n      <td>5</td>\n    </tr>\n    <tr>\n      <th rowspan=\"8\" valign=\"top\">R3</th>\n      <th>Biomass</th>\n      <td>40.17</td>\n      <td>23</td>\n    </tr>\n    <tr>\n      <th>CC</th>\n      <td>3436.13</td>\n      <td>12</td>\n    </tr>\n    <tr>\n      <th>CT</th>\n      <td>1549.30</td>\n      <td>35</td>\n    </tr>\n    <tr>\n      <th>Hydro</th>\n      <td>6.00</td>\n      <td>2</td>\n    </tr>\n    <tr>\n      <th>ICE</th>\n      <td>3.25</td>\n      <td>1</td>\n    </tr>\n    <tr>\n      <th>ST</th>\n      <td>978.35</td>\n      <td>5</td>\n    </tr>\n    <tr>\n      <th>Solar</th>\n      <td>1795.43</td>\n      <td>37</td>\n    </tr>\n    <tr>\n      <th>Wind</th>\n      <td>749.00</td>\n      <td>4</td>\n    </tr>\n  </tbody>\n</table>\n</div>"
     },
     "execution_count": 14,
     "metadata": {},
     "output_type": "execute_result"
    }
   ],
   "source": [
    "# Show the distribution of generation by type and region\n",
    "gen_type = gens[\"Generator Name\"].str.split(\" \").str[0].rename(\"Gen Type\").to_frame()\n",
    "gen_type[\"Capacity, MW\"] = gens[\"Max Capacity (MW)\"]\n",
    "bus_regions = buses[[\"Bus Name\", \"Region\"]]\n",
    "bus_regions[\"Bus\"] = (\n",
    "    bus_regions[\"Bus Name\"].str.lstrip(\"bus\").str.lstrip(\"0\").astype(int)\n",
    ")\n",
    "gen_type[\"Bus\"] = (\n",
    "    gens[\"Node of connection\"].str.lstrip(\"node\").str.lstrip(\"0\").astype(int)\n",
    ")\n",
    "gen_type = pd.merge(gen_type, bus_regions[[\"Region\", \"Bus\"]], on=\"Bus\", how=\"left\")\n",
    "gen_type[\"Count\"] = 1\n",
    "gen_stat = pd.pivot_table(\n",
    "    gen_type,\n",
    "    values=[\"Capacity, MW\", \"Count\"],\n",
    "    index=[\"Region\", \"Gen Type\"],\n",
    "    aggfunc=np.sum,\n",
    ")\n",
    "gen_stat"
   ],
   "metadata": {
    "collapsed": false,
    "pycharm": {
     "name": "#%%\n"
    }
   }
  },
  {
   "cell_type": "markdown",
   "source": [
    "### Hydro generators"
   ],
   "metadata": {
    "collapsed": false,
    "pycharm": {
     "name": "#%% md\n"
    }
   }
  },
  {
   "cell_type": "markdown",
   "source": [
    "The model includes 15 dispatchable and 28 non-dispatchable hydro generators.\n",
    "\n",
    "This means that the dispatch level of 15 hydro units is estimated according to the optimal system operation.\n",
    "\n",
    "On the other side, 28 hydro generators are constrained to a fixed generation. Four of the 28 non-dispatchable units (Hydro 36-39) have a fixed load defined per month (presented in this section), and the other 24 non-dispatchable (Hydro 40-43, Hydro 16-35) units have a fixed load defined with a time series file (presented in section [Time-series data](#Time-series-data))."
   ],
   "metadata": {
    "collapsed": false,
    "pycharm": {
     "name": "#%% md\n"
    }
   }
  },
  {
   "cell_type": "code",
   "execution_count": 15,
   "outputs": [
    {
     "data": {
      "text/plain": "   Generator    Property  Value Units  Band  Date From  Date To Timeslice  \\\n20  Hydro 36  Fixed Load   0.51    MW     1        NaN      NaN        M1   \n21  Hydro 36  Fixed Load   0.43    MW     1        NaN      NaN       M10   \n22  Hydro 36  Fixed Load   0.41    MW     1        NaN      NaN       M11   \n23  Hydro 36  Fixed Load   0.41    MW     1        NaN      NaN       M12   \n24  Hydro 36  Fixed Load   0.54    MW     1        NaN      NaN        M2   \n25  Hydro 36  Fixed Load   0.56    MW     1        NaN      NaN        M3   \n26  Hydro 36  Fixed Load   0.69    MW     1        NaN      NaN        M4   \n27  Hydro 36  Fixed Load   0.90    MW     1        NaN      NaN        M5   \n28  Hydro 36  Fixed Load   0.93    MW     1        NaN      NaN        M6   \n29  Hydro 36  Fixed Load   0.90    MW     1        NaN      NaN        M7   \n\n    Escalator Data File  Scenario  Memo Category  \n20        NaN       NaN       NaN   NaN    Hydro  \n21        NaN       NaN       NaN   NaN    Hydro  \n22        NaN       NaN       NaN   NaN    Hydro  \n23        NaN       NaN       NaN   NaN    Hydro  \n24        NaN       NaN       NaN   NaN    Hydro  \n25        NaN       NaN       NaN   NaN    Hydro  \n26        NaN       NaN       NaN   NaN    Hydro  \n27        NaN       NaN       NaN   NaN    Hydro  \n28        NaN       NaN       NaN   NaN    Hydro  \n29        NaN       NaN       NaN   NaN    Hydro  ",
      "text/html": "<div>\n<style scoped>\n    .dataframe tbody tr th:only-of-type {\n        vertical-align: middle;\n    }\n\n    .dataframe tbody tr th {\n        vertical-align: top;\n    }\n\n    .dataframe thead th {\n        text-align: right;\n    }\n</style>\n<table border=\"1\" class=\"dataframe\">\n  <thead>\n    <tr style=\"text-align: right;\">\n      <th></th>\n      <th>Generator</th>\n      <th>Property</th>\n      <th>Value</th>\n      <th>Units</th>\n      <th>Band</th>\n      <th>Date From</th>\n      <th>Date To</th>\n      <th>Timeslice</th>\n      <th>Escalator</th>\n      <th>Data File</th>\n      <th>Scenario</th>\n      <th>Memo</th>\n      <th>Category</th>\n    </tr>\n  </thead>\n  <tbody>\n    <tr>\n      <th>20</th>\n      <td>Hydro 36</td>\n      <td>Fixed Load</td>\n      <td>0.51</td>\n      <td>MW</td>\n      <td>1</td>\n      <td>NaN</td>\n      <td>NaN</td>\n      <td>M1</td>\n      <td>NaN</td>\n      <td>NaN</td>\n      <td>NaN</td>\n      <td>NaN</td>\n      <td>Hydro</td>\n    </tr>\n    <tr>\n      <th>21</th>\n      <td>Hydro 36</td>\n      <td>Fixed Load</td>\n      <td>0.43</td>\n      <td>MW</td>\n      <td>1</td>\n      <td>NaN</td>\n      <td>NaN</td>\n      <td>M10</td>\n      <td>NaN</td>\n      <td>NaN</td>\n      <td>NaN</td>\n      <td>NaN</td>\n      <td>Hydro</td>\n    </tr>\n    <tr>\n      <th>22</th>\n      <td>Hydro 36</td>\n      <td>Fixed Load</td>\n      <td>0.41</td>\n      <td>MW</td>\n      <td>1</td>\n      <td>NaN</td>\n      <td>NaN</td>\n      <td>M11</td>\n      <td>NaN</td>\n      <td>NaN</td>\n      <td>NaN</td>\n      <td>NaN</td>\n      <td>Hydro</td>\n    </tr>\n    <tr>\n      <th>23</th>\n      <td>Hydro 36</td>\n      <td>Fixed Load</td>\n      <td>0.41</td>\n      <td>MW</td>\n      <td>1</td>\n      <td>NaN</td>\n      <td>NaN</td>\n      <td>M12</td>\n      <td>NaN</td>\n      <td>NaN</td>\n      <td>NaN</td>\n      <td>NaN</td>\n      <td>Hydro</td>\n    </tr>\n    <tr>\n      <th>24</th>\n      <td>Hydro 36</td>\n      <td>Fixed Load</td>\n      <td>0.54</td>\n      <td>MW</td>\n      <td>1</td>\n      <td>NaN</td>\n      <td>NaN</td>\n      <td>M2</td>\n      <td>NaN</td>\n      <td>NaN</td>\n      <td>NaN</td>\n      <td>NaN</td>\n      <td>Hydro</td>\n    </tr>\n    <tr>\n      <th>25</th>\n      <td>Hydro 36</td>\n      <td>Fixed Load</td>\n      <td>0.56</td>\n      <td>MW</td>\n      <td>1</td>\n      <td>NaN</td>\n      <td>NaN</td>\n      <td>M3</td>\n      <td>NaN</td>\n      <td>NaN</td>\n      <td>NaN</td>\n      <td>NaN</td>\n      <td>Hydro</td>\n    </tr>\n    <tr>\n      <th>26</th>\n      <td>Hydro 36</td>\n      <td>Fixed Load</td>\n      <td>0.69</td>\n      <td>MW</td>\n      <td>1</td>\n      <td>NaN</td>\n      <td>NaN</td>\n      <td>M4</td>\n      <td>NaN</td>\n      <td>NaN</td>\n      <td>NaN</td>\n      <td>NaN</td>\n      <td>Hydro</td>\n    </tr>\n    <tr>\n      <th>27</th>\n      <td>Hydro 36</td>\n      <td>Fixed Load</td>\n      <td>0.90</td>\n      <td>MW</td>\n      <td>1</td>\n      <td>NaN</td>\n      <td>NaN</td>\n      <td>M5</td>\n      <td>NaN</td>\n      <td>NaN</td>\n      <td>NaN</td>\n      <td>NaN</td>\n      <td>Hydro</td>\n    </tr>\n    <tr>\n      <th>28</th>\n      <td>Hydro 36</td>\n      <td>Fixed Load</td>\n      <td>0.93</td>\n      <td>MW</td>\n      <td>1</td>\n      <td>NaN</td>\n      <td>NaN</td>\n      <td>M6</td>\n      <td>NaN</td>\n      <td>NaN</td>\n      <td>NaN</td>\n      <td>NaN</td>\n      <td>Hydro</td>\n    </tr>\n    <tr>\n      <th>29</th>\n      <td>Hydro 36</td>\n      <td>Fixed Load</td>\n      <td>0.90</td>\n      <td>MW</td>\n      <td>1</td>\n      <td>NaN</td>\n      <td>NaN</td>\n      <td>M7</td>\n      <td>NaN</td>\n      <td>NaN</td>\n      <td>NaN</td>\n      <td>NaN</td>\n      <td>Hydro</td>\n    </tr>\n  </tbody>\n</table>\n</div>"
     },
     "execution_count": 15,
     "metadata": {},
     "output_type": "execute_result"
    }
   ],
   "source": [
    "# Load data\n",
    "hydro = pd.read_csv(\n",
    "    filepath_or_buffer=os.path.join(power_system_files, \"Hydro_nondipatchable.csv\"),\n",
    "    header=0,\n",
    ")\n",
    "\n",
    "hydros_36_39 = hydro[\"Generator\"].isin([\"Hydro 36\", \"Hydro 37\", \"Hydro 38\", \"Hydro 39\"])\n",
    "hydro[hydros_36_39].head(10)"
   ],
   "metadata": {
    "collapsed": false,
    "pycharm": {
     "name": "#%%\n"
    }
   }
  },
  {
   "cell_type": "markdown",
   "source": [
    "### Escalators"
   ],
   "metadata": {
    "collapsed": false,
    "pycharm": {
     "name": "#%% md\n"
    }
   }
  },
  {
   "cell_type": "markdown",
   "source": [
    "Thr escalators are simple multipliers of certain generator characteristics. They are used to adjust a certain generation profile to seasons or other time slices.\n",
    "\n",
    "In this case, escalators adjust minimum stable level, load point and rating, per month. Thus, each of these generator characteristics will be scaled based on the escalator for each month of the year. Escalators are applied to all the generators, except wind, solar and hydro.\n"
   ],
   "metadata": {
    "collapsed": false,
    "pycharm": {
     "name": "#%% md\n"
    }
   }
  },
  {
   "cell_type": "code",
   "execution_count": 16,
   "outputs": [
    {
     "data": {
      "text/plain": "   Escalator   Value Timeslice (month)\n0  Biomass 1  0.3500                M1\n1  Biomass 1  0.3433               M10\n2  Biomass 1  0.3733               M11\n3  Biomass 1  0.3533               M12\n4  Biomass 1  0.3700                M2",
      "text/html": "<div>\n<style scoped>\n    .dataframe tbody tr th:only-of-type {\n        vertical-align: middle;\n    }\n\n    .dataframe tbody tr th {\n        vertical-align: top;\n    }\n\n    .dataframe thead th {\n        text-align: right;\n    }\n</style>\n<table border=\"1\" class=\"dataframe\">\n  <thead>\n    <tr style=\"text-align: right;\">\n      <th></th>\n      <th>Escalator</th>\n      <th>Value</th>\n      <th>Timeslice (month)</th>\n    </tr>\n  </thead>\n  <tbody>\n    <tr>\n      <th>0</th>\n      <td>Biomass 1</td>\n      <td>0.3500</td>\n      <td>M1</td>\n    </tr>\n    <tr>\n      <th>1</th>\n      <td>Biomass 1</td>\n      <td>0.3433</td>\n      <td>M10</td>\n    </tr>\n    <tr>\n      <th>2</th>\n      <td>Biomass 1</td>\n      <td>0.3733</td>\n      <td>M11</td>\n    </tr>\n    <tr>\n      <th>3</th>\n      <td>Biomass 1</td>\n      <td>0.3533</td>\n      <td>M12</td>\n    </tr>\n    <tr>\n      <th>4</th>\n      <td>Biomass 1</td>\n      <td>0.3700</td>\n      <td>M2</td>\n    </tr>\n  </tbody>\n</table>\n</div>"
     },
     "execution_count": 16,
     "metadata": {},
     "output_type": "execute_result"
    }
   ],
   "source": [
    "# Load data\n",
    "escalators = pd.read_csv(\n",
    "    filepath_or_buffer=os.path.join(power_system_files, \"Escalators.csv\"),\n",
    "    header=0,\n",
    ")\n",
    "escalators.head(5)"
   ],
   "metadata": {
    "collapsed": false,
    "pycharm": {
     "name": "#%%\n"
    }
   }
  },
  {
   "cell_type": "markdown",
   "source": [
    "### Fuels"
   ],
   "metadata": {
    "collapsed": false,
    "pycharm": {
     "name": "#%% md\n"
    }
   }
  },
  {
   "cell_type": "markdown",
   "source": [
    "The dataset includes emission rates of carbon dioxide (CO2), nitrogen oxides (NOx), and sulfur oxides (SOx), for each fuel type. One single value of these gas emissions per fuel type is used across the three regions."
   ],
   "metadata": {
    "collapsed": false,
    "pycharm": {
     "name": "#%% md\n"
    }
   }
  },
  {
   "cell_type": "code",
   "execution_count": 17,
   "outputs": [
    {
     "data": {
      "text/plain": "    Unnamed: 0  Fue price ($/MMBTU)  \\\n0         Coal                  1.8   \n1  Natural gas                  5.4   \n2          Oil                 21.0   \n3      Biomass                  2.4   \n4   Geothermal                  0.0   \n\n   CO2 Emissions productiion rate (lb/MMBTU)  \\\n0                                      203.5   \n1                                      118.0   \n2                                      123.1   \n3                                      130.0   \n4                                        0.0   \n\n   NOX emissions production rate (lb/MMBTU)  \\\n0                                  0.382413   \n1                                  0.079000   \n2                                  0.176000   \n3                                  0.176636   \n4                                  0.176636   \n\n   SO2 emissions production rate  (lb/MMBTU)  \n0                                    0.33030  \n1                                    0.00060  \n2                                    0.00579  \n3                                    0.00579  \n4                                    0.00579  ",
      "text/html": "<div>\n<style scoped>\n    .dataframe tbody tr th:only-of-type {\n        vertical-align: middle;\n    }\n\n    .dataframe tbody tr th {\n        vertical-align: top;\n    }\n\n    .dataframe thead th {\n        text-align: right;\n    }\n</style>\n<table border=\"1\" class=\"dataframe\">\n  <thead>\n    <tr style=\"text-align: right;\">\n      <th></th>\n      <th>Unnamed: 0</th>\n      <th>Fue price ($/MMBTU)</th>\n      <th>CO2 Emissions productiion rate (lb/MMBTU)</th>\n      <th>NOX emissions production rate (lb/MMBTU)</th>\n      <th>SO2 emissions production rate  (lb/MMBTU)</th>\n    </tr>\n  </thead>\n  <tbody>\n    <tr>\n      <th>0</th>\n      <td>Coal</td>\n      <td>1.8</td>\n      <td>203.5</td>\n      <td>0.382413</td>\n      <td>0.33030</td>\n    </tr>\n    <tr>\n      <th>1</th>\n      <td>Natural gas</td>\n      <td>5.4</td>\n      <td>118.0</td>\n      <td>0.079000</td>\n      <td>0.00060</td>\n    </tr>\n    <tr>\n      <th>2</th>\n      <td>Oil</td>\n      <td>21.0</td>\n      <td>123.1</td>\n      <td>0.176000</td>\n      <td>0.00579</td>\n    </tr>\n    <tr>\n      <th>3</th>\n      <td>Biomass</td>\n      <td>2.4</td>\n      <td>130.0</td>\n      <td>0.176636</td>\n      <td>0.00579</td>\n    </tr>\n    <tr>\n      <th>4</th>\n      <td>Geothermal</td>\n      <td>0.0</td>\n      <td>0.0</td>\n      <td>0.176636</td>\n      <td>0.00579</td>\n    </tr>\n  </tbody>\n</table>\n</div>"
     },
     "execution_count": 17,
     "metadata": {},
     "output_type": "execute_result"
    }
   ],
   "source": [
    "# Load data\n",
    "fuels = pd.read_csv(\n",
    "    filepath_or_buffer=os.path.join(power_system_files, \"Fuels and emission rates.csv\"),\n",
    "    header=0,\n",
    ")\n",
    "fuels.head(5)"
   ],
   "metadata": {
    "collapsed": false,
    "pycharm": {
     "name": "#%%\n"
    }
   }
  },
  {
   "cell_type": "markdown",
   "source": [
    "### Types of solar and wind plants"
   ],
   "metadata": {
    "collapsed": false,
    "pycharm": {
     "name": "#%% md\n"
    }
   }
  },
  {
   "cell_type": "markdown",
   "source": [
    "Here is the description of types of wind and solar plants which have been chosen so as to be in close geographic proximity to the load zones where they are connected, ensuring that the meteorological conditions which impact load, wind, and solar are consistent.\n",
    "\n",
    "The aggregated wind and solar profiles are comprised of a number of individual wind or solar plants, each of which has an independent time series of power output whose correlation is dependent on the geographic distance between the plants."
   ],
   "metadata": {
    "collapsed": false,
    "pycharm": {
     "name": "#%% md\n"
    }
   }
  },
  {
   "cell_type": "code",
   "execution_count": 18,
   "outputs": [
    {
     "data": {
      "text/plain": "  Name IEEE 118 Zone    Generator Type\n0       Solar 3   R2            DG-BTM\n1       Solar 3   R2            DG-BTM\n2       Solar 3   R2            DG-BTM\n3      Solar 73   R2  SolarPV-Tracking\n4      Solar 74   R2  SolarPV-Tracking\n5      Solar 75   R2  SolarPV-Tracking\n6        Wind 1   R1        WT-Onshore\n7        Wind 2   R1        WT-Onshore\n8      Solar 63   R1  SolarPV-Tracking\n9      Solar 64   R1  SolarPV-Tracking",
      "text/html": "<div>\n<style scoped>\n    .dataframe tbody tr th:only-of-type {\n        vertical-align: middle;\n    }\n\n    .dataframe tbody tr th {\n        vertical-align: top;\n    }\n\n    .dataframe thead th {\n        text-align: right;\n    }\n</style>\n<table border=\"1\" class=\"dataframe\">\n  <thead>\n    <tr style=\"text-align: right;\">\n      <th></th>\n      <th>Name IEEE 118</th>\n      <th>Zone</th>\n      <th>Generator Type</th>\n    </tr>\n  </thead>\n  <tbody>\n    <tr>\n      <th>0</th>\n      <td>Solar 3</td>\n      <td>R2</td>\n      <td>DG-BTM</td>\n    </tr>\n    <tr>\n      <th>1</th>\n      <td>Solar 3</td>\n      <td>R2</td>\n      <td>DG-BTM</td>\n    </tr>\n    <tr>\n      <th>2</th>\n      <td>Solar 3</td>\n      <td>R2</td>\n      <td>DG-BTM</td>\n    </tr>\n    <tr>\n      <th>3</th>\n      <td>Solar 73</td>\n      <td>R2</td>\n      <td>SolarPV-Tracking</td>\n    </tr>\n    <tr>\n      <th>4</th>\n      <td>Solar 74</td>\n      <td>R2</td>\n      <td>SolarPV-Tracking</td>\n    </tr>\n    <tr>\n      <th>5</th>\n      <td>Solar 75</td>\n      <td>R2</td>\n      <td>SolarPV-Tracking</td>\n    </tr>\n    <tr>\n      <th>6</th>\n      <td>Wind 1</td>\n      <td>R1</td>\n      <td>WT-Onshore</td>\n    </tr>\n    <tr>\n      <th>7</th>\n      <td>Wind 2</td>\n      <td>R1</td>\n      <td>WT-Onshore</td>\n    </tr>\n    <tr>\n      <th>8</th>\n      <td>Solar 63</td>\n      <td>R1</td>\n      <td>SolarPV-Tracking</td>\n    </tr>\n    <tr>\n      <th>9</th>\n      <td>Solar 64</td>\n      <td>R1</td>\n      <td>SolarPV-Tracking</td>\n    </tr>\n  </tbody>\n</table>\n</div>"
     },
     "execution_count": 18,
     "metadata": {},
     "output_type": "execute_result"
    }
   ],
   "source": [
    "# Load data\n",
    "location = pd.read_csv(\n",
    "    filepath_or_buffer=os.path.join(\n",
    "        power_system_files, \"Geographical Location Nodes RE IEEE 118.csv\"\n",
    "    ),\n",
    "    header=0,\n",
    ")\n",
    "location.head(10)"
   ],
   "metadata": {
    "collapsed": false,
    "pycharm": {
     "name": "#%%\n"
    }
   }
  },
  {
   "cell_type": "code",
   "execution_count": 19,
   "outputs": [
    {
     "data": {
      "text/plain": "SolarPV-NonTracking    58\nWT-Onshore             17\nSolarPV-Tracking       13\nDG-BTM                 11\nSolarThermal-CSP6       1\nName: Generator Type, dtype: int64"
     },
     "execution_count": 19,
     "metadata": {},
     "output_type": "execute_result"
    }
   ],
   "source": [
    "# Distribution of generator types by location\n",
    "location[\"Generator Type\"].value_counts()"
   ],
   "metadata": {
    "collapsed": false,
    "pycharm": {
     "name": "#%%\n"
    }
   }
  },
  {
   "cell_type": "markdown",
   "source": [
    "Description:\n",
    "- SolarPV-NonTracking --- solar panel that does not have a tracking system to follow the sun and change its position for maximize the power output.\n",
    "- SolarPV-Tracking --- solar panel with tracking system.\n",
    "- SolarThermal-CSP6 --- concentrating solar-thermal power, [here](https://www.energy.gov/eere/solar/concentrating-solar-thermal-power-basics) is the description.\n",
    "- WT-Onshore --- onshore wind turbine located on land driven by the natural movement of the air.\n",
    "- DG-BTM --- distributed generation located on the customer side of the meter (behind the meter).\n",
    "\n"
   ],
   "metadata": {
    "collapsed": false,
    "pycharm": {
     "name": "#%% md\n"
    }
   }
  },
  {
   "cell_type": "markdown",
   "source": [
    "## Time-Series Data"
   ],
   "metadata": {
    "collapsed": false,
    "pycharm": {
     "name": "#%% md\n"
    }
   }
  },
  {
   "cell_type": "code",
   "execution_count": 20,
   "outputs": [],
   "source": [
    "time_series_files = os.path.join(path_data, \"Input files\")"
   ],
   "metadata": {
    "collapsed": false,
    "pycharm": {
     "name": "#%%# Path to the folder with power system data\n"
    }
   }
  },
  {
   "cell_type": "code",
   "execution_count": null,
   "outputs": [],
   "source": [
    "def show_ts_data_plot(data: pd.DataFrame, plot_name: str) -> plt:\n",
    "    \"\"\"Build plot for time-series data.\n",
    "\n",
    "    Args:\n",
    "        data: dataframe with datetime and value columns\n",
    "        plot_name: name of plot.\n",
    "\n",
    "    Returns:\n",
    "        Matplotlib plot.\n",
    "    \"\"\"\n",
    "    fig, ax = plt.subplots(figsize=(15, 8))\n",
    "    sns.lineplot(data=data, x=\"datetime\", y=\"value\", palette=sns_palette, ax=ax)\n",
    "    ax.set_ylabel(\"Value\")\n",
    "    ax.set_xlabel(\"Date\")\n",
    "    ax.set_title(plot_name)"
   ],
   "metadata": {
    "collapsed": false,
    "pycharm": {
     "name": "#%%\n"
    }
   }
  },
  {
   "cell_type": "markdown",
   "source": [
    "### Day-ahead and real-time forecasts"
   ],
   "metadata": {
    "collapsed": false,
    "pycharm": {
     "name": "#%% md\n"
    }
   }
  },
  {
   "cell_type": "markdown",
   "source": [
    "The dataset contains one year of time-synchronous hourly actuals (i.e. real time, RT) of wind power, solar power, and load. Also, one year of time-synchronous hourly day-ahead (DA) forecasts of wind power, solar power, and load are also provided.\n",
    "\n",
    "Load data are synthetic load data obtained from neural net regressions with 1980-2012 input weather and load data. Wind data are provided by the Wind Toolkit, while solar data is provided by the National Solar Radiation Data Base (NSRDB)."
   ],
   "metadata": {
    "collapsed": false,
    "pycharm": {
     "name": "#%% md\n"
    }
   }
  },
  {
   "cell_type": "code",
   "execution_count": null,
   "outputs": [],
   "source": [
    "# The structure of files is the same of RT and DA forecast\n",
    "# So, let's show only RT data\n",
    "rt_ts_path = os.path.join(time_series_files, \"RT\")"
   ],
   "metadata": {
    "collapsed": false,
    "pycharm": {
     "name": "#%%\n"
    }
   }
  },
  {
   "cell_type": "markdown",
   "source": [
    "#### Load"
   ],
   "metadata": {
    "collapsed": false,
    "pycharm": {
     "name": "#%% md\n"
    }
   }
  },
  {
   "cell_type": "code",
   "execution_count": null,
   "outputs": [],
   "source": [
    "load_rt_ts_path = os.path.join(rt_ts_path, \"Load\")\n",
    "load_rt_ts_files = os.listdir(load_rt_ts_path)\n",
    "print(load_rt_ts_files)"
   ],
   "metadata": {
    "collapsed": false,
    "pycharm": {
     "name": "#%%\n"
    }
   }
  },
  {
   "cell_type": "code",
   "execution_count": null,
   "outputs": [],
   "source": [
    "load_R2_rt_ts = pd.read_csv(\n",
    "    filepath_or_buffer=os.path.join(load_rt_ts_path, \"LoadR2RT.csv\"), header=0\n",
    ")\n",
    "load_R2_rt_ts.head(10)"
   ],
   "metadata": {
    "collapsed": false,
    "pycharm": {
     "name": "#%%\n"
    }
   }
  },
  {
   "cell_type": "code",
   "execution_count": null,
   "outputs": [],
   "source": [
    "# Show change of load\n",
    "load_R2_rt_ts.columns = [col.lower() for col in load_R2_rt_ts.columns]\n",
    "load_R2_rt_ts[\"datetime\"] = pd.to_datetime(load_R2_rt_ts[\"datetime\"])\n",
    "load_R2_rt_ts_per_day = load_R2_rt_ts.resample(\"D\", on=\"datetime\").mean()\n",
    "show_ts_data_plot(load_R2_rt_ts_per_day, \"Day average of Load R2\")"
   ],
   "metadata": {
    "collapsed": false,
    "pycharm": {
     "name": "#%%\n"
    }
   }
  },
  {
   "cell_type": "markdown",
   "source": [
    "#### Solar"
   ],
   "metadata": {
    "collapsed": false,
    "pycharm": {
     "name": "#%% md\n"
    }
   }
  },
  {
   "cell_type": "code",
   "execution_count": null,
   "outputs": [],
   "source": [
    "solar_rt_ts_path = os.path.join(rt_ts_path, \"Solar\")\n",
    "solar_rt_ts_files = os.listdir(solar_rt_ts_path)\n",
    "print(solar_rt_ts_files)"
   ],
   "metadata": {
    "collapsed": false,
    "pycharm": {
     "name": "#%%\n"
    }
   }
  },
  {
   "cell_type": "code",
   "execution_count": null,
   "outputs": [],
   "source": [
    "solar_10_rt_ts = pd.read_csv(\n",
    "    filepath_or_buffer=os.path.join(solar_rt_ts_path, \"Solar10RT.csv\"), header=0\n",
    ")\n",
    "solar_10_rt_ts.head(10)"
   ],
   "metadata": {
    "collapsed": false,
    "pycharm": {
     "name": "#%%\n"
    }
   }
  },
  {
   "cell_type": "code",
   "execution_count": null,
   "outputs": [],
   "source": [
    "# Show change of output\n",
    "solar_10_rt_ts.columns = [col.lower() for col in solar_10_rt_ts.columns]\n",
    "solar_10_rt_ts[\"datetime\"] = pd.to_datetime(solar_10_rt_ts[\"datetime\"])\n",
    "solar_10_rt_ts_per_day = solar_10_rt_ts.resample(\"D\", on=\"datetime\").mean()\n",
    "show_ts_data_plot(solar_10_rt_ts_per_day, \"Day average of Solar 10 output\")"
   ],
   "metadata": {
    "collapsed": false,
    "pycharm": {
     "name": "#%%\n"
    }
   }
  },
  {
   "cell_type": "markdown",
   "source": [
    "#### Wind"
   ],
   "metadata": {
    "collapsed": false,
    "pycharm": {
     "name": "#%% md\n"
    }
   }
  },
  {
   "cell_type": "code",
   "execution_count": null,
   "outputs": [],
   "source": [
    "wind_rt_ts_path = os.path.join(rt_ts_path, \"Wind\")\n",
    "wind_rt_ts_files = os.listdir(wind_rt_ts_path)\n",
    "print(wind_rt_ts_files)"
   ],
   "metadata": {
    "collapsed": false,
    "pycharm": {
     "name": "#%%\n"
    }
   }
  },
  {
   "cell_type": "code",
   "execution_count": null,
   "outputs": [],
   "source": [
    "wind_7_rt_ts = pd.read_csv(\n",
    "    filepath_or_buffer=os.path.join(wind_rt_ts_path, \"Wind7RT.csv\"), header=0\n",
    ")\n",
    "wind_7_rt_ts.head(10)"
   ],
   "metadata": {
    "collapsed": false,
    "pycharm": {
     "name": "#%%\n"
    }
   }
  },
  {
   "cell_type": "code",
   "execution_count": null,
   "outputs": [],
   "source": [
    "# Show change of output\n",
    "wind_7_rt_ts.columns = [col.lower() for col in wind_7_rt_ts.columns]\n",
    "wind_7_rt_ts[\"datetime\"] = pd.to_datetime(wind_7_rt_ts[\"datetime\"])\n",
    "wind_7_rt_ts_per_day = wind_7_rt_ts.resample(\"D\", on=\"datetime\").mean()\n",
    "show_ts_data_plot(wind_7_rt_ts_per_day, \"Day average of Wind 7 output\")"
   ],
   "metadata": {
    "collapsed": false,
    "pycharm": {
     "name": "#%%\n"
    }
   }
  },
  {
   "cell_type": "markdown",
   "source": [
    "### Hydro power plants"
   ],
   "metadata": {
    "collapsed": false,
    "pycharm": {
     "name": "#%% md\n"
    }
   }
  },
  {
   "cell_type": "markdown",
   "source": [
    "Here is the output of 24 non-dispatchable hydro plants on an hourly basis. Other 4 non-dispatchable units (Hydro 36-39) have a fixed load defined per month ([presented earlier](#Hydro-generators)), and the dispatch level of 15 hydro units (Hydro 1-15) is estimated according to the optimal system operation."
   ],
   "metadata": {
    "collapsed": false,
    "pycharm": {
     "name": "#%% md\n"
    }
   }
  },
  {
   "cell_type": "code",
   "execution_count": null,
   "outputs": [],
   "source": [
    "hydro_ts_path = os.path.join(time_series_files, \"Hydro\")\n",
    "hydro_ts_files = os.listdir(hydro_ts_path)\n",
    "print(hydro_ts_files)"
   ],
   "metadata": {
    "collapsed": false,
    "pycharm": {
     "name": "#%%\n"
    }
   }
  },
  {
   "cell_type": "code",
   "execution_count": null,
   "outputs": [],
   "source": [
    "hydro_21_ts = pd.read_csv(\n",
    "    filepath_or_buffer=os.path.join(hydro_ts_path, \"Hydro 21.csv\"), header=0\n",
    ")\n",
    "hydro_21_ts.head(10)"
   ],
   "metadata": {
    "collapsed": false,
    "pycharm": {
     "name": "#%%\n"
    }
   }
  },
  {
   "cell_type": "code",
   "execution_count": null,
   "outputs": [],
   "source": [
    "# Show change of output\n",
    "hydro_21_ts.columns = [col.lower() for col in hydro_21_ts.columns]\n",
    "hydro_21_ts[\"datetime\"] = pd.to_datetime(hydro_21_ts[\"datetime\"])\n",
    "hydro_21_ts_per_day = hydro_21_ts.resample(\"D\", on=\"datetime\").mean()\n",
    "show_ts_data_plot(hydro_21_ts_per_day, \"Day average of Hydro 21 output\")"
   ],
   "metadata": {
    "collapsed": false,
    "pycharm": {
     "name": "#%%\n"
    }
   }
  },
  {
   "cell_type": "markdown",
   "source": [
    "### Fuel prices"
   ],
   "metadata": {
    "collapsed": false,
    "pycharm": {
     "name": "#%% md\n"
    }
   }
  },
  {
   "cell_type": "markdown",
   "source": [
    "Here is the information about fuel costs per month per region."
   ],
   "metadata": {
    "collapsed": false,
    "pycharm": {
     "name": "#%% md\n"
    }
   }
  },
  {
   "cell_type": "code",
   "execution_count": 35,
   "outputs": [
    {
     "data": {
      "text/plain": "   Datetime  Coal R1  Oil Distillate R1  Oil Distillate R2  Biomass R1  \\\n0     1-Jan      1.8                 21                 21         2.4   \n1     1-Feb      1.8                 21                 21         2.4   \n2     1-Mar      1.8                 21                 21         2.4   \n3     1-Apr      1.8                 21                 21         2.4   \n4     1-May      1.8                 21                 21         2.4   \n5     1-Jun      1.8                 21                 21         2.4   \n6     1-Jul      1.8                 21                 21         2.4   \n7     1-Aug      1.8                 21                 21         2.4   \n8     1-Sep      1.8                 21                 21         2.4   \n9     1-Oct      1.8                 21                 21         2.4   \n10    1-Nov      1.8                 21                 21         2.4   \n11    1-Dec      1.8                 21                 21         2.4   \n\n    Biomass R2  Biomass R3  Natural Gas R1  Natural Gas R2  Natural Gas R3  \\\n0          2.4         2.4             5.4             5.4             5.4   \n1          2.4         2.4             5.4             5.4             5.4   \n2          2.4         2.4             5.4             5.4             5.4   \n3          2.4         2.4             5.4             5.4             5.4   \n4          2.4         2.4             5.4             5.4             5.4   \n5          2.4         2.4             5.4             5.4             5.4   \n6          2.4         2.4             5.4             5.4             5.4   \n7          2.4         2.4             5.4             5.4             5.4   \n8          2.4         2.4             5.4             5.4             5.4   \n9          2.4         2.4             5.4             5.4             5.4   \n10         2.4         2.4             5.4             5.4             5.4   \n11         2.4         2.4             5.4             5.4             5.4   \n\n    Geo R1  \n0        0  \n1        0  \n2        0  \n3        0  \n4        0  \n5        0  \n6        0  \n7        0  \n8        0  \n9        0  \n10       0  \n11       0  ",
      "text/html": "<div>\n<style scoped>\n    .dataframe tbody tr th:only-of-type {\n        vertical-align: middle;\n    }\n\n    .dataframe tbody tr th {\n        vertical-align: top;\n    }\n\n    .dataframe thead th {\n        text-align: right;\n    }\n</style>\n<table border=\"1\" class=\"dataframe\">\n  <thead>\n    <tr style=\"text-align: right;\">\n      <th></th>\n      <th>Datetime</th>\n      <th>Coal R1</th>\n      <th>Oil Distillate R1</th>\n      <th>Oil Distillate R2</th>\n      <th>Biomass R1</th>\n      <th>Biomass R2</th>\n      <th>Biomass R3</th>\n      <th>Natural Gas R1</th>\n      <th>Natural Gas R2</th>\n      <th>Natural Gas R3</th>\n      <th>Geo R1</th>\n    </tr>\n  </thead>\n  <tbody>\n    <tr>\n      <th>0</th>\n      <td>1-Jan</td>\n      <td>1.8</td>\n      <td>21</td>\n      <td>21</td>\n      <td>2.4</td>\n      <td>2.4</td>\n      <td>2.4</td>\n      <td>5.4</td>\n      <td>5.4</td>\n      <td>5.4</td>\n      <td>0</td>\n    </tr>\n    <tr>\n      <th>1</th>\n      <td>1-Feb</td>\n      <td>1.8</td>\n      <td>21</td>\n      <td>21</td>\n      <td>2.4</td>\n      <td>2.4</td>\n      <td>2.4</td>\n      <td>5.4</td>\n      <td>5.4</td>\n      <td>5.4</td>\n      <td>0</td>\n    </tr>\n    <tr>\n      <th>2</th>\n      <td>1-Mar</td>\n      <td>1.8</td>\n      <td>21</td>\n      <td>21</td>\n      <td>2.4</td>\n      <td>2.4</td>\n      <td>2.4</td>\n      <td>5.4</td>\n      <td>5.4</td>\n      <td>5.4</td>\n      <td>0</td>\n    </tr>\n    <tr>\n      <th>3</th>\n      <td>1-Apr</td>\n      <td>1.8</td>\n      <td>21</td>\n      <td>21</td>\n      <td>2.4</td>\n      <td>2.4</td>\n      <td>2.4</td>\n      <td>5.4</td>\n      <td>5.4</td>\n      <td>5.4</td>\n      <td>0</td>\n    </tr>\n    <tr>\n      <th>4</th>\n      <td>1-May</td>\n      <td>1.8</td>\n      <td>21</td>\n      <td>21</td>\n      <td>2.4</td>\n      <td>2.4</td>\n      <td>2.4</td>\n      <td>5.4</td>\n      <td>5.4</td>\n      <td>5.4</td>\n      <td>0</td>\n    </tr>\n    <tr>\n      <th>5</th>\n      <td>1-Jun</td>\n      <td>1.8</td>\n      <td>21</td>\n      <td>21</td>\n      <td>2.4</td>\n      <td>2.4</td>\n      <td>2.4</td>\n      <td>5.4</td>\n      <td>5.4</td>\n      <td>5.4</td>\n      <td>0</td>\n    </tr>\n    <tr>\n      <th>6</th>\n      <td>1-Jul</td>\n      <td>1.8</td>\n      <td>21</td>\n      <td>21</td>\n      <td>2.4</td>\n      <td>2.4</td>\n      <td>2.4</td>\n      <td>5.4</td>\n      <td>5.4</td>\n      <td>5.4</td>\n      <td>0</td>\n    </tr>\n    <tr>\n      <th>7</th>\n      <td>1-Aug</td>\n      <td>1.8</td>\n      <td>21</td>\n      <td>21</td>\n      <td>2.4</td>\n      <td>2.4</td>\n      <td>2.4</td>\n      <td>5.4</td>\n      <td>5.4</td>\n      <td>5.4</td>\n      <td>0</td>\n    </tr>\n    <tr>\n      <th>8</th>\n      <td>1-Sep</td>\n      <td>1.8</td>\n      <td>21</td>\n      <td>21</td>\n      <td>2.4</td>\n      <td>2.4</td>\n      <td>2.4</td>\n      <td>5.4</td>\n      <td>5.4</td>\n      <td>5.4</td>\n      <td>0</td>\n    </tr>\n    <tr>\n      <th>9</th>\n      <td>1-Oct</td>\n      <td>1.8</td>\n      <td>21</td>\n      <td>21</td>\n      <td>2.4</td>\n      <td>2.4</td>\n      <td>2.4</td>\n      <td>5.4</td>\n      <td>5.4</td>\n      <td>5.4</td>\n      <td>0</td>\n    </tr>\n    <tr>\n      <th>10</th>\n      <td>1-Nov</td>\n      <td>1.8</td>\n      <td>21</td>\n      <td>21</td>\n      <td>2.4</td>\n      <td>2.4</td>\n      <td>2.4</td>\n      <td>5.4</td>\n      <td>5.4</td>\n      <td>5.4</td>\n      <td>0</td>\n    </tr>\n    <tr>\n      <th>11</th>\n      <td>1-Dec</td>\n      <td>1.8</td>\n      <td>21</td>\n      <td>21</td>\n      <td>2.4</td>\n      <td>2.4</td>\n      <td>2.4</td>\n      <td>5.4</td>\n      <td>5.4</td>\n      <td>5.4</td>\n      <td>0</td>\n    </tr>\n  </tbody>\n</table>\n</div>"
     },
     "execution_count": 35,
     "metadata": {},
     "output_type": "execute_result"
    }
   ],
   "source": [
    "fuel_prices_path = os.path.join(time_series_files, \"Others\", \"Fuel prices 2024.csv\")\n",
    "fuel_prices = pd.read_csv(filepath_or_buffer=fuel_prices_path, header=0)\n",
    "fuel_prices.head(12)"
   ],
   "metadata": {
    "collapsed": false,
    "pycharm": {
     "name": "#%%\n"
    }
   }
  },
  {
   "cell_type": "markdown",
   "source": [
    "### Generator outages"
   ],
   "metadata": {
    "collapsed": false,
    "pycharm": {
     "name": "#%% md\n"
    }
   }
  },
  {
   "cell_type": "markdown",
   "source": [
    "The file shows the month, day and hour at which such unit was out of operation with either a forced Outage or maintenance. Value of 1 = true (i.e. out of service) for that hour."
   ],
   "metadata": {
    "collapsed": false,
    "pycharm": {
     "name": "#%% md\n"
    }
   }
  },
  {
   "cell_type": "code",
   "execution_count": 36,
   "outputs": [
    {
     "data": {
      "text/plain": "         Name  Year  Month  Day  Period  Value\n0  Biomass 01  2023     12   31      24      0\n1  Biomass 01  2024      1   14      15      1\n2  Biomass 01  2024      1   16       5      0\n3  Biomass 01  2024      2    1      17      1\n4  Biomass 01  2024      2    3       7      0",
      "text/html": "<div>\n<style scoped>\n    .dataframe tbody tr th:only-of-type {\n        vertical-align: middle;\n    }\n\n    .dataframe tbody tr th {\n        vertical-align: top;\n    }\n\n    .dataframe thead th {\n        text-align: right;\n    }\n</style>\n<table border=\"1\" class=\"dataframe\">\n  <thead>\n    <tr style=\"text-align: right;\">\n      <th></th>\n      <th>Name</th>\n      <th>Year</th>\n      <th>Month</th>\n      <th>Day</th>\n      <th>Period</th>\n      <th>Value</th>\n    </tr>\n  </thead>\n  <tbody>\n    <tr>\n      <th>0</th>\n      <td>Biomass 01</td>\n      <td>2023</td>\n      <td>12</td>\n      <td>31</td>\n      <td>24</td>\n      <td>0</td>\n    </tr>\n    <tr>\n      <th>1</th>\n      <td>Biomass 01</td>\n      <td>2024</td>\n      <td>1</td>\n      <td>14</td>\n      <td>15</td>\n      <td>1</td>\n    </tr>\n    <tr>\n      <th>2</th>\n      <td>Biomass 01</td>\n      <td>2024</td>\n      <td>1</td>\n      <td>16</td>\n      <td>5</td>\n      <td>0</td>\n    </tr>\n    <tr>\n      <th>3</th>\n      <td>Biomass 01</td>\n      <td>2024</td>\n      <td>2</td>\n      <td>1</td>\n      <td>17</td>\n      <td>1</td>\n    </tr>\n    <tr>\n      <th>4</th>\n      <td>Biomass 01</td>\n      <td>2024</td>\n      <td>2</td>\n      <td>3</td>\n      <td>7</td>\n      <td>0</td>\n    </tr>\n  </tbody>\n</table>\n</div>"
     },
     "execution_count": 36,
     "metadata": {},
     "output_type": "execute_result"
    }
   ],
   "source": [
    "gen_outputs_path = os.path.join(time_series_files, \"Others\", \"GenOut.csv\")\n",
    "gen_outputs = pd.read_csv(filepath_or_buffer=gen_outputs_path, header=0)\n",
    "gen_outputs.head(5)"
   ],
   "metadata": {
    "collapsed": false,
    "pycharm": {
     "name": "#%%fuel_prices_path = os.path.join(time_series_files, \"Others\", \"Fuel prices 2024.csv\")\n"
    }
   }
  },
  {
   "cell_type": "markdown",
   "source": [
    "## Plexos Models"
   ],
   "metadata": {
    "collapsed": false,
    "pycharm": {
     "name": "#%% md\n"
    }
   }
  },
  {
   "cell_type": "markdown",
   "source": [
    "The dataset also contains [Plexos model as plexos file](../data/raw/nrel118/mti-118-mt-da-rt-da-rt-reserves-all-generators.xml) and [Plexos model as .xls file](../data/raw/nrel118/plexos-export.xls). These files were included with the intention that users of this test-bed can run the model, compare results and verify that they have set their system appropriately."
   ],
   "metadata": {
    "collapsed": false,
    "pycharm": {
     "name": "#%% md\n"
    }
   }
  }
 ],
 "metadata": {
  "kernelspec": {
   "display_name": "Python 3",
   "language": "python",
   "name": "python3"
  },
  "language_info": {
   "codemirror_mode": {
    "name": "ipython",
    "version": 2
   },
   "file_extension": ".py",
   "mimetype": "text/x-python",
   "name": "python",
   "nbconvert_exporter": "python",
   "pygments_lexer": "ipython2",
   "version": "2.7.6"
  }
 },
 "nbformat": 4,
 "nbformat_minor": 0
}